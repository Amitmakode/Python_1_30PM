{
 "cells": [
  {
   "cell_type": "code",
   "execution_count": 2,
   "id": "387465a7-4cf9-4624-b680-cf25942a585b",
   "metadata": {},
   "outputs": [],
   "source": [
    "f = open(\"textfile.txt\", \"w\")"
   ]
  },
  {
   "cell_type": "code",
   "execution_count": 3,
   "id": "107fa63e-52b2-4de4-b0c2-04ed2e2bd058",
   "metadata": {},
   "outputs": [
    {
     "data": {
      "text/plain": [
       "238"
      ]
     },
     "execution_count": 3,
     "metadata": {},
     "output_type": "execute_result"
    }
   ],
   "source": [
    "f.write(\"\"\"This “Date and Time” exercise aims to help Python \n",
    "\\ndevelopers learn and practice frequently occurring \n",
    "\\nDateTime-related problems. Here,\n",
    "\\nI am providing 10 date and time coding problems to \n",
    "\\nsolve to help you brush up your coding skills.\"\"\")"
   ]
  },
  {
   "cell_type": "code",
   "execution_count": 5,
   "id": "254c0a8e-8b04-47db-ba58-d25e3c08dd55",
   "metadata": {},
   "outputs": [],
   "source": [
    "f.close()"
   ]
  },
  {
   "cell_type": "code",
   "execution_count": 7,
   "id": "236152af-6643-4b7b-90dc-5540b867adeb",
   "metadata": {},
   "outputs": [],
   "source": [
    "f1 =open(\"textfile.txt\", \"r+\")"
   ]
  },
  {
   "cell_type": "code",
   "execution_count": 8,
   "id": "670c7cd5-5932-4177-88fa-9ea4933b5052",
   "metadata": {},
   "outputs": [
    {
     "data": {
      "text/plain": [
       "30"
      ]
     },
     "execution_count": 8,
     "metadata": {},
     "output_type": "execute_result"
    }
   ],
   "source": [
    "f1.seek(30)"
   ]
  },
  {
   "cell_type": "code",
   "execution_count": 9,
   "id": "9238cae2-3020-45c6-863d-5bd5e5e262e3",
   "metadata": {},
   "outputs": [
    {
     "data": {
      "text/plain": [
       "26"
      ]
     },
     "execution_count": 9,
     "metadata": {},
     "output_type": "execute_result"
    }
   ],
   "source": [
    "f1.write(\"$$$$$$$$$$$$$$$$$$$$$$$$$$\")"
   ]
  },
  {
   "cell_type": "code",
   "execution_count": 10,
   "id": "2f049b96-7460-4d5c-8b10-67e4094d753b",
   "metadata": {},
   "outputs": [
    {
     "data": {
      "text/plain": [
       "'velopers learn and practice frequently occurring \\n\\nDateTime-related problems. Here,\\n\\nI am providing 10 date and time coding problems to \\n\\nsolve to help you brush up your coding skills.'"
      ]
     },
     "execution_count": 10,
     "metadata": {},
     "output_type": "execute_result"
    }
   ],
   "source": [
    "f1.read()"
   ]
  },
  {
   "cell_type": "code",
   "execution_count": 11,
   "id": "baedd2e1-98d1-4e09-b432-7762acb96a2a",
   "metadata": {},
   "outputs": [],
   "source": [
    "f1.close()"
   ]
  },
  {
   "cell_type": "code",
   "execution_count": 12,
   "id": "9a6c0d06-e2b0-4715-af3b-777edbd11f73",
   "metadata": {},
   "outputs": [],
   "source": [
    "f2 = open(\"textfile.txt\", \"r+\")"
   ]
  },
  {
   "cell_type": "code",
   "execution_count": 13,
   "id": "f61d1af6-e9f4-4c0f-8c81-c3f421c90b90",
   "metadata": {},
   "outputs": [
    {
     "data": {
      "text/plain": [
       "0"
      ]
     },
     "execution_count": 13,
     "metadata": {},
     "output_type": "execute_result"
    }
   ],
   "source": [
    "f2.tell()"
   ]
  },
  {
   "cell_type": "code",
   "execution_count": 14,
   "id": "4259de1c-b643-4a65-be1b-377d3d53f57e",
   "metadata": {},
   "outputs": [
    {
     "data": {
      "text/plain": [
       "'This “Date and Time” exercise $$$$$$$$$$$$$$$$$$$$$$$$$$velopers learn and practice frequently occurring \\n'"
      ]
     },
     "execution_count": 14,
     "metadata": {},
     "output_type": "execute_result"
    }
   ],
   "source": [
    "f2.readline()"
   ]
  },
  {
   "cell_type": "code",
   "execution_count": 15,
   "id": "cd609eab-7093-4e73-aec7-f5d3cf38e933",
   "metadata": {},
   "outputs": [
    {
     "data": {
      "text/plain": [
       "['\\n',\n",
       " 'DateTime-related problems. Here,\\n',\n",
       " '\\n',\n",
       " 'I am providing 10 date and time coding problems to \\n',\n",
       " '\\n',\n",
       " 'solve to help you brush up your coding skills.']"
      ]
     },
     "execution_count": 15,
     "metadata": {},
     "output_type": "execute_result"
    }
   ],
   "source": [
    "f2.readlines()"
   ]
  },
  {
   "cell_type": "code",
   "execution_count": 16,
   "id": "98b3f0b0-066a-4f75-86ac-0116449846c7",
   "metadata": {},
   "outputs": [
    {
     "data": {
      "text/plain": [
       "''"
      ]
     },
     "execution_count": 16,
     "metadata": {},
     "output_type": "execute_result"
    }
   ],
   "source": [
    "f2.read()"
   ]
  },
  {
   "cell_type": "code",
   "execution_count": 17,
   "id": "65d6585f-ec1b-4e0e-8086-55ece32464f2",
   "metadata": {},
   "outputs": [
    {
     "data": {
      "text/plain": [
       "10"
      ]
     },
     "execution_count": 17,
     "metadata": {},
     "output_type": "execute_result"
    }
   ],
   "source": [
    "f2.seek(10)"
   ]
  },
  {
   "cell_type": "code",
   "execution_count": 18,
   "id": "90df49f3-ee2a-4b49-a451-3a1d0c401e41",
   "metadata": {},
   "outputs": [
    {
     "data": {
      "text/plain": [
       "' and Time” exercise $$$$$$$$$$$$$$$$$$$$$$$$$$velopers learn and practice frequently occurring \\n\\nDateTime-related problems. Here,\\n\\nI am providing 10 date and time coding problems to \\n\\nsolve to help you brush up your coding skills.'"
      ]
     },
     "execution_count": 18,
     "metadata": {},
     "output_type": "execute_result"
    }
   ],
   "source": [
    "f2.read()"
   ]
  },
  {
   "cell_type": "code",
   "execution_count": 19,
   "id": "8e1f2878-e203-4a49-b56b-5ebf607ad25f",
   "metadata": {},
   "outputs": [],
   "source": [
    "f2.close()"
   ]
  },
  {
   "cell_type": "code",
   "execution_count": 20,
   "id": "dc07404f-1e86-4b67-9a80-9efa9e393301",
   "metadata": {},
   "outputs": [],
   "source": [
    "#### Writes a list of strings to the file."
   ]
  },
  {
   "cell_type": "code",
   "execution_count": 21,
   "id": "0ef8ecd1-113a-4d10-a9fb-027ce01f782b",
   "metadata": {},
   "outputs": [],
   "source": [
    "lines = [\"Line 1\\n\", \"Line 2\\n\", \"Line 3\\n\"]\n",
    "file = open(\"example.txt\", \"w\")\n",
    "file.writelines(lines)\n",
    "file.close()"
   ]
  },
  {
   "cell_type": "code",
   "execution_count": null,
   "id": "1a9a9bfa-c8d4-4aea-8922-92c9f9a9b2a5",
   "metadata": {},
   "outputs": [],
   "source": []
  },
  {
   "cell_type": "code",
   "execution_count": null,
   "id": "df99c18f-9546-4351-92ed-ce6643b46143",
   "metadata": {},
   "outputs": [],
   "source": []
  },
  {
   "cell_type": "code",
   "execution_count": 22,
   "id": "31076dec-72de-4238-a913-f37c295c8c85",
   "metadata": {},
   "outputs": [],
   "source": [
    "import os"
   ]
  },
  {
   "cell_type": "code",
   "execution_count": 23,
   "id": "41f90a36-2680-4741-91a7-dc65dce5ada3",
   "metadata": {},
   "outputs": [
    {
     "data": {
      "text/plain": [
       "'C:\\\\Users\\\\amitm\\\\Class\\\\Python_1_30_PM'"
      ]
     },
     "execution_count": 23,
     "metadata": {},
     "output_type": "execute_result"
    }
   ],
   "source": [
    "os.getcwd()"
   ]
  },
  {
   "cell_type": "code",
   "execution_count": 24,
   "id": "64c0fc5e-3904-42d9-b8ea-7085e4031b7a",
   "metadata": {},
   "outputs": [
    {
     "data": {
      "text/plain": [
       "['.ipynb_checkpoints',\n",
       " 'Built-in Functions.ipynb',\n",
       " 'Conditions.ipynb',\n",
       " 'demo.txt',\n",
       " 'demo1.txt',\n",
       " 'Dict.ipynb',\n",
       " 'example.txt',\n",
       " 'file handling with OS.ipynb',\n",
       " 'File handling.ipynb',\n",
       " 'Loop.ipynb',\n",
       " 'newfile.txt',\n",
       " 'newfile1.txt',\n",
       " 'newfile10.txt',\n",
       " 'newfile2.txt',\n",
       " 'newfile3.txt',\n",
       " 'newfile4.txt',\n",
       " 'newfile5.txt',\n",
       " 'newfile6.txt',\n",
       " 'newfile7.txt',\n",
       " 'newfile8.txt',\n",
       " 'newfile9.txt',\n",
       " 'textfile.txt',\n",
       " 'Try_Except.ipynb',\n",
       " 'UDF_2.ipynb',\n",
       " 'Untitled.ipynb',\n",
       " 'User Define Function.ipynb']"
      ]
     },
     "execution_count": 24,
     "metadata": {},
     "output_type": "execute_result"
    }
   ],
   "source": [
    "os.listdir()"
   ]
  },
  {
   "cell_type": "code",
   "execution_count": 26,
   "id": "a5840ad4-1a86-4528-862a-6bd7f1eba160",
   "metadata": {},
   "outputs": [],
   "source": [
    "os.chdir(\"C:\\\\Users\\\\amitm\\\\Downloads\")"
   ]
  },
  {
   "cell_type": "code",
   "execution_count": 27,
   "id": "8bc8afff-d92b-4cbd-b0c2-5763d4095943",
   "metadata": {},
   "outputs": [
    {
     "data": {
      "text/plain": [
       "'C:\\\\Users\\\\amitm\\\\Downloads'"
      ]
     },
     "execution_count": 27,
     "metadata": {},
     "output_type": "execute_result"
    }
   ],
   "source": [
    "os.getcwd()"
   ]
  },
  {
   "cell_type": "code",
   "execution_count": 28,
   "id": "1cb9c509-4424-47db-942e-b92cf9b0dca6",
   "metadata": {},
   "outputs": [
    {
     "data": {
      "text/plain": [
       "['02. financial_dataset.csv',\n",
       " '12. Decision Tree.pdf',\n",
       " '3 sem marksheet.pdf',\n",
       " 'Advertising.csv',\n",
       " 'desktop.ini',\n",
       " 'exports-to-oceanic-countries.csv',\n",
       " 'Helio clinic',\n",
       " 'Job Description.pdf',\n",
       " 'textfile (1).txt',\n",
       " 'textfile (2).txt',\n",
       " 'textfile.txt',\n",
       " 'top_50_commodities_full_data.xls',\n",
       " 'Trainers Interview Feedback.xlsx',\n",
       " 'VTU-Tracks Curriculum Final.xlsx']"
      ]
     },
     "execution_count": 28,
     "metadata": {},
     "output_type": "execute_result"
    }
   ],
   "source": [
    "os.listdir()"
   ]
  },
  {
   "cell_type": "code",
   "execution_count": 29,
   "id": "31ae593f-9938-48ec-8e2b-01e81d4a1430",
   "metadata": {},
   "outputs": [],
   "source": [
    "os.mkdir(\"newfolder\")"
   ]
  },
  {
   "cell_type": "code",
   "execution_count": 30,
   "id": "75774f21-11f7-485d-a85e-bb15321c3c27",
   "metadata": {},
   "outputs": [
    {
     "data": {
      "text/plain": [
       "['02. financial_dataset.csv',\n",
       " '12. Decision Tree.pdf',\n",
       " '3 sem marksheet.pdf',\n",
       " 'Advertising.csv',\n",
       " 'desktop.ini',\n",
       " 'exports-to-oceanic-countries.csv',\n",
       " 'Helio clinic',\n",
       " 'Job Description.pdf',\n",
       " 'newfolder',\n",
       " 'textfile (1).txt',\n",
       " 'textfile (2).txt',\n",
       " 'textfile.txt',\n",
       " 'top_50_commodities_full_data.xls',\n",
       " 'Trainers Interview Feedback.xlsx',\n",
       " 'VTU-Tracks Curriculum Final.xlsx']"
      ]
     },
     "execution_count": 30,
     "metadata": {},
     "output_type": "execute_result"
    }
   ],
   "source": [
    "os.listdir()"
   ]
  },
  {
   "cell_type": "code",
   "execution_count": 31,
   "id": "40f1de30-0e49-48cd-a049-42cba9f588af",
   "metadata": {},
   "outputs": [],
   "source": [
    "os.chdir('C:\\\\Users\\\\amitm\\\\Downloads\\\\newfolder')"
   ]
  },
  {
   "cell_type": "code",
   "execution_count": 32,
   "id": "ba7a3452-eb07-44af-8ced-85bccfe33e06",
   "metadata": {},
   "outputs": [
    {
     "data": {
      "text/plain": [
       "'C:\\\\Users\\\\amitm\\\\Downloads\\\\newfolder'"
      ]
     },
     "execution_count": 32,
     "metadata": {},
     "output_type": "execute_result"
    }
   ],
   "source": [
    "os.getcwd()"
   ]
  },
  {
   "cell_type": "code",
   "execution_count": 33,
   "id": "1a1e7084-2697-446d-8702-e83dbf02ceb9",
   "metadata": {},
   "outputs": [
    {
     "data": {
      "text/plain": [
       "[]"
      ]
     },
     "execution_count": 33,
     "metadata": {},
     "output_type": "execute_result"
    }
   ],
   "source": [
    "os.listdir()"
   ]
  },
  {
   "cell_type": "code",
   "execution_count": 34,
   "id": "f7d5238f-ea07-48c6-bc68-d314e67d2e9c",
   "metadata": {},
   "outputs": [
    {
     "name": "stdout",
     "output_type": "stream",
     "text": [
      "Writing text.txt\n"
     ]
    }
   ],
   "source": [
    "%%writefile text.txt\n",
    "top_50_commodities_full_data.xls\n",
    "Trainers Interview Feedback.xlsx\n",
    "VTU-Tracks Curriculum Final.xlsx"
   ]
  },
  {
   "cell_type": "code",
   "execution_count": 35,
   "id": "d89bba70-c8ca-4168-a8aa-3ca1203f0de3",
   "metadata": {},
   "outputs": [
    {
     "data": {
      "text/plain": [
       "['text.txt']"
      ]
     },
     "execution_count": 35,
     "metadata": {},
     "output_type": "execute_result"
    }
   ],
   "source": [
    "os.listdir()"
   ]
  },
  {
   "cell_type": "code",
   "execution_count": 36,
   "id": "e7fccd14-1fe1-47bb-83ec-9b032924d558",
   "metadata": {},
   "outputs": [],
   "source": [
    "os.remove(\"text.txt\")"
   ]
  },
  {
   "cell_type": "code",
   "execution_count": 37,
   "id": "47b213cf-70b4-4250-a3df-cc03ce5693c9",
   "metadata": {},
   "outputs": [
    {
     "data": {
      "text/plain": [
       "[]"
      ]
     },
     "execution_count": 37,
     "metadata": {},
     "output_type": "execute_result"
    }
   ],
   "source": [
    "os.listdir()"
   ]
  },
  {
   "cell_type": "code",
   "execution_count": 38,
   "id": "659ea3d2-6d93-4a88-8453-b99931a282ab",
   "metadata": {},
   "outputs": [],
   "source": [
    "os.chdir('C:\\\\Users\\\\amitm\\\\Downloads')"
   ]
  },
  {
   "cell_type": "code",
   "execution_count": 39,
   "id": "fd1c9c78-22b7-4c19-ae27-1b950e5ba469",
   "metadata": {},
   "outputs": [
    {
     "data": {
      "text/plain": [
       "['02. financial_dataset.csv',\n",
       " '12. Decision Tree.pdf',\n",
       " '3 sem marksheet.pdf',\n",
       " 'Advertising.csv',\n",
       " 'desktop.ini',\n",
       " 'exports-to-oceanic-countries.csv',\n",
       " 'Helio clinic',\n",
       " 'Job Description.pdf',\n",
       " 'newfolder',\n",
       " 'textfile (1).txt',\n",
       " 'textfile (2).txt',\n",
       " 'textfile.txt',\n",
       " 'top_50_commodities_full_data.xls',\n",
       " 'Trainers Interview Feedback.xlsx',\n",
       " 'VTU-Tracks Curriculum Final.xlsx']"
      ]
     },
     "execution_count": 39,
     "metadata": {},
     "output_type": "execute_result"
    }
   ],
   "source": [
    "os.listdir()"
   ]
  },
  {
   "cell_type": "code",
   "execution_count": 40,
   "id": "81036d80-d69e-45d2-b706-d8285f92152d",
   "metadata": {},
   "outputs": [],
   "source": [
    "os.rmdir(\"newfolder\")"
   ]
  },
  {
   "cell_type": "code",
   "execution_count": 41,
   "id": "54b296f0-a941-4124-8ff7-db6ea5460775",
   "metadata": {},
   "outputs": [
    {
     "data": {
      "text/plain": [
       "['02. financial_dataset.csv',\n",
       " '12. Decision Tree.pdf',\n",
       " '3 sem marksheet.pdf',\n",
       " 'Advertising.csv',\n",
       " 'desktop.ini',\n",
       " 'exports-to-oceanic-countries.csv',\n",
       " 'Helio clinic',\n",
       " 'Job Description.pdf',\n",
       " 'textfile (1).txt',\n",
       " 'textfile (2).txt',\n",
       " 'textfile.txt',\n",
       " 'top_50_commodities_full_data.xls',\n",
       " 'Trainers Interview Feedback.xlsx',\n",
       " 'VTU-Tracks Curriculum Final.xlsx']"
      ]
     },
     "execution_count": 41,
     "metadata": {},
     "output_type": "execute_result"
    }
   ],
   "source": [
    "os.listdir()"
   ]
  },
  {
   "cell_type": "code",
   "execution_count": 42,
   "id": "7d0ebde7-5453-4a74-85b0-21f4ed43c395",
   "metadata": {},
   "outputs": [],
   "source": [
    "os.rename('textfile.txt', \"'textfile101.txt\")"
   ]
  },
  {
   "cell_type": "code",
   "execution_count": 43,
   "id": "bb62907b-2e7f-468b-99af-1de43d2d222f",
   "metadata": {},
   "outputs": [
    {
     "data": {
      "text/plain": [
       "[\"'textfile101.txt\",\n",
       " '02. financial_dataset.csv',\n",
       " '12. Decision Tree.pdf',\n",
       " '3 sem marksheet.pdf',\n",
       " 'Advertising.csv',\n",
       " 'desktop.ini',\n",
       " 'exports-to-oceanic-countries.csv',\n",
       " 'Helio clinic',\n",
       " 'Job Description.pdf',\n",
       " 'textfile (1).txt',\n",
       " 'textfile (2).txt',\n",
       " 'top_50_commodities_full_data.xls',\n",
       " 'Trainers Interview Feedback.xlsx',\n",
       " 'VTU-Tracks Curriculum Final.xlsx']"
      ]
     },
     "execution_count": 43,
     "metadata": {},
     "output_type": "execute_result"
    }
   ],
   "source": [
    "os.listdir()"
   ]
  },
  {
   "cell_type": "code",
   "execution_count": 44,
   "id": "1502a9fe-2133-4d5d-83b9-a3f5911fae4f",
   "metadata": {},
   "outputs": [
    {
     "name": "stdout",
     "output_type": "stream",
     "text": [
      "True\n"
     ]
    }
   ],
   "source": [
    "print(os.path.exists(\"'textfile101.txt\")) "
   ]
  },
  {
   "cell_type": "code",
   "execution_count": 47,
   "id": "03e764f6-77cb-4b8e-ba12-a43170f3b3eb",
   "metadata": {},
   "outputs": [
    {
     "name": "stdout",
     "output_type": "stream",
     "text": [
      "('C:\\\\Users\\\\amitm\\\\Downloads', 'textfile101.txt')\n"
     ]
    }
   ],
   "source": [
    "print(os.path.split('C:\\\\Users\\\\amitm\\\\Downloads\\\\textfile101.txt'))"
   ]
  },
  {
   "cell_type": "code",
   "execution_count": 48,
   "id": "b71be670-a517-40a5-9116-9ca257bd1d76",
   "metadata": {},
   "outputs": [
    {
     "name": "stdout",
     "output_type": "stream",
     "text": [
      "('textfile101', '.txt')\n"
     ]
    }
   ],
   "source": [
    "print(os.path.splitext(\"textfile101.txt\"))"
   ]
  },
  {
   "cell_type": "code",
   "execution_count": 49,
   "id": "1edd8033-064b-44c7-84ad-39a399e0914d",
   "metadata": {},
   "outputs": [
    {
     "name": "stdout",
     "output_type": "stream",
     "text": [
      "8\n"
     ]
    }
   ],
   "source": [
    "print(os.cpu_count())"
   ]
  },
  {
   "cell_type": "code",
   "execution_count": 50,
   "id": "1fb104ad-7931-4e95-9cc5-fab1f28fc9ae",
   "metadata": {},
   "outputs": [
    {
     "data": {
      "text/plain": [
       "'C:\\\\Users\\\\amitm\\\\Downloads'"
      ]
     },
     "execution_count": 50,
     "metadata": {},
     "output_type": "execute_result"
    }
   ],
   "source": [
    "os.getcwd()"
   ]
  },
  {
   "cell_type": "code",
   "execution_count": 51,
   "id": "61298118-3f90-40e8-bfc0-513039a81293",
   "metadata": {},
   "outputs": [],
   "source": [
    "os.chdir('C:\\\\Users\\\\amitm\\\\Class\\\\Python_1_30_PM')"
   ]
  },
  {
   "cell_type": "code",
   "execution_count": 52,
   "id": "8fffe770-146a-4518-8f3b-5641f8e300fb",
   "metadata": {},
   "outputs": [
    {
     "data": {
      "text/plain": [
       "'C:\\\\Users\\\\amitm\\\\Class\\\\Python_1_30_PM'"
      ]
     },
     "execution_count": 52,
     "metadata": {},
     "output_type": "execute_result"
    }
   ],
   "source": [
    "os.getcwd()"
   ]
  },
  {
   "cell_type": "code",
   "execution_count": 53,
   "id": "29fda585-546d-4cae-ad6b-7a2f1ad5fabf",
   "metadata": {},
   "outputs": [
    {
     "data": {
      "text/plain": [
       "['.ipynb_checkpoints',\n",
       " 'Built-in Functions.ipynb',\n",
       " 'Conditions.ipynb',\n",
       " 'demo.txt',\n",
       " 'demo1.txt',\n",
       " 'Dict.ipynb',\n",
       " 'example.txt',\n",
       " 'file handling with OS.ipynb',\n",
       " 'File handling.ipynb',\n",
       " 'Loop.ipynb',\n",
       " 'newfile.txt',\n",
       " 'newfile1.txt',\n",
       " 'newfile10.txt',\n",
       " 'newfile2.txt',\n",
       " 'newfile3.txt',\n",
       " 'newfile4.txt',\n",
       " 'newfile5.txt',\n",
       " 'newfile6.txt',\n",
       " 'newfile7.txt',\n",
       " 'newfile8.txt',\n",
       " 'newfile9.txt',\n",
       " 'textfile.txt',\n",
       " 'Try_Except.ipynb',\n",
       " 'UDF_2.ipynb',\n",
       " 'Untitled.ipynb',\n",
       " 'User Define Function.ipynb']"
      ]
     },
     "execution_count": 53,
     "metadata": {},
     "output_type": "execute_result"
    }
   ],
   "source": [
    "os.listdir()"
   ]
  },
  {
   "cell_type": "code",
   "execution_count": 54,
   "id": "86b97a03-05af-4115-b684-bf8cfde132e4",
   "metadata": {},
   "outputs": [
    {
     "name": "stdout",
     "output_type": "stream",
     "text": [
      "Deleted newfile1.txt\n",
      "Deleted newfile2.txt\n",
      "Deleted newfile3.txt\n",
      "Deleted newfile4.txt\n",
      "Deleted newfile5.txt\n",
      "Deleted newfile6.txt\n",
      "Deleted newfile7.txt\n",
      "Deleted newfile8.txt\n",
      "Deleted newfile9.txt\n",
      "Deleted newfile10.txt\n",
      "newfile11.txt does not exist\n",
      "newfile12.txt does not exist\n"
     ]
    }
   ],
   "source": [
    "for i in range(1, 13):\n",
    "    file_name = f'newfile{i}.txt'\n",
    "    if os.path.exists(file_name):\n",
    "        os.remove(file_name)\n",
    "        print(f'Deleted {file_name}')\n",
    "    else:\n",
    "        print(f'{file_name} does not exist')"
   ]
  },
  {
   "cell_type": "code",
   "execution_count": 55,
   "id": "792202e9-10d5-4cc7-9d36-bc08d688f14e",
   "metadata": {},
   "outputs": [
    {
     "data": {
      "text/plain": [
       "['.ipynb_checkpoints',\n",
       " 'Built-in Functions.ipynb',\n",
       " 'Conditions.ipynb',\n",
       " 'demo.txt',\n",
       " 'demo1.txt',\n",
       " 'Dict.ipynb',\n",
       " 'example.txt',\n",
       " 'file handling with OS.ipynb',\n",
       " 'File handling.ipynb',\n",
       " 'Loop.ipynb',\n",
       " 'newfile.txt',\n",
       " 'textfile.txt',\n",
       " 'Try_Except.ipynb',\n",
       " 'UDF_2.ipynb',\n",
       " 'Untitled.ipynb',\n",
       " 'User Define Function.ipynb']"
      ]
     },
     "execution_count": 55,
     "metadata": {},
     "output_type": "execute_result"
    }
   ],
   "source": [
    "os.listdir()"
   ]
  },
  {
   "cell_type": "code",
   "execution_count": null,
   "id": "e883aaa0-1409-465c-b9b1-a8d28a355f50",
   "metadata": {},
   "outputs": [],
   "source": []
  }
 ],
 "metadata": {
  "kernelspec": {
   "display_name": "Python 3 (ipykernel)",
   "language": "python",
   "name": "python3"
  },
  "language_info": {
   "codemirror_mode": {
    "name": "ipython",
    "version": 3
   },
   "file_extension": ".py",
   "mimetype": "text/x-python",
   "name": "python",
   "nbconvert_exporter": "python",
   "pygments_lexer": "ipython3",
   "version": "3.11.7"
  }
 },
 "nbformat": 4,
 "nbformat_minor": 5
}
