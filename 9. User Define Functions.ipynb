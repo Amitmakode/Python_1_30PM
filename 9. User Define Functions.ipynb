{
 "cells": [
  {
   "cell_type": "markdown",
   "id": "da15946e-1f93-4cba-8a82-9edb60f4dd45",
   "metadata": {},
   "source": [
    "## User Define Function"
   ]
  },
  {
   "cell_type": "code",
   "execution_count": null,
   "id": "3dedeef2-17f5-4251-ae69-b1f66bd1864b",
   "metadata": {},
   "outputs": [],
   "source": [
    "positional argument \n",
    "non keyword argument\n",
    "keyword argument "
   ]
  },
  {
   "cell_type": "code",
   "execution_count": 6,
   "id": "f076ac31-5aa8-4bd2-80a4-d7451b853646",
   "metadata": {},
   "outputs": [
    {
     "ename": "TypeError",
     "evalue": "len() takes exactly one argument (2 given)",
     "output_type": "error",
     "traceback": [
      "\u001b[1;31m---------------------------------------------------------------------------\u001b[0m",
      "\u001b[1;31mTypeError\u001b[0m                                 Traceback (most recent call last)",
      "Cell \u001b[1;32mIn[6], line 1\u001b[0m\n\u001b[1;32m----> 1\u001b[0m \u001b[38;5;28mlen\u001b[39m(\u001b[38;5;124m\"\u001b[39m\u001b[38;5;124mjava\u001b[39m\u001b[38;5;124m\"\u001b[39m, \u001b[38;5;124m\"\u001b[39m\u001b[38;5;124mC\u001b[39m\u001b[38;5;124m\"\u001b[39m)\n",
      "\u001b[1;31mTypeError\u001b[0m: len() takes exactly one argument (2 given)"
     ]
    }
   ],
   "source": [
    "len(\"java\", \"C\")"
   ]
  },
  {
   "cell_type": "code",
   "execution_count": 2,
   "id": "6df90e0f-fda8-484b-85f6-662d11e42089",
   "metadata": {},
   "outputs": [
    {
     "ename": "TypeError",
     "evalue": "len() takes exactly one argument (0 given)",
     "output_type": "error",
     "traceback": [
      "\u001b[1;31m---------------------------------------------------------------------------\u001b[0m",
      "\u001b[1;31mTypeError\u001b[0m                                 Traceback (most recent call last)",
      "Cell \u001b[1;32mIn[2], line 1\u001b[0m\n\u001b[1;32m----> 1\u001b[0m \u001b[38;5;28mlen\u001b[39m()\n",
      "\u001b[1;31mTypeError\u001b[0m: len() takes exactly one argument (0 given)"
     ]
    }
   ],
   "source": [
    "len()"
   ]
  },
  {
   "cell_type": "code",
   "execution_count": 3,
   "id": "e1694550-bac6-4837-b21d-96da16e3dd57",
   "metadata": {},
   "outputs": [
    {
     "ename": "TypeError",
     "evalue": "type() takes 1 or 3 arguments",
     "output_type": "error",
     "traceback": [
      "\u001b[1;31m---------------------------------------------------------------------------\u001b[0m",
      "\u001b[1;31mTypeError\u001b[0m                                 Traceback (most recent call last)",
      "Cell \u001b[1;32mIn[3], line 1\u001b[0m\n\u001b[1;32m----> 1\u001b[0m \u001b[38;5;28mtype\u001b[39m()\n",
      "\u001b[1;31mTypeError\u001b[0m: type() takes 1 or 3 arguments"
     ]
    }
   ],
   "source": [
    "type()"
   ]
  },
  {
   "cell_type": "code",
   "execution_count": 7,
   "id": "7929eb1a-017a-47aa-9020-398a527c454c",
   "metadata": {},
   "outputs": [
    {
     "name": "stdout",
     "output_type": "stream",
     "text": [
      "c++ java\n"
     ]
    }
   ],
   "source": [
    "print(\"c++\", \"java\")"
   ]
  },
  {
   "cell_type": "code",
   "execution_count": 8,
   "id": "313f3c4b-db37-4543-bf15-6afa0f2e0732",
   "metadata": {},
   "outputs": [],
   "source": [
    "def fun1():\n",
    "    return 3"
   ]
  },
  {
   "cell_type": "code",
   "execution_count": 9,
   "id": "8d0be8a6-929d-4b70-8f07-0ecd610d7d9f",
   "metadata": {},
   "outputs": [
    {
     "data": {
      "text/plain": [
       "3"
      ]
     },
     "execution_count": 9,
     "metadata": {},
     "output_type": "execute_result"
    }
   ],
   "source": [
    "fun1()"
   ]
  },
  {
   "cell_type": "code",
   "execution_count": 10,
   "id": "2b0dc1ec-5a52-438e-a914-8e894236462b",
   "metadata": {},
   "outputs": [
    {
     "ename": "TypeError",
     "evalue": "fun1() takes 0 positional arguments but 1 was given",
     "output_type": "error",
     "traceback": [
      "\u001b[1;31m---------------------------------------------------------------------------\u001b[0m",
      "\u001b[1;31mTypeError\u001b[0m                                 Traceback (most recent call last)",
      "Cell \u001b[1;32mIn[10], line 1\u001b[0m\n\u001b[1;32m----> 1\u001b[0m fun1(\u001b[38;5;241m34\u001b[39m)\n",
      "\u001b[1;31mTypeError\u001b[0m: fun1() takes 0 positional arguments but 1 was given"
     ]
    }
   ],
   "source": [
    "fun1(34)"
   ]
  },
  {
   "cell_type": "code",
   "execution_count": 11,
   "id": "77b2cec4-5d4b-442b-8d3b-596a019ceb6c",
   "metadata": {},
   "outputs": [],
   "source": [
    "def fun2(a):\n",
    "    return a**3"
   ]
  },
  {
   "cell_type": "code",
   "execution_count": 12,
   "id": "623f0aab-7129-4540-a411-1329ad6f5b1e",
   "metadata": {},
   "outputs": [
    {
     "ename": "TypeError",
     "evalue": "fun2() missing 1 required positional argument: 'a'",
     "output_type": "error",
     "traceback": [
      "\u001b[1;31m---------------------------------------------------------------------------\u001b[0m",
      "\u001b[1;31mTypeError\u001b[0m                                 Traceback (most recent call last)",
      "Cell \u001b[1;32mIn[12], line 1\u001b[0m\n\u001b[1;32m----> 1\u001b[0m fun2()\n",
      "\u001b[1;31mTypeError\u001b[0m: fun2() missing 1 required positional argument: 'a'"
     ]
    }
   ],
   "source": [
    "fun2()"
   ]
  },
  {
   "cell_type": "code",
   "execution_count": 14,
   "id": "6cb5c0e3-8b9d-4611-ad11-bcca18e2dcce",
   "metadata": {},
   "outputs": [],
   "source": [
    "def fun3(*args):\n",
    "    return args"
   ]
  },
  {
   "cell_type": "code",
   "execution_count": 15,
   "id": "cbb0df36-f13d-4b38-9354-50b26fac11ab",
   "metadata": {},
   "outputs": [
    {
     "data": {
      "text/plain": [
       "()"
      ]
     },
     "execution_count": 15,
     "metadata": {},
     "output_type": "execute_result"
    }
   ],
   "source": [
    "fun3()"
   ]
  },
  {
   "cell_type": "code",
   "execution_count": 18,
   "id": "250daf04-0b68-4a12-9684-d5b17fcd197c",
   "metadata": {},
   "outputs": [
    {
     "data": {
      "text/plain": [
       "(34, 'xyz', [1, 2, 3])"
      ]
     },
     "execution_count": 18,
     "metadata": {},
     "output_type": "execute_result"
    }
   ],
   "source": [
    "fun3(34, \"xyz\", [1,2,3])"
   ]
  },
  {
   "cell_type": "code",
   "execution_count": 20,
   "id": "161c3db2-b035-4798-ade1-153e7ea6b6f7",
   "metadata": {},
   "outputs": [],
   "source": [
    "def fun4(**kwargs):\n",
    "    return kwargs"
   ]
  },
  {
   "cell_type": "code",
   "execution_count": 22,
   "id": "f6875d05-0c8d-4949-ae04-a8a7326c8546",
   "metadata": {},
   "outputs": [
    {
     "data": {
      "text/plain": [
       "{}"
      ]
     },
     "execution_count": 22,
     "metadata": {},
     "output_type": "execute_result"
    }
   ],
   "source": [
    "fun4()"
   ]
  },
  {
   "cell_type": "code",
   "execution_count": 23,
   "id": "529500cf-f4c6-4efc-bd3a-273c53b3a764",
   "metadata": {},
   "outputs": [
    {
     "ename": "TypeError",
     "evalue": "fun4() takes 0 positional arguments but 1 was given",
     "output_type": "error",
     "traceback": [
      "\u001b[1;31m---------------------------------------------------------------------------\u001b[0m",
      "\u001b[1;31mTypeError\u001b[0m                                 Traceback (most recent call last)",
      "Cell \u001b[1;32mIn[23], line 1\u001b[0m\n\u001b[1;32m----> 1\u001b[0m fun4(\u001b[38;5;241m4\u001b[39m)\n",
      "\u001b[1;31mTypeError\u001b[0m: fun4() takes 0 positional arguments but 1 was given"
     ]
    }
   ],
   "source": [
    "fun4(4)"
   ]
  },
  {
   "cell_type": "code",
   "execution_count": 27,
   "id": "05bbd6f7-b03e-4c5b-a4cf-b377e03e30c8",
   "metadata": {},
   "outputs": [
    {
     "data": {
      "text/plain": [
       "{'a': 6, 'b': 8}"
      ]
     },
     "execution_count": 27,
     "metadata": {},
     "output_type": "execute_result"
    }
   ],
   "source": [
    "fun4(a = 6, b = 8)"
   ]
  },
  {
   "cell_type": "code",
   "execution_count": 28,
   "id": "3bce4d4b-aa81-489d-826c-e021a3fe2cd6",
   "metadata": {},
   "outputs": [
    {
     "ename": "SyntaxError",
     "evalue": "arguments cannot follow var-keyword argument (587700846.py, line 1)",
     "output_type": "error",
     "traceback": [
      "\u001b[1;36m  Cell \u001b[1;32mIn[28], line 1\u001b[1;36m\u001b[0m\n\u001b[1;33m    def fun5(**a, *b, c):\u001b[0m\n\u001b[1;37m                  ^\u001b[0m\n\u001b[1;31mSyntaxError\u001b[0m\u001b[1;31m:\u001b[0m arguments cannot follow var-keyword argument\n"
     ]
    }
   ],
   "source": [
    "def fun5(**a, *b, c):\n",
    "    return a, b, c"
   ]
  },
  {
   "cell_type": "code",
   "execution_count": 29,
   "id": "1c4191f4-df12-467e-ab0f-e41385423149",
   "metadata": {},
   "outputs": [],
   "source": [
    "def fun5(*b, c, **a):\n",
    "    return a, b, c"
   ]
  },
  {
   "cell_type": "code",
   "execution_count": 31,
   "id": "6362aa47-e5a2-4823-8e17-5bd202a16030",
   "metadata": {},
   "outputs": [
    {
     "ename": "TypeError",
     "evalue": "fun5() missing 1 required keyword-only argument: 'c'",
     "output_type": "error",
     "traceback": [
      "\u001b[1;31m---------------------------------------------------------------------------\u001b[0m",
      "\u001b[1;31mTypeError\u001b[0m                                 Traceback (most recent call last)",
      "Cell \u001b[1;32mIn[31], line 1\u001b[0m\n\u001b[1;32m----> 1\u001b[0m fun5(\u001b[38;5;241m2\u001b[39m,\u001b[38;5;241m5\u001b[39m,x \u001b[38;5;241m=\u001b[39m \u001b[38;5;241m7\u001b[39m)\n",
      "\u001b[1;31mTypeError\u001b[0m: fun5() missing 1 required keyword-only argument: 'c'"
     ]
    }
   ],
   "source": [
    "fun5(2,5,x = 7)"
   ]
  },
  {
   "cell_type": "code",
   "execution_count": 32,
   "id": "d6e21284-c73f-4c0c-a6cf-9a6e22b4b394",
   "metadata": {},
   "outputs": [],
   "source": [
    "def fun5(c, *b, **a):\n",
    "    return a, b, c"
   ]
  },
  {
   "cell_type": "code",
   "execution_count": 33,
   "id": "b992f16b-cfdb-44f1-8740-e2da9494e0e2",
   "metadata": {},
   "outputs": [
    {
     "data": {
      "text/plain": [
       "({'x': 6}, (5,), 3)"
      ]
     },
     "execution_count": 33,
     "metadata": {},
     "output_type": "execute_result"
    }
   ],
   "source": [
    "fun5(3, 5, x =6)"
   ]
  },
  {
   "cell_type": "code",
   "execution_count": 34,
   "id": "9a38816d-6a4e-473e-a09f-269a6ec68e87",
   "metadata": {},
   "outputs": [],
   "source": [
    "def fun6(*a, b):\n",
    "    return a, b"
   ]
  },
  {
   "cell_type": "code",
   "execution_count": 36,
   "id": "b822f425-00b2-4185-a1b3-760b2dc03e14",
   "metadata": {},
   "outputs": [
    {
     "ename": "TypeError",
     "evalue": "fun6() missing 1 required keyword-only argument: 'b'",
     "output_type": "error",
     "traceback": [
      "\u001b[1;31m---------------------------------------------------------------------------\u001b[0m",
      "\u001b[1;31mTypeError\u001b[0m                                 Traceback (most recent call last)",
      "Cell \u001b[1;32mIn[36], line 1\u001b[0m\n\u001b[1;32m----> 1\u001b[0m fun6(\u001b[38;5;241m6\u001b[39m, \u001b[38;5;241m8\u001b[39m, \u001b[38;5;124m\"\u001b[39m\u001b[38;5;124ma\u001b[39m\u001b[38;5;124m\"\u001b[39m, \u001b[38;5;124m\"\u001b[39m\u001b[38;5;124mb\u001b[39m\u001b[38;5;124m\"\u001b[39m)\n",
      "\u001b[1;31mTypeError\u001b[0m: fun6() missing 1 required keyword-only argument: 'b'"
     ]
    }
   ],
   "source": [
    "fun6(6, 8, \"a\", \"b\")"
   ]
  },
  {
   "cell_type": "code",
   "execution_count": 37,
   "id": "0e35a515-6348-4b92-8b21-0210ff9599a2",
   "metadata": {},
   "outputs": [],
   "source": [
    "def fun6(b, *a):\n",
    "    return a, b"
   ]
  },
  {
   "cell_type": "code",
   "execution_count": 38,
   "id": "04971c18-2268-4a42-951b-a99438a23211",
   "metadata": {},
   "outputs": [
    {
     "ename": "SyntaxError",
     "evalue": "arguments cannot follow var-keyword argument (2745397826.py, line 1)",
     "output_type": "error",
     "traceback": [
      "\u001b[1;36m  Cell \u001b[1;32mIn[38], line 1\u001b[1;36m\u001b[0m\n\u001b[1;33m    def fun7(**a, b):\u001b[0m\n\u001b[1;37m                  ^\u001b[0m\n\u001b[1;31mSyntaxError\u001b[0m\u001b[1;31m:\u001b[0m arguments cannot follow var-keyword argument\n"
     ]
    }
   ],
   "source": [
    "def fun7(**a, b):\n",
    "    return a,b "
   ]
  },
  {
   "cell_type": "code",
   "execution_count": 39,
   "id": "879862d9-23c8-4dec-b64b-c74c486e1b7b",
   "metadata": {},
   "outputs": [],
   "source": [
    "def fun7(b,**a):\n",
    "    return a,b "
   ]
  },
  {
   "cell_type": "code",
   "execution_count": 43,
   "id": "fb8667da-56d2-448d-8038-55f72161a55d",
   "metadata": {},
   "outputs": [
    {
     "data": {
      "text/plain": [
       "({'x': 8}, 5)"
      ]
     },
     "execution_count": 43,
     "metadata": {},
     "output_type": "execute_result"
    }
   ],
   "source": [
    "fun7(5, x = 8)"
   ]
  },
  {
   "cell_type": "code",
   "execution_count": 44,
   "id": "56a685ee-185f-4eeb-b5e8-3c6201d1431e",
   "metadata": {},
   "outputs": [],
   "source": [
    "def fun8(*a, **b):\n",
    "    return a, b"
   ]
  },
  {
   "cell_type": "code",
   "execution_count": 45,
   "id": "ebe392f8-c8a8-400f-9613-4f7b5cdf61b3",
   "metadata": {},
   "outputs": [],
   "source": [
    "def generate_full_name():\n",
    "    first_name = 'Asabeneh'\n",
    "    last_name = 'Yetayeh'\n",
    "    space = ' '\n",
    "    full_name = first_name + space + last_name\n",
    "    print(full_name)"
   ]
  },
  {
   "cell_type": "code",
   "execution_count": 46,
   "id": "04dcaa9f-ff9f-4738-8736-53be2c2375fd",
   "metadata": {},
   "outputs": [
    {
     "name": "stdout",
     "output_type": "stream",
     "text": [
      "Asabeneh Yetayeh\n"
     ]
    }
   ],
   "source": [
    "generate_full_name()"
   ]
  },
  {
   "cell_type": "code",
   "execution_count": 49,
   "id": "b996c0b4-5d83-4b20-9baa-74d6366d932a",
   "metadata": {},
   "outputs": [],
   "source": [
    "def Full_name():\n",
    "    first_name = input()\n",
    "    last_name = input()\n",
    "    print(f\"first_name= {first_name},---- last_name= {last_name}\")"
   ]
  },
  {
   "cell_type": "code",
   "execution_count": 50,
   "id": "c6b7d4eb-2092-4be2-8b88-982b0c9e8aa1",
   "metadata": {},
   "outputs": [
    {
     "name": "stdin",
     "output_type": "stream",
     "text": [
      " amit\n",
      " kumar\n"
     ]
    },
    {
     "name": "stdout",
     "output_type": "stream",
     "text": [
      "first_name= amit,---- last_name= kumar\n"
     ]
    }
   ],
   "source": [
    "Full_name()"
   ]
  },
  {
   "cell_type": "code",
   "execution_count": 57,
   "id": "cfd60cc6-7e14-40c0-994a-a3179daedfa5",
   "metadata": {},
   "outputs": [],
   "source": [
    "def money_conv():\n",
    "    dollar = int(input(\"enter money in dollar\"))\n",
    "    return dollar * 85.49"
   ]
  },
  {
   "cell_type": "code",
   "execution_count": 59,
   "id": "0d57b5c7-a84f-4a3f-80c4-76b71ec7d6d6",
   "metadata": {},
   "outputs": [
    {
     "name": "stdin",
     "output_type": "stream",
     "text": [
      "enter money in dollar 5000\n"
     ]
    },
    {
     "name": "stdout",
     "output_type": "stream",
     "text": [
      "converted money into rupees 427450.0 \n"
     ]
    }
   ],
   "source": [
    "rupees = money_conv()\n",
    "print(f\"converted money into rupees {rupees} \")"
   ]
  },
  {
   "cell_type": "code",
   "execution_count": null,
   "id": "acd3de7a-4656-4dce-abc0-e5f1314c6e8c",
   "metadata": {},
   "outputs": [],
   "source": [
    "def converter(5000, Euro, rupees):\n",
    "            \n"
   ]
  }
 ],
 "metadata": {
  "kernelspec": {
   "display_name": "Python 3 (ipykernel)",
   "language": "python",
   "name": "python3"
  },
  "language_info": {
   "codemirror_mode": {
    "name": "ipython",
    "version": 3
   },
   "file_extension": ".py",
   "mimetype": "text/x-python",
   "name": "python",
   "nbconvert_exporter": "python",
   "pygments_lexer": "ipython3",
   "version": "3.11.7"
  }
 },
 "nbformat": 4,
 "nbformat_minor": 5
}
