{
 "cells": [
  {
   "cell_type": "markdown",
   "id": "70fd7e40-fd27-4d9f-b9ad-24614cb5f835",
   "metadata": {},
   "source": [
    "## Dict"
   ]
  },
  {
   "cell_type": "code",
   "execution_count": 1,
   "id": "4da3a865-a0fa-458a-8d50-0d32e94b85b0",
   "metadata": {},
   "outputs": [],
   "source": [
    "d = {}"
   ]
  },
  {
   "cell_type": "code",
   "execution_count": 2,
   "id": "50f7e6f0-7f9d-47ec-9eee-ffd9558b6384",
   "metadata": {},
   "outputs": [
    {
     "data": {
      "text/plain": [
       "dict"
      ]
     },
     "execution_count": 2,
     "metadata": {},
     "output_type": "execute_result"
    }
   ],
   "source": [
    "type(d)"
   ]
  },
  {
   "cell_type": "code",
   "execution_count": 3,
   "id": "55fd43e8-fefe-4e2b-96ba-b31e75e21f2b",
   "metadata": {},
   "outputs": [],
   "source": [
    "d = {\"jan\" : 31}"
   ]
  },
  {
   "cell_type": "code",
   "execution_count": 4,
   "id": "085b7ff6-b7b5-4032-ae6b-bd337c90ae02",
   "metadata": {},
   "outputs": [],
   "source": [
    "d = {31 : \"jan\"}"
   ]
  },
  {
   "cell_type": "code",
   "execution_count": 5,
   "id": "343783c7-e99f-43fe-8f60-6b6dbe546d00",
   "metadata": {},
   "outputs": [],
   "source": [
    "d = {31.0 : \"jan\"}"
   ]
  },
  {
   "cell_type": "code",
   "execution_count": 6,
   "id": "0f83c7a7-0130-4c1e-b1be-23c00d60531f",
   "metadata": {},
   "outputs": [
    {
     "ename": "TypeError",
     "evalue": "unhashable type: 'list'",
     "output_type": "error",
     "traceback": [
      "\u001b[1;31m---------------------------------------------------------------------------\u001b[0m",
      "\u001b[1;31mTypeError\u001b[0m                                 Traceback (most recent call last)",
      "Cell \u001b[1;32mIn[6], line 1\u001b[0m\n\u001b[1;32m----> 1\u001b[0m d \u001b[38;5;241m=\u001b[39m {[\u001b[38;5;241m31.0\u001b[39m] : \u001b[38;5;124m\"\u001b[39m\u001b[38;5;124mjan\u001b[39m\u001b[38;5;124m\"\u001b[39m}\n",
      "\u001b[1;31mTypeError\u001b[0m: unhashable type: 'list'"
     ]
    }
   ],
   "source": [
    "d = {[31.0] : \"jan\"}"
   ]
  },
  {
   "cell_type": "code",
   "execution_count": 7,
   "id": "dfe19109-4a29-4e56-9d6d-41ba37c467a5",
   "metadata": {},
   "outputs": [],
   "source": [
    "d = {(31.0) : \"jan\"}"
   ]
  },
  {
   "cell_type": "code",
   "execution_count": 8,
   "id": "91428b6c-c135-44f8-ab9c-b83aabc13cbd",
   "metadata": {},
   "outputs": [
    {
     "ename": "TypeError",
     "evalue": "unsupported operand type(s) for +: 'dict' and 'dict'",
     "output_type": "error",
     "traceback": [
      "\u001b[1;31m---------------------------------------------------------------------------\u001b[0m",
      "\u001b[1;31mTypeError\u001b[0m                                 Traceback (most recent call last)",
      "Cell \u001b[1;32mIn[8], line 1\u001b[0m\n\u001b[1;32m----> 1\u001b[0m d \u001b[38;5;241m+\u001b[39m d\n",
      "\u001b[1;31mTypeError\u001b[0m: unsupported operand type(s) for +: 'dict' and 'dict'"
     ]
    }
   ],
   "source": [
    "d + d"
   ]
  },
  {
   "cell_type": "code",
   "execution_count": 9,
   "id": "cb565873-daf1-4ad9-82f1-bc275872956a",
   "metadata": {},
   "outputs": [],
   "source": [
    "var = \"this is my first string\""
   ]
  },
  {
   "cell_type": "code",
   "execution_count": 11,
   "id": "6783ff29-0664-46fd-8aca-b3e599f22312",
   "metadata": {},
   "outputs": [
    {
     "data": {
      "text/plain": [
       "'this is my first stringthis is my first string'"
      ]
     },
     "execution_count": 11,
     "metadata": {},
     "output_type": "execute_result"
    }
   ],
   "source": [
    "var + var"
   ]
  },
  {
   "cell_type": "code",
   "execution_count": 13,
   "id": "12bb2891-ae5c-4a93-9ff5-c7f11ac36158",
   "metadata": {},
   "outputs": [
    {
     "data": {
      "text/plain": [
       "'this is my first stringthis is my first stringthis is my first string'"
      ]
     },
     "execution_count": 13,
     "metadata": {},
     "output_type": "execute_result"
    }
   ],
   "source": [
    "var*3"
   ]
  },
  {
   "cell_type": "code",
   "execution_count": 14,
   "id": "eff738b3-137f-4bc7-9a31-adf934c0695e",
   "metadata": {},
   "outputs": [
    {
     "ename": "TypeError",
     "evalue": "unsupported operand type(s) for *: 'dict' and 'int'",
     "output_type": "error",
     "traceback": [
      "\u001b[1;31m---------------------------------------------------------------------------\u001b[0m",
      "\u001b[1;31mTypeError\u001b[0m                                 Traceback (most recent call last)",
      "Cell \u001b[1;32mIn[14], line 1\u001b[0m\n\u001b[1;32m----> 1\u001b[0m d\u001b[38;5;241m*\u001b[39m\u001b[38;5;241m3\u001b[39m\n",
      "\u001b[1;31mTypeError\u001b[0m: unsupported operand type(s) for *: 'dict' and 'int'"
     ]
    }
   ],
   "source": [
    "d*3"
   ]
  },
  {
   "cell_type": "code",
   "execution_count": 17,
   "id": "9e473912-d24b-4213-b471-1111a0f3d68e",
   "metadata": {},
   "outputs": [
    {
     "data": {
      "text/plain": [
       "' '"
      ]
     },
     "execution_count": 17,
     "metadata": {},
     "output_type": "execute_result"
    }
   ],
   "source": [
    "var[10]"
   ]
  },
  {
   "cell_type": "code",
   "execution_count": 16,
   "id": "71bbc3c5-1a3b-4e16-8a91-97d336296cca",
   "metadata": {},
   "outputs": [
    {
     "data": {
      "text/plain": [
       "'this is my first string'"
      ]
     },
     "execution_count": 16,
     "metadata": {},
     "output_type": "execute_result"
    }
   ],
   "source": [
    "var"
   ]
  },
  {
   "cell_type": "code",
   "execution_count": 18,
   "id": "601a543c-2b2e-4511-8e45-1edec22acfc3",
   "metadata": {},
   "outputs": [],
   "source": [
    "d1 = {\"jan\" :31, \"feb\":28, \"march\":31, \"april\": 30}"
   ]
  },
  {
   "cell_type": "code",
   "execution_count": 19,
   "id": "deb5cd90-1db8-4d53-949b-ec790ffae587",
   "metadata": {},
   "outputs": [
    {
     "data": {
      "text/plain": [
       "{'jan': 31, 'feb': 28, 'march': 31, 'april': 30}"
      ]
     },
     "execution_count": 19,
     "metadata": {},
     "output_type": "execute_result"
    }
   ],
   "source": [
    "d1"
   ]
  },
  {
   "cell_type": "code",
   "execution_count": 20,
   "id": "6dbfcce3-31af-4544-ad16-605e60f8569b",
   "metadata": {},
   "outputs": [
    {
     "ename": "KeyError",
     "evalue": "2",
     "output_type": "error",
     "traceback": [
      "\u001b[1;31m---------------------------------------------------------------------------\u001b[0m",
      "\u001b[1;31mKeyError\u001b[0m                                  Traceback (most recent call last)",
      "Cell \u001b[1;32mIn[20], line 1\u001b[0m\n\u001b[1;32m----> 1\u001b[0m d1[\u001b[38;5;241m2\u001b[39m]\n",
      "\u001b[1;31mKeyError\u001b[0m: 2"
     ]
    }
   ],
   "source": [
    "d1[2]"
   ]
  },
  {
   "cell_type": "code",
   "execution_count": 21,
   "id": "0f78d4d4-d33a-46a9-89b6-a4806683b191",
   "metadata": {},
   "outputs": [
    {
     "data": {
      "text/plain": [
       "28"
      ]
     },
     "execution_count": 21,
     "metadata": {},
     "output_type": "execute_result"
    }
   ],
   "source": [
    "d1[\"feb\"]"
   ]
  },
  {
   "cell_type": "code",
   "execution_count": 22,
   "id": "9ab6d331-dc81-44eb-aceb-c89499739816",
   "metadata": {},
   "outputs": [
    {
     "ename": "KeyError",
     "evalue": "28",
     "output_type": "error",
     "traceback": [
      "\u001b[1;31m---------------------------------------------------------------------------\u001b[0m",
      "\u001b[1;31mKeyError\u001b[0m                                  Traceback (most recent call last)",
      "Cell \u001b[1;32mIn[22], line 1\u001b[0m\n\u001b[1;32m----> 1\u001b[0m d1[\u001b[38;5;241m28\u001b[39m]\n",
      "\u001b[1;31mKeyError\u001b[0m: 28"
     ]
    }
   ],
   "source": [
    "d1[28]"
   ]
  },
  {
   "cell_type": "code",
   "execution_count": 23,
   "id": "ac378bdf-b793-464f-b1df-3a7b0496a57d",
   "metadata": {},
   "outputs": [
    {
     "data": {
      "text/plain": [
       "dict_keys(['jan', 'feb', 'march', 'april'])"
      ]
     },
     "execution_count": 23,
     "metadata": {},
     "output_type": "execute_result"
    }
   ],
   "source": [
    "d1.keys()"
   ]
  },
  {
   "cell_type": "code",
   "execution_count": 24,
   "id": "9f17c858-a132-4570-9a6c-65b187e594cf",
   "metadata": {},
   "outputs": [
    {
     "data": {
      "text/plain": [
       "dict_values([31, 28, 31, 30])"
      ]
     },
     "execution_count": 24,
     "metadata": {},
     "output_type": "execute_result"
    }
   ],
   "source": [
    "d1.values()"
   ]
  },
  {
   "cell_type": "code",
   "execution_count": 25,
   "id": "13f5284a-c5fa-40cc-89f5-c1cade7cc0e0",
   "metadata": {},
   "outputs": [
    {
     "data": {
      "text/plain": [
       "dict_items([('jan', 31), ('feb', 28), ('march', 31), ('april', 30)])"
      ]
     },
     "execution_count": 25,
     "metadata": {},
     "output_type": "execute_result"
    }
   ],
   "source": [
    "d1.items()"
   ]
  },
  {
   "cell_type": "code",
   "execution_count": 27,
   "id": "32f011de-a49e-4b92-8aad-5bfb544a26ac",
   "metadata": {},
   "outputs": [
    {
     "data": {
      "text/plain": [
       "31"
      ]
     },
     "execution_count": 27,
     "metadata": {},
     "output_type": "execute_result"
    }
   ],
   "source": [
    "d1.pop(\"march\")"
   ]
  },
  {
   "cell_type": "code",
   "execution_count": 28,
   "id": "84211d9b-4a37-4747-939f-04f5c3c897fc",
   "metadata": {},
   "outputs": [
    {
     "data": {
      "text/plain": [
       "{'jan': 31, 'feb': 28, 'april': 30}"
      ]
     },
     "execution_count": 28,
     "metadata": {},
     "output_type": "execute_result"
    }
   ],
   "source": [
    "d1"
   ]
  },
  {
   "cell_type": "code",
   "execution_count": 29,
   "id": "4e8eeb46-e697-4187-904b-5f590d578746",
   "metadata": {},
   "outputs": [
    {
     "data": {
      "text/plain": [
       "('april', 30)"
      ]
     },
     "execution_count": 29,
     "metadata": {},
     "output_type": "execute_result"
    }
   ],
   "source": [
    "d1.popitem()"
   ]
  },
  {
   "cell_type": "code",
   "execution_count": 30,
   "id": "75708078-0e67-40e7-9e73-cf1ddc886396",
   "metadata": {},
   "outputs": [
    {
     "data": {
      "text/plain": [
       "{'jan': 31, 'feb': 28}"
      ]
     },
     "execution_count": 30,
     "metadata": {},
     "output_type": "execute_result"
    }
   ],
   "source": [
    "d1"
   ]
  },
  {
   "cell_type": "code",
   "execution_count": 31,
   "id": "6d9e0e60-1e50-4474-bbda-945883dd5b94",
   "metadata": {},
   "outputs": [],
   "source": [
    "d2 = {1:[2,3,4,5], 2 :(\"red\", \"black\", \"blue\"), 3:{\"a\", \"b\", \"c\", \"d\"}, 4 : [{'jan': 31, 'feb': 28, 'april': 30}]}"
   ]
  },
  {
   "cell_type": "code",
   "execution_count": 32,
   "id": "688a782f-ca35-4fd4-b356-9e09ec20db21",
   "metadata": {},
   "outputs": [
    {
     "data": {
      "text/plain": [
       "{1: [2, 3, 4, 5],\n",
       " 2: ('red', 'black', 'blue'),\n",
       " 3: {'a', 'b', 'c', 'd'},\n",
       " 4: [{'jan': 31, 'feb': 28, 'april': 30}]}"
      ]
     },
     "execution_count": 32,
     "metadata": {},
     "output_type": "execute_result"
    }
   ],
   "source": [
    "d2"
   ]
  },
  {
   "cell_type": "code",
   "execution_count": 34,
   "id": "fb88768b-84ce-4571-a3cc-6afe5b247343",
   "metadata": {},
   "outputs": [
    {
     "data": {
      "text/plain": [
       "'black'"
      ]
     },
     "execution_count": 34,
     "metadata": {},
     "output_type": "execute_result"
    }
   ],
   "source": [
    "d2[2][1]"
   ]
  },
  {
   "cell_type": "code",
   "execution_count": 37,
   "id": "7ef90d7f-d287-443e-b01d-315141d64f4a",
   "metadata": {},
   "outputs": [
    {
     "data": {
      "text/plain": [
       "30"
      ]
     },
     "execution_count": 37,
     "metadata": {},
     "output_type": "execute_result"
    }
   ],
   "source": [
    "d2[4][0][\"april\"]"
   ]
  },
  {
   "cell_type": "code",
   "execution_count": 41,
   "id": "557f135b-1fb3-4360-b20d-d93ef5536835",
   "metadata": {},
   "outputs": [
    {
     "data": {
      "text/plain": [
       "{'a', 'b', 'c', 'd'}"
      ]
     },
     "execution_count": 41,
     "metadata": {},
     "output_type": "execute_result"
    }
   ],
   "source": [
    "d2[3]"
   ]
  },
  {
   "cell_type": "code",
   "execution_count": null,
   "id": "f2859ef0-e993-4b1b-9cfd-f93c2d8275f6",
   "metadata": {},
   "outputs": [],
   "source": []
  }
 ],
 "metadata": {
  "kernelspec": {
   "display_name": "Python 3 (ipykernel)",
   "language": "python",
   "name": "python3"
  },
  "language_info": {
   "codemirror_mode": {
    "name": "ipython",
    "version": 3
   },
   "file_extension": ".py",
   "mimetype": "text/x-python",
   "name": "python",
   "nbconvert_exporter": "python",
   "pygments_lexer": "ipython3",
   "version": "3.11.7"
  }
 },
 "nbformat": 4,
 "nbformat_minor": 5
}
