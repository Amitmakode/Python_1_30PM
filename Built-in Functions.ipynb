{
 "cells": [
  {
   "cell_type": "code",
   "execution_count": 1,
   "id": "5bad4642-d071-4aa6-824d-672e7a191a76",
   "metadata": {},
   "outputs": [
    {
     "data": {
      "text/plain": [
       "10"
      ]
     },
     "execution_count": 1,
     "metadata": {},
     "output_type": "execute_result"
    }
   ],
   "source": [
    "# abs()\n",
    "#Description: Returns the absolute value of a number.\n",
    "\n",
    "num = -10\n",
    "\n",
    "abs(num)"
   ]
  },
  {
   "cell_type": "code",
   "execution_count": 7,
   "id": "7811e538-46a5-494b-96ee-ceba9e9a7fee",
   "metadata": {},
   "outputs": [
    {
     "name": "stdout",
     "output_type": "stream",
     "text": [
      "True\n"
     ]
    }
   ],
   "source": [
    "# all()\n",
    "#Description: Returns True if all elements of an iterable are true (or if the iterable is empty).\n",
    "\n",
    "list1 = [True, True, 30, -6, 7.8]\n",
    "\n",
    "result = all(list1)\n",
    "\n",
    "print(result)"
   ]
  },
  {
   "cell_type": "code",
   "execution_count": 8,
   "id": "cb2f4443-11f3-450b-878d-0b9ff3f60f66",
   "metadata": {},
   "outputs": [
    {
     "name": "stdout",
     "output_type": "stream",
     "text": [
      "True\n"
     ]
    }
   ],
   "source": [
    "# any()\n",
    "#Description: Returns True if any element of an iterable is true. If the iterable is empty, it returns False.\n",
    "\n",
    "list1 = [False, False, True]\n",
    "result = any(list1)\n",
    "print(result)"
   ]
  },
  {
   "cell_type": "code",
   "execution_count": 10,
   "id": "7b948f89-1452-4baf-a184-36e712204907",
   "metadata": {},
   "outputs": [
    {
     "name": "stdout",
     "output_type": "stream",
     "text": [
      "True\n"
     ]
    }
   ],
   "source": [
    "# bool()\n",
    "\n",
    "#Description: Converts a value to a Boolean, using the standard truth testing procedure.\n",
    "\n",
    "bool_value = bool(2)\n",
    "print(bool_value) "
   ]
  },
  {
   "cell_type": "code",
   "execution_count": 12,
   "id": "7b59b4e3-b5e9-4368-803f-5877eeb5330f",
   "metadata": {},
   "outputs": [
    {
     "name": "stdout",
     "output_type": "stream",
     "text": [
      "C\n"
     ]
    }
   ],
   "source": [
    "# chr()\n",
    "\n",
    "#Description: Returns the string representing a character whose Unicode code point is the integer i.\n",
    "\n",
    "\n",
    "char = chr(67)\n",
    "\n",
    "print(char) "
   ]
  },
  {
   "cell_type": "code",
   "execution_count": 13,
   "id": "191b800b-a39c-4337-bcdc-5358e35f93a5",
   "metadata": {},
   "outputs": [
    {
     "name": "stdout",
     "output_type": "stream",
     "text": [
      "(77-7j)\n"
     ]
    }
   ],
   "source": [
    "# complex()\n",
    "\n",
    "#Description: Returns a complex number with the value real + imag*1j.\n",
    "\n",
    "comp_num = complex(77, -7)\n",
    "print(comp_num)"
   ]
  },
  {
   "cell_type": "code",
   "execution_count": 14,
   "id": "a10c9d98-a2d5-459c-83a7-11d665748074",
   "metadata": {},
   "outputs": [
    {
     "name": "stdout",
     "output_type": "stream",
     "text": [
      "{'key1': 'value1', 'key2': 'value2'}\n"
     ]
    }
   ],
   "source": [
    "# dict()\n",
    "\n",
    "#Description: Returns a dictionary (or associative array) object.\n",
    "\n",
    "dict_obj = dict(key1='value1', key2='value2')\n",
    "print(dict_obj)"
   ]
  },
  {
   "cell_type": "code",
   "execution_count": 15,
   "id": "530b5519-d66b-489c-8b2d-ef47817ae3ea",
   "metadata": {},
   "outputs": [
    {
     "name": "stdout",
     "output_type": "stream",
     "text": [
      "['__add__', '__class__', '__class_getitem__', '__contains__', '__delattr__', '__delitem__', '__dir__', '__doc__', '__eq__', '__format__', '__ge__', '__getattribute__', '__getitem__', '__getstate__', '__gt__', '__hash__', '__iadd__', '__imul__', '__init__', '__init_subclass__', '__iter__', '__le__', '__len__', '__lt__', '__mul__', '__ne__', '__new__', '__reduce__', '__reduce_ex__', '__repr__', '__reversed__', '__rmul__', '__setattr__', '__setitem__', '__sizeof__', '__str__', '__subclasshook__', 'append', 'clear', 'copy', 'count', 'extend', 'index', 'insert', 'pop', 'remove', 'reverse', 'sort']\n"
     ]
    }
   ],
   "source": [
    "# dir()\n",
    "\n",
    "#Description: Returns a list of attributes and methods of any object (without the __ attributes).\n",
    "\n",
    "numbers = [1, 2, 3]\n",
    "print(dir(numbers))"
   ]
  },
  {
   "cell_type": "code",
   "execution_count": 16,
   "id": "926334b4-a569-4d9f-b67f-a7c72080cbc7",
   "metadata": {},
   "outputs": [
    {
     "data": {
      "text/plain": [
       "['__add__',\n",
       " '__class__',\n",
       " '__class_getitem__',\n",
       " '__contains__',\n",
       " '__delattr__',\n",
       " '__delitem__',\n",
       " '__dir__',\n",
       " '__doc__',\n",
       " '__eq__',\n",
       " '__format__',\n",
       " '__ge__',\n",
       " '__getattribute__',\n",
       " '__getitem__',\n",
       " '__getstate__',\n",
       " '__gt__',\n",
       " '__hash__',\n",
       " '__iadd__',\n",
       " '__imul__',\n",
       " '__init__',\n",
       " '__init_subclass__',\n",
       " '__iter__',\n",
       " '__le__',\n",
       " '__len__',\n",
       " '__lt__',\n",
       " '__mul__',\n",
       " '__ne__',\n",
       " '__new__',\n",
       " '__reduce__',\n",
       " '__reduce_ex__',\n",
       " '__repr__',\n",
       " '__reversed__',\n",
       " '__rmul__',\n",
       " '__setattr__',\n",
       " '__setitem__',\n",
       " '__sizeof__',\n",
       " '__str__',\n",
       " '__subclasshook__',\n",
       " 'append',\n",
       " 'clear',\n",
       " 'copy',\n",
       " 'count',\n",
       " 'extend',\n",
       " 'index',\n",
       " 'insert',\n",
       " 'pop',\n",
       " 'remove',\n",
       " 'reverse',\n",
       " 'sort']"
      ]
     },
     "execution_count": 16,
     "metadata": {},
     "output_type": "execute_result"
    }
   ],
   "source": [
    "dir(list)"
   ]
  },
  {
   "cell_type": "code",
   "execution_count": 18,
   "id": "b45c072a-4874-4fe2-bc97-38e2ea80fd52",
   "metadata": {},
   "outputs": [
    {
     "name": "stdout",
     "output_type": "stream",
     "text": [
      "(3, 0)\n"
     ]
    }
   ],
   "source": [
    "# divmod()\n",
    "\n",
    "#Description: Returns a tuple of the quotient and the remainder when argument1 is divided by argument 2\n",
    "\n",
    "result = divmod(9, 3)\n",
    "print(result)"
   ]
  },
  {
   "cell_type": "code",
   "execution_count": 19,
   "id": "3662bcba-ebd1-41f5-a65e-06325e514db6",
   "metadata": {},
   "outputs": [
    {
     "name": "stdout",
     "output_type": "stream",
     "text": [
      "[(0, 'apple'), (1, 'banana'), (2, 'cherry'), (3, 'chiku')]\n"
     ]
    }
   ],
   "source": [
    "# enumerate()\n",
    "\n",
    "#Description: Returns an enumerate object. It adds a counter to an iterable and returns it as an enumerate object.\n",
    "\n",
    "fruits = ['apple', 'banana', 'cherry', \"chiku\"]\n",
    "enum_obj = enumerate(fruits)\n",
    "print(list(enum_obj))"
   ]
  },
  {
   "cell_type": "code",
   "execution_count": 20,
   "id": "7f606d97-1474-4d23-91ad-38c1a92e7503",
   "metadata": {},
   "outputs": [
    {
     "name": "stdout",
     "output_type": "stream",
     "text": [
      "15\n"
     ]
    }
   ],
   "source": [
    "# eval()\n",
    "\n",
    "#Description: Evaluates and executes an expression dynamically.\n",
    "\n",
    "x = 10\n",
    "result = eval('x + 5')\n",
    "print(result)"
   ]
  },
  {
   "cell_type": "code",
   "execution_count": 21,
   "id": "cc81a1c3-1746-48d9-881f-44a15c639885",
   "metadata": {},
   "outputs": [
    {
     "data": {
      "text/plain": [
       "'x+5'"
      ]
     },
     "execution_count": 21,
     "metadata": {},
     "output_type": "execute_result"
    }
   ],
   "source": [
    "\"x+5\""
   ]
  },
  {
   "cell_type": "code",
   "execution_count": 22,
   "id": "807dc90e-acc3-4388-8552-62b4f2665d75",
   "metadata": {},
   "outputs": [
    {
     "data": {
      "text/plain": [
       "'4+6'"
      ]
     },
     "execution_count": 22,
     "metadata": {},
     "output_type": "execute_result"
    }
   ],
   "source": [
    "\"4+6\""
   ]
  },
  {
   "cell_type": "code",
   "execution_count": 23,
   "id": "f3f88b59-baa7-4345-9213-d3c4d3a97cc5",
   "metadata": {},
   "outputs": [
    {
     "data": {
      "text/plain": [
       "10"
      ]
     },
     "execution_count": 23,
     "metadata": {},
     "output_type": "execute_result"
    }
   ],
   "source": [
    "eval(\"4+6\")"
   ]
  },
  {
   "cell_type": "code",
   "execution_count": 25,
   "id": "3c8026a8-5e81-435d-af91-5b41d3f635c6",
   "metadata": {},
   "outputs": [
    {
     "name": "stdin",
     "output_type": "stream",
     "text": [
      " 3+7\n"
     ]
    },
    {
     "data": {
      "text/plain": [
       "10"
      ]
     },
     "execution_count": 25,
     "metadata": {},
     "output_type": "execute_result"
    }
   ],
   "source": [
    "eval(input())"
   ]
  },
  {
   "cell_type": "code",
   "execution_count": 26,
   "id": "3599daf2-e499-4218-868b-f2fba387f73e",
   "metadata": {},
   "outputs": [
    {
     "name": "stdout",
     "output_type": "stream",
     "text": [
      "300.0\n"
     ]
    }
   ],
   "source": [
    "# float()\n",
    "\n",
    "#Description: Returns a floating point number constructed from a number or string.\n",
    "\t\t\n",
    "float_num = float(300)\n",
    "print(float_num) "
   ]
  },
  {
   "cell_type": "code",
   "execution_count": 28,
   "id": "cb5057ad-06a2-45ae-af0d-527b6860fca3",
   "metadata": {},
   "outputs": [
    {
     "name": "stdout",
     "output_type": "stream",
     "text": [
      "Help on class str in module builtins:\n",
      "\n",
      "class str(object)\n",
      " |  str(object='') -> str\n",
      " |  str(bytes_or_buffer[, encoding[, errors]]) -> str\n",
      " |  \n",
      " |  Create a new string object from the given object. If encoding or\n",
      " |  errors is specified, then the object must expose a data buffer\n",
      " |  that will be decoded using the given encoding and error handler.\n",
      " |  Otherwise, returns the result of object.__str__() (if defined)\n",
      " |  or repr(object).\n",
      " |  encoding defaults to sys.getdefaultencoding().\n",
      " |  errors defaults to 'strict'.\n",
      " |  \n",
      " |  Methods defined here:\n",
      " |  \n",
      " |  __add__(self, value, /)\n",
      " |      Return self+value.\n",
      " |  \n",
      " |  __contains__(self, key, /)\n",
      " |      Return key in self.\n",
      " |  \n",
      " |  __eq__(self, value, /)\n",
      " |      Return self==value.\n",
      " |  \n",
      " |  __format__(self, format_spec, /)\n",
      " |      Return a formatted version of the string as described by format_spec.\n",
      " |  \n",
      " |  __ge__(self, value, /)\n",
      " |      Return self>=value.\n",
      " |  \n",
      " |  __getattribute__(self, name, /)\n",
      " |      Return getattr(self, name).\n",
      " |  \n",
      " |  __getitem__(self, key, /)\n",
      " |      Return self[key].\n",
      " |  \n",
      " |  __getnewargs__(...)\n",
      " |  \n",
      " |  __gt__(self, value, /)\n",
      " |      Return self>value.\n",
      " |  \n",
      " |  __hash__(self, /)\n",
      " |      Return hash(self).\n",
      " |  \n",
      " |  __iter__(self, /)\n",
      " |      Implement iter(self).\n",
      " |  \n",
      " |  __le__(self, value, /)\n",
      " |      Return self<=value.\n",
      " |  \n",
      " |  __len__(self, /)\n",
      " |      Return len(self).\n",
      " |  \n",
      " |  __lt__(self, value, /)\n",
      " |      Return self<value.\n",
      " |  \n",
      " |  __mod__(self, value, /)\n",
      " |      Return self%value.\n",
      " |  \n",
      " |  __mul__(self, value, /)\n",
      " |      Return self*value.\n",
      " |  \n",
      " |  __ne__(self, value, /)\n",
      " |      Return self!=value.\n",
      " |  \n",
      " |  __repr__(self, /)\n",
      " |      Return repr(self).\n",
      " |  \n",
      " |  __rmod__(self, value, /)\n",
      " |      Return value%self.\n",
      " |  \n",
      " |  __rmul__(self, value, /)\n",
      " |      Return value*self.\n",
      " |  \n",
      " |  __sizeof__(self, /)\n",
      " |      Return the size of the string in memory, in bytes.\n",
      " |  \n",
      " |  __str__(self, /)\n",
      " |      Return str(self).\n",
      " |  \n",
      " |  capitalize(self, /)\n",
      " |      Return a capitalized version of the string.\n",
      " |      \n",
      " |      More specifically, make the first character have upper case and the rest lower\n",
      " |      case.\n",
      " |  \n",
      " |  casefold(self, /)\n",
      " |      Return a version of the string suitable for caseless comparisons.\n",
      " |  \n",
      " |  center(self, width, fillchar=' ', /)\n",
      " |      Return a centered string of length width.\n",
      " |      \n",
      " |      Padding is done using the specified fill character (default is a space).\n",
      " |  \n",
      " |  count(...)\n",
      " |      S.count(sub[, start[, end]]) -> int\n",
      " |      \n",
      " |      Return the number of non-overlapping occurrences of substring sub in\n",
      " |      string S[start:end].  Optional arguments start and end are\n",
      " |      interpreted as in slice notation.\n",
      " |  \n",
      " |  encode(self, /, encoding='utf-8', errors='strict')\n",
      " |      Encode the string using the codec registered for encoding.\n",
      " |      \n",
      " |      encoding\n",
      " |        The encoding in which to encode the string.\n",
      " |      errors\n",
      " |        The error handling scheme to use for encoding errors.\n",
      " |        The default is 'strict' meaning that encoding errors raise a\n",
      " |        UnicodeEncodeError.  Other possible values are 'ignore', 'replace' and\n",
      " |        'xmlcharrefreplace' as well as any other name registered with\n",
      " |        codecs.register_error that can handle UnicodeEncodeErrors.\n",
      " |  \n",
      " |  endswith(...)\n",
      " |      S.endswith(suffix[, start[, end]]) -> bool\n",
      " |      \n",
      " |      Return True if S ends with the specified suffix, False otherwise.\n",
      " |      With optional start, test S beginning at that position.\n",
      " |      With optional end, stop comparing S at that position.\n",
      " |      suffix can also be a tuple of strings to try.\n",
      " |  \n",
      " |  expandtabs(self, /, tabsize=8)\n",
      " |      Return a copy where all tab characters are expanded using spaces.\n",
      " |      \n",
      " |      If tabsize is not given, a tab size of 8 characters is assumed.\n",
      " |  \n",
      " |  find(...)\n",
      " |      S.find(sub[, start[, end]]) -> int\n",
      " |      \n",
      " |      Return the lowest index in S where substring sub is found,\n",
      " |      such that sub is contained within S[start:end].  Optional\n",
      " |      arguments start and end are interpreted as in slice notation.\n",
      " |      \n",
      " |      Return -1 on failure.\n",
      " |  \n",
      " |  format(...)\n",
      " |      S.format(*args, **kwargs) -> str\n",
      " |      \n",
      " |      Return a formatted version of S, using substitutions from args and kwargs.\n",
      " |      The substitutions are identified by braces ('{' and '}').\n",
      " |  \n",
      " |  format_map(...)\n",
      " |      S.format_map(mapping) -> str\n",
      " |      \n",
      " |      Return a formatted version of S, using substitutions from mapping.\n",
      " |      The substitutions are identified by braces ('{' and '}').\n",
      " |  \n",
      " |  index(...)\n",
      " |      S.index(sub[, start[, end]]) -> int\n",
      " |      \n",
      " |      Return the lowest index in S where substring sub is found,\n",
      " |      such that sub is contained within S[start:end].  Optional\n",
      " |      arguments start and end are interpreted as in slice notation.\n",
      " |      \n",
      " |      Raises ValueError when the substring is not found.\n",
      " |  \n",
      " |  isalnum(self, /)\n",
      " |      Return True if the string is an alpha-numeric string, False otherwise.\n",
      " |      \n",
      " |      A string is alpha-numeric if all characters in the string are alpha-numeric and\n",
      " |      there is at least one character in the string.\n",
      " |  \n",
      " |  isalpha(self, /)\n",
      " |      Return True if the string is an alphabetic string, False otherwise.\n",
      " |      \n",
      " |      A string is alphabetic if all characters in the string are alphabetic and there\n",
      " |      is at least one character in the string.\n",
      " |  \n",
      " |  isascii(self, /)\n",
      " |      Return True if all characters in the string are ASCII, False otherwise.\n",
      " |      \n",
      " |      ASCII characters have code points in the range U+0000-U+007F.\n",
      " |      Empty string is ASCII too.\n",
      " |  \n",
      " |  isdecimal(self, /)\n",
      " |      Return True if the string is a decimal string, False otherwise.\n",
      " |      \n",
      " |      A string is a decimal string if all characters in the string are decimal and\n",
      " |      there is at least one character in the string.\n",
      " |  \n",
      " |  isdigit(self, /)\n",
      " |      Return True if the string is a digit string, False otherwise.\n",
      " |      \n",
      " |      A string is a digit string if all characters in the string are digits and there\n",
      " |      is at least one character in the string.\n",
      " |  \n",
      " |  isidentifier(self, /)\n",
      " |      Return True if the string is a valid Python identifier, False otherwise.\n",
      " |      \n",
      " |      Call keyword.iskeyword(s) to test whether string s is a reserved identifier,\n",
      " |      such as \"def\" or \"class\".\n",
      " |  \n",
      " |  islower(self, /)\n",
      " |      Return True if the string is a lowercase string, False otherwise.\n",
      " |      \n",
      " |      A string is lowercase if all cased characters in the string are lowercase and\n",
      " |      there is at least one cased character in the string.\n",
      " |  \n",
      " |  isnumeric(self, /)\n",
      " |      Return True if the string is a numeric string, False otherwise.\n",
      " |      \n",
      " |      A string is numeric if all characters in the string are numeric and there is at\n",
      " |      least one character in the string.\n",
      " |  \n",
      " |  isprintable(self, /)\n",
      " |      Return True if the string is printable, False otherwise.\n",
      " |      \n",
      " |      A string is printable if all of its characters are considered printable in\n",
      " |      repr() or if it is empty.\n",
      " |  \n",
      " |  isspace(self, /)\n",
      " |      Return True if the string is a whitespace string, False otherwise.\n",
      " |      \n",
      " |      A string is whitespace if all characters in the string are whitespace and there\n",
      " |      is at least one character in the string.\n",
      " |  \n",
      " |  istitle(self, /)\n",
      " |      Return True if the string is a title-cased string, False otherwise.\n",
      " |      \n",
      " |      In a title-cased string, upper- and title-case characters may only\n",
      " |      follow uncased characters and lowercase characters only cased ones.\n",
      " |  \n",
      " |  isupper(self, /)\n",
      " |      Return True if the string is an uppercase string, False otherwise.\n",
      " |      \n",
      " |      A string is uppercase if all cased characters in the string are uppercase and\n",
      " |      there is at least one cased character in the string.\n",
      " |  \n",
      " |  join(self, iterable, /)\n",
      " |      Concatenate any number of strings.\n",
      " |      \n",
      " |      The string whose method is called is inserted in between each given string.\n",
      " |      The result is returned as a new string.\n",
      " |      \n",
      " |      Example: '.'.join(['ab', 'pq', 'rs']) -> 'ab.pq.rs'\n",
      " |  \n",
      " |  ljust(self, width, fillchar=' ', /)\n",
      " |      Return a left-justified string of length width.\n",
      " |      \n",
      " |      Padding is done using the specified fill character (default is a space).\n",
      " |  \n",
      " |  lower(self, /)\n",
      " |      Return a copy of the string converted to lowercase.\n",
      " |  \n",
      " |  lstrip(self, chars=None, /)\n",
      " |      Return a copy of the string with leading whitespace removed.\n",
      " |      \n",
      " |      If chars is given and not None, remove characters in chars instead.\n",
      " |  \n",
      " |  partition(self, sep, /)\n",
      " |      Partition the string into three parts using the given separator.\n",
      " |      \n",
      " |      This will search for the separator in the string.  If the separator is found,\n",
      " |      returns a 3-tuple containing the part before the separator, the separator\n",
      " |      itself, and the part after it.\n",
      " |      \n",
      " |      If the separator is not found, returns a 3-tuple containing the original string\n",
      " |      and two empty strings.\n",
      " |  \n",
      " |  removeprefix(self, prefix, /)\n",
      " |      Return a str with the given prefix string removed if present.\n",
      " |      \n",
      " |      If the string starts with the prefix string, return string[len(prefix):].\n",
      " |      Otherwise, return a copy of the original string.\n",
      " |  \n",
      " |  removesuffix(self, suffix, /)\n",
      " |      Return a str with the given suffix string removed if present.\n",
      " |      \n",
      " |      If the string ends with the suffix string and that suffix is not empty,\n",
      " |      return string[:-len(suffix)]. Otherwise, return a copy of the original\n",
      " |      string.\n",
      " |  \n",
      " |  replace(self, old, new, count=-1, /)\n",
      " |      Return a copy with all occurrences of substring old replaced by new.\n",
      " |      \n",
      " |        count\n",
      " |          Maximum number of occurrences to replace.\n",
      " |          -1 (the default value) means replace all occurrences.\n",
      " |      \n",
      " |      If the optional argument count is given, only the first count occurrences are\n",
      " |      replaced.\n",
      " |  \n",
      " |  rfind(...)\n",
      " |      S.rfind(sub[, start[, end]]) -> int\n",
      " |      \n",
      " |      Return the highest index in S where substring sub is found,\n",
      " |      such that sub is contained within S[start:end].  Optional\n",
      " |      arguments start and end are interpreted as in slice notation.\n",
      " |      \n",
      " |      Return -1 on failure.\n",
      " |  \n",
      " |  rindex(...)\n",
      " |      S.rindex(sub[, start[, end]]) -> int\n",
      " |      \n",
      " |      Return the highest index in S where substring sub is found,\n",
      " |      such that sub is contained within S[start:end].  Optional\n",
      " |      arguments start and end are interpreted as in slice notation.\n",
      " |      \n",
      " |      Raises ValueError when the substring is not found.\n",
      " |  \n",
      " |  rjust(self, width, fillchar=' ', /)\n",
      " |      Return a right-justified string of length width.\n",
      " |      \n",
      " |      Padding is done using the specified fill character (default is a space).\n",
      " |  \n",
      " |  rpartition(self, sep, /)\n",
      " |      Partition the string into three parts using the given separator.\n",
      " |      \n",
      " |      This will search for the separator in the string, starting at the end. If\n",
      " |      the separator is found, returns a 3-tuple containing the part before the\n",
      " |      separator, the separator itself, and the part after it.\n",
      " |      \n",
      " |      If the separator is not found, returns a 3-tuple containing two empty strings\n",
      " |      and the original string.\n",
      " |  \n",
      " |  rsplit(self, /, sep=None, maxsplit=-1)\n",
      " |      Return a list of the substrings in the string, using sep as the separator string.\n",
      " |      \n",
      " |        sep\n",
      " |          The separator used to split the string.\n",
      " |      \n",
      " |          When set to None (the default value), will split on any whitespace\n",
      " |          character (including \\n \\r \\t \\f and spaces) and will discard\n",
      " |          empty strings from the result.\n",
      " |        maxsplit\n",
      " |          Maximum number of splits (starting from the left).\n",
      " |          -1 (the default value) means no limit.\n",
      " |      \n",
      " |      Splitting starts at the end of the string and works to the front.\n",
      " |  \n",
      " |  rstrip(self, chars=None, /)\n",
      " |      Return a copy of the string with trailing whitespace removed.\n",
      " |      \n",
      " |      If chars is given and not None, remove characters in chars instead.\n",
      " |  \n",
      " |  split(self, /, sep=None, maxsplit=-1)\n",
      " |      Return a list of the substrings in the string, using sep as the separator string.\n",
      " |      \n",
      " |        sep\n",
      " |          The separator used to split the string.\n",
      " |      \n",
      " |          When set to None (the default value), will split on any whitespace\n",
      " |          character (including \\n \\r \\t \\f and spaces) and will discard\n",
      " |          empty strings from the result.\n",
      " |        maxsplit\n",
      " |          Maximum number of splits (starting from the left).\n",
      " |          -1 (the default value) means no limit.\n",
      " |      \n",
      " |      Note, str.split() is mainly useful for data that has been intentionally\n",
      " |      delimited.  With natural text that includes punctuation, consider using\n",
      " |      the regular expression module.\n",
      " |  \n",
      " |  splitlines(self, /, keepends=False)\n",
      " |      Return a list of the lines in the string, breaking at line boundaries.\n",
      " |      \n",
      " |      Line breaks are not included in the resulting list unless keepends is given and\n",
      " |      true.\n",
      " |  \n",
      " |  startswith(...)\n",
      " |      S.startswith(prefix[, start[, end]]) -> bool\n",
      " |      \n",
      " |      Return True if S starts with the specified prefix, False otherwise.\n",
      " |      With optional start, test S beginning at that position.\n",
      " |      With optional end, stop comparing S at that position.\n",
      " |      prefix can also be a tuple of strings to try.\n",
      " |  \n",
      " |  strip(self, chars=None, /)\n",
      " |      Return a copy of the string with leading and trailing whitespace removed.\n",
      " |      \n",
      " |      If chars is given and not None, remove characters in chars instead.\n",
      " |  \n",
      " |  swapcase(self, /)\n",
      " |      Convert uppercase characters to lowercase and lowercase characters to uppercase.\n",
      " |  \n",
      " |  title(self, /)\n",
      " |      Return a version of the string where each word is titlecased.\n",
      " |      \n",
      " |      More specifically, words start with uppercased characters and all remaining\n",
      " |      cased characters have lower case.\n",
      " |  \n",
      " |  translate(self, table, /)\n",
      " |      Replace each character in the string using the given translation table.\n",
      " |      \n",
      " |        table\n",
      " |          Translation table, which must be a mapping of Unicode ordinals to\n",
      " |          Unicode ordinals, strings, or None.\n",
      " |      \n",
      " |      The table must implement lookup/indexing via __getitem__, for instance a\n",
      " |      dictionary or list.  If this operation raises LookupError, the character is\n",
      " |      left untouched.  Characters mapped to None are deleted.\n",
      " |  \n",
      " |  upper(self, /)\n",
      " |      Return a copy of the string converted to uppercase.\n",
      " |  \n",
      " |  zfill(self, width, /)\n",
      " |      Pad a numeric string with zeros on the left, to fill a field of the given width.\n",
      " |      \n",
      " |      The string is never truncated.\n",
      " |  \n",
      " |  ----------------------------------------------------------------------\n",
      " |  Static methods defined here:\n",
      " |  \n",
      " |  __new__(*args, **kwargs) from builtins.type\n",
      " |      Create and return a new object.  See help(type) for accurate signature.\n",
      " |  \n",
      " |  maketrans(...)\n",
      " |      Return a translation table usable for str.translate().\n",
      " |      \n",
      " |      If there is only one argument, it must be a dictionary mapping Unicode\n",
      " |      ordinals (integers) or characters to Unicode ordinals, strings or None.\n",
      " |      Character keys will be then converted to ordinals.\n",
      " |      If there are two arguments, they must be strings of equal length, and\n",
      " |      in the resulting dictionary, each character in x will be mapped to the\n",
      " |      character at the same position in y. If there is a third argument, it\n",
      " |      must be a string, whose characters will be mapped to None in the result.\n",
      "\n"
     ]
    }
   ],
   "source": [
    "# help()\n",
    "\n",
    "#Description: Invokes the built-in help system.\n",
    "\t\t\n",
    "help(str)"
   ]
  },
  {
   "cell_type": "code",
   "execution_count": 29,
   "id": "20040d9f-cd03-46de-b4b0-8ce110579e93",
   "metadata": {},
   "outputs": [
    {
     "name": "stdout",
     "output_type": "stream",
     "text": [
      "140717231688008\n"
     ]
    }
   ],
   "source": [
    "# id()\n",
    "\n",
    "#Description: Returns the identity (unique integer) of an object.\n",
    "\n",
    "x = 50\n",
    "identity = id(x)\n",
    "print(identity)"
   ]
  },
  {
   "cell_type": "code",
   "execution_count": 30,
   "id": "0175d089-7e0f-4604-9eb4-477e88a38bac",
   "metadata": {},
   "outputs": [
    {
     "name": "stdout",
     "output_type": "stream",
     "text": [
      "False\n"
     ]
    }
   ],
   "source": [
    "# isinstance()\n",
    "\n",
    "# Description: Returns True if the object is an instance of the class (direct, indirect, or virtual inheritance), False otherwise.\n",
    "\t\t\n",
    "z = 5.0\n",
    "result = isinstance(z, int)\n",
    "print(result)"
   ]
  },
  {
   "cell_type": "code",
   "execution_count": 32,
   "id": "ae3f083c-92d2-4a21-912b-e78a1dc65ef9",
   "metadata": {},
   "outputs": [
    {
     "name": "stdout",
     "output_type": "stream",
     "text": [
      "1\n"
     ]
    }
   ],
   "source": [
    "# iter()\n",
    "\n",
    "#Description: Returns an iterator object for an iterable.\n",
    "\t\t\n",
    "iterable = [1, 2, 3]\n",
    "iter_obj = iter(iterable)\n",
    "iter_obj\n",
    "print(next(iter_obj))"
   ]
  },
  {
   "cell_type": "code",
   "execution_count": 33,
   "id": "5b9a55df-3f04-4e1e-8f05-e97715ed012a",
   "metadata": {},
   "outputs": [
    {
     "name": "stdout",
     "output_type": "stream",
     "text": [
      "2\n"
     ]
    }
   ],
   "source": [
    "print(next(iter_obj))"
   ]
  },
  {
   "cell_type": "code",
   "execution_count": 34,
   "id": "9cfc32c2-875a-45b4-bd28-48f3ae0d6bb6",
   "metadata": {},
   "outputs": [
    {
     "name": "stdout",
     "output_type": "stream",
     "text": [
      "3\n"
     ]
    }
   ],
   "source": [
    "print(next(iter_obj))"
   ]
  },
  {
   "cell_type": "code",
   "execution_count": 35,
   "id": "c617138a-e2d8-42c8-970b-eff5728d5a65",
   "metadata": {},
   "outputs": [
    {
     "ename": "StopIteration",
     "evalue": "",
     "output_type": "error",
     "traceback": [
      "\u001b[1;31m---------------------------------------------------------------------------\u001b[0m",
      "\u001b[1;31mStopIteration\u001b[0m                             Traceback (most recent call last)",
      "Cell \u001b[1;32mIn[35], line 1\u001b[0m\n\u001b[1;32m----> 1\u001b[0m \u001b[38;5;28mprint\u001b[39m(\u001b[38;5;28mnext\u001b[39m(iter_obj))\n",
      "\u001b[1;31mStopIteration\u001b[0m: "
     ]
    }
   ],
   "source": [
    "print(next(iter_obj))"
   ]
  },
  {
   "cell_type": "code",
   "execution_count": 36,
   "id": "d87c3e1b-d279-492f-97c5-245c51f1aab7",
   "metadata": {},
   "outputs": [
    {
     "name": "stdout",
     "output_type": "stream",
     "text": [
      "9\n"
     ]
    }
   ],
   "source": [
    "# len()\n",
    "\n",
    "#Description: Returns the length (number of items) of an object.\n",
    "\t\t\n",
    "my_list = \"amitkumar\"\n",
    "length = len(my_list)\n",
    "print(length) "
   ]
  },
  {
   "cell_type": "code",
   "execution_count": 37,
   "id": "cc158a09-811b-49a7-9edd-ed4334ee9685",
   "metadata": {},
   "outputs": [
    {
     "name": "stdout",
     "output_type": "stream",
     "text": [
      "3\n"
     ]
    }
   ],
   "source": [
    "# max()\n",
    "\n",
    "#Description: Returns the largest item in an iterable or the largest of two or more arguments.\n",
    "\t\t\n",
    "max_num = max(1, 2, 3)\n",
    "print(max_num)"
   ]
  },
  {
   "cell_type": "code",
   "execution_count": 38,
   "id": "0cd28037-d70c-4f4f-bd0c-18c0a2293a6e",
   "metadata": {},
   "outputs": [
    {
     "name": "stdout",
     "output_type": "stream",
     "text": [
      "1\n"
     ]
    }
   ],
   "source": [
    "# min()\n",
    "\n",
    "#Description: Returns the smallest item in an iterable or the smallest of two or more arguments.\n",
    "\t\t \n",
    "min_num = min(1, 2, 3)\n",
    "print(min_num) "
   ]
  },
  {
   "cell_type": "code",
   "execution_count": 39,
   "id": "1812becd-9b2b-442c-a7dd-231cfed58c68",
   "metadata": {},
   "outputs": [
    {
     "ename": "FileNotFoundError",
     "evalue": "[Errno 2] No such file or directory: 'example.txt'",
     "output_type": "error",
     "traceback": [
      "\u001b[1;31m---------------------------------------------------------------------------\u001b[0m",
      "\u001b[1;31mFileNotFoundError\u001b[0m                         Traceback (most recent call last)",
      "Cell \u001b[1;32mIn[39], line 5\u001b[0m\n\u001b[0;32m      1\u001b[0m \u001b[38;5;66;03m# open()\u001b[39;00m\n\u001b[0;32m      2\u001b[0m \n\u001b[0;32m      3\u001b[0m \u001b[38;5;66;03m#Description: Opens a file and returns a file object.\u001b[39;00m\n\u001b[1;32m----> 5\u001b[0m file_obj \u001b[38;5;241m=\u001b[39m \u001b[38;5;28mopen\u001b[39m(\u001b[38;5;124m'\u001b[39m\u001b[38;5;124mexample.txt\u001b[39m\u001b[38;5;124m'\u001b[39m, \u001b[38;5;124m'\u001b[39m\u001b[38;5;124mr\u001b[39m\u001b[38;5;124m'\u001b[39m)\n\u001b[0;32m      6\u001b[0m content \u001b[38;5;241m=\u001b[39m file_obj\u001b[38;5;241m.\u001b[39mread()\n\u001b[0;32m      7\u001b[0m \u001b[38;5;28mprint\u001b[39m(content)\n",
      "File \u001b[1;32m~\\anaconda3\\Lib\\site-packages\\IPython\\core\\interactiveshell.py:310\u001b[0m, in \u001b[0;36m_modified_open\u001b[1;34m(file, *args, **kwargs)\u001b[0m\n\u001b[0;32m    303\u001b[0m \u001b[38;5;28;01mif\u001b[39;00m file \u001b[38;5;129;01min\u001b[39;00m {\u001b[38;5;241m0\u001b[39m, \u001b[38;5;241m1\u001b[39m, \u001b[38;5;241m2\u001b[39m}:\n\u001b[0;32m    304\u001b[0m     \u001b[38;5;28;01mraise\u001b[39;00m \u001b[38;5;167;01mValueError\u001b[39;00m(\n\u001b[0;32m    305\u001b[0m         \u001b[38;5;124mf\u001b[39m\u001b[38;5;124m\"\u001b[39m\u001b[38;5;124mIPython won\u001b[39m\u001b[38;5;124m'\u001b[39m\u001b[38;5;124mt let you open fd=\u001b[39m\u001b[38;5;132;01m{\u001b[39;00mfile\u001b[38;5;132;01m}\u001b[39;00m\u001b[38;5;124m by default \u001b[39m\u001b[38;5;124m\"\u001b[39m\n\u001b[0;32m    306\u001b[0m         \u001b[38;5;124m\"\u001b[39m\u001b[38;5;124mas it is likely to crash IPython. If you know what you are doing, \u001b[39m\u001b[38;5;124m\"\u001b[39m\n\u001b[0;32m    307\u001b[0m         \u001b[38;5;124m\"\u001b[39m\u001b[38;5;124myou can use builtins\u001b[39m\u001b[38;5;124m'\u001b[39m\u001b[38;5;124m open.\u001b[39m\u001b[38;5;124m\"\u001b[39m\n\u001b[0;32m    308\u001b[0m     )\n\u001b[1;32m--> 310\u001b[0m \u001b[38;5;28;01mreturn\u001b[39;00m io_open(file, \u001b[38;5;241m*\u001b[39margs, \u001b[38;5;241m*\u001b[39m\u001b[38;5;241m*\u001b[39mkwargs)\n",
      "\u001b[1;31mFileNotFoundError\u001b[0m: [Errno 2] No such file or directory: 'example.txt'"
     ]
    }
   ],
   "source": [
    "# open()\n",
    "\n",
    "#Description: Opens a file and returns a file object.\n",
    "\t\t \n",
    "file_obj = open('example.txt', 'r')\n",
    "content = file_obj.read()\n",
    "print(content)\n",
    "file_obj.close()"
   ]
  },
  {
   "cell_type": "code",
   "execution_count": 43,
   "id": "49b86ea8-364a-41c3-938b-c409342df80e",
   "metadata": {},
   "outputs": [
    {
     "name": "stdout",
     "output_type": "stream",
     "text": [
      "95\n"
     ]
    }
   ],
   "source": [
    "# ord()\n",
    "\n",
    "#Description: Returns the Unicode code point for a given character.\n",
    "\t\t \n",
    "unicode_value = ord('_')\n",
    "print(unicode_value)"
   ]
  },
  {
   "cell_type": "code",
   "execution_count": 45,
   "id": "d5b5e0a8-3c09-457b-8577-2e975e3c272c",
   "metadata": {},
   "outputs": [
    {
     "name": "stdout",
     "output_type": "stream",
     "text": [
      "10000\n"
     ]
    }
   ],
   "source": [
    "# pow()\n",
    "\n",
    "#Description: Returns the value of x to the power of y.\n",
    "\n",
    "result = pow(10, 4)\n",
    "print(result) "
   ]
  },
  {
   "cell_type": "code",
   "execution_count": 46,
   "id": "8640381e-ab78-42e5-9a2e-790439ba26d1",
   "metadata": {},
   "outputs": [
    {
     "name": "stdout",
     "output_type": "stream",
     "text": [
      "Hello, World!\n"
     ]
    }
   ],
   "source": [
    "# print()\n",
    "\n",
    "#Description: Outputs a message to the console or other standard output device.\n",
    "\t\t\n",
    "print(\"Hello, World!\")"
   ]
  },
  {
   "cell_type": "code",
   "execution_count": 47,
   "id": "3f2fddd3-f2fe-4541-9cb5-8106fd4e65c2",
   "metadata": {},
   "outputs": [
    {
     "name": "stdout",
     "output_type": "stream",
     "text": [
      "{1, 2, 3, 4}\n"
     ]
    }
   ],
   "source": [
    "# set()\n",
    "\n",
    "#Description: Returns a new set object.\n",
    "\t\t \n",
    "set_obj = set([1, 2, 2,3,4,3])\n",
    "print(set_obj)"
   ]
  },
  {
   "cell_type": "code",
   "execution_count": 48,
   "id": "5b1fb92b-3c8b-4a89-ad2c-c3833a4a8b54",
   "metadata": {},
   "outputs": [
    {
     "name": "stdout",
     "output_type": "stream",
     "text": [
      "[0, 1, 2, 3, 4]\n"
     ]
    }
   ],
   "source": [
    "# range()\n",
    "\n",
    "#Description: Returns a sequence of numbers, starting from 0 (by default), and increments by 1 (by default), and stops before a specified number.\n",
    "\t\t \n",
    "rng = range(5)\n",
    "print(list(rng))"
   ]
  },
  {
   "cell_type": "code",
   "execution_count": 50,
   "id": "2d5e95e9-1a34-49ae-b657-d3b3899b512f",
   "metadata": {},
   "outputs": [
    {
     "name": "stdout",
     "output_type": "stream",
     "text": [
      "[3, 'A', 7, 4, 2, 1]\n"
     ]
    }
   ],
   "source": [
    "# reversed()\n",
    "\n",
    "#Description: Returns a reverse iterator.\n",
    "\t\t \n",
    "rev_iter = reversed([1, 2,4,7, 'A',3])\n",
    "\n",
    "print(list(rev_iter)) "
   ]
  },
  {
   "cell_type": "code",
   "execution_count": 52,
   "id": "6701fbb7-7e86-4f6d-908f-df5f67ee98cb",
   "metadata": {},
   "outputs": [
    {
     "name": "stdout",
     "output_type": "stream",
     "text": [
      "3.142\n"
     ]
    }
   ],
   "source": [
    "# round()\n",
    "\n",
    "#Description: Rounds a number to a specified precision in decimal digits.\n",
    "\t\t \n",
    "num = 3.14159\n",
    "rounded_num = round(num, 3)\n",
    "print(rounded_num)"
   ]
  },
  {
   "cell_type": "code",
   "execution_count": 55,
   "id": "a240a937-1b77-4916-ace1-7609591a5a67",
   "metadata": {},
   "outputs": [
    {
     "name": "stdout",
     "output_type": "stream",
     "text": [
      "[1, 2, 3]\n"
     ]
    }
   ],
   "source": [
    "# sorted()\n",
    "\n",
    "#Description: Returns a sorted list from the items in an iterable.\n",
    " \n",
    "lst = [3, 1,2]\n",
    "\n",
    "sorted_lst = sorted(lst)\n",
    "print(sorted_lst) "
   ]
  },
  {
   "cell_type": "code",
   "execution_count": 56,
   "id": "bdc2c4d9-1d4e-4e56-a9dc-ca04e97c293e",
   "metadata": {},
   "outputs": [
    {
     "name": "stdout",
     "output_type": "stream",
     "text": [
      "6\n"
     ]
    }
   ],
   "source": [
    "# sum()\n",
    "\n",
    "#Description: Sums the items of an iterable.\n",
    "\t\t \n",
    "lst = [1, 2, 3]\n",
    "sum_lst = sum(lst)\n",
    "print(sum_lst)"
   ]
  },
  {
   "cell_type": "code",
   "execution_count": 57,
   "id": "6e3ae81e-7115-443a-993e-b74063643b7d",
   "metadata": {},
   "outputs": [
    {
     "name": "stdout",
     "output_type": "stream",
     "text": [
      "<class 'int'>\n"
     ]
    }
   ],
   "source": [
    "# type()\n",
    "\n",
    "#Description: Returns the type of an object or creates a new type object.\n",
    "\t\t \n",
    "x = 5\n",
    "print(type(x)) "
   ]
  },
  {
   "cell_type": "code",
   "execution_count": 60,
   "id": "45097e11-e4f5-4975-a572-c6b03fa51ce9",
   "metadata": {},
   "outputs": [
    {
     "name": "stdout",
     "output_type": "stream",
     "text": [
      "[(1, 'a'), (2, 'b'), (3, 'c'), (4, 'd')]\n"
     ]
    }
   ],
   "source": [
    "# zip()\n",
    "\n",
    "#Description: Returns an iterator of tuples, where the i-th tuple contains the i-th element from each of the argument sequences or iterables.\n",
    "\t\t \n",
    "lst1 = [1, 2, 3,4,5]\n",
    "lst2 = ['a', 'b', 'c', \"d\"]\n",
    "\n",
    "zipped = zip(lst1, lst2)\n",
    "print(list(zipped)) "
   ]
  },
  {
   "cell_type": "code",
   "execution_count": null,
   "id": "0b70ab1f-8a3d-45c4-a66d-ebcebb0c911d",
   "metadata": {},
   "outputs": [],
   "source": []
  },
  {
   "cell_type": "code",
   "execution_count": null,
   "id": "459035b2-0995-4d08-8ebd-d442853c0c7e",
   "metadata": {},
   "outputs": [],
   "source": []
  },
  {
   "cell_type": "code",
   "execution_count": 61,
   "id": "ab691996-edcf-44ad-89e4-22b2cf8b6420",
   "metadata": {},
   "outputs": [
    {
     "name": "stdout",
     "output_type": "stream",
     "text": [
      "Hello\n",
      "World\n"
     ]
    }
   ],
   "source": [
    "# \\n new line\n",
    "print(\"Hello\\nWorld\")"
   ]
  },
  {
   "cell_type": "code",
   "execution_count": 62,
   "id": "5755b466-9947-4ad1-a48a-585d848ba1ca",
   "metadata": {},
   "outputs": [
    {
     "name": "stdout",
     "output_type": "stream",
     "text": [
      "Name:\tAlice\n"
     ]
    }
   ],
   "source": [
    "# \\t tab space\n",
    "print(\"Name:\\tAlice\")"
   ]
  },
  {
   "cell_type": "code",
   "execution_count": null,
   "id": "58f793f2-34b7-4c62-b4fc-8bafd42be9af",
   "metadata": {},
   "outputs": [],
   "source": [
    "# \\\\ (Backslash)\n",
    "\n",
    "path = \"C:\\\\Users\\\\John\\\\Documents\"\n",
    "print(path)"
   ]
  },
  {
   "cell_type": "code",
   "execution_count": null,
   "id": "38c3a510-a1ce-470c-8fd7-bc78aecca895",
   "metadata": {},
   "outputs": [],
   "source": [
    "path = \"C:/Users/John/Documents\"\n",
    "\"C:\\Users\\amitm\\Downloads\\Conditions.ipynb\""
   ]
  },
  {
   "cell_type": "code",
   "execution_count": 63,
   "id": "f766a42e-5c23-4e49-b021-4751f2e22868",
   "metadata": {},
   "outputs": [
    {
     "name": "stdout",
     "output_type": "stream",
     "text": [
      "He said, 'Hello!'\n"
     ]
    }
   ],
   "source": [
    "# \\' and \\\" (Single and Double Quotes)\n",
    "\n",
    "# Using \\' to include a single quote inside a string\n",
    "\n",
    "message = 'He said, \\'Hello!\\''\n",
    "print(message)"
   ]
  },
  {
   "cell_type": "code",
   "execution_count": 66,
   "id": "d0f7f11a-4981-4ca9-8f15-3277dc71334d",
   "metadata": {},
   "outputs": [
    {
     "name": "stdout",
     "output_type": "stream",
     "text": [
      "He said, 'Hello!'\n"
     ]
    }
   ],
   "source": [
    "print(\"He said, 'Hello!'\")"
   ]
  },
  {
   "cell_type": "markdown",
   "id": "8cc1644d-55d8-4c2a-a6a4-b948466a1a44",
   "metadata": {},
   "source": [
    "## String Formating:-"
   ]
  },
  {
   "cell_type": "code",
   "execution_count": 70,
   "id": "4aeafef8-940d-4770-bea3-30863dcef12d",
   "metadata": {},
   "outputs": [],
   "source": [
    "# 1.Basic Syntax: Use % followed by a tuple of values or a single value (if only one placeholder) to substitute into the string.\n",
    "name = \"Alice\"\n",
    "lastname = \"david\"\n",
    "age = 30.00\n",
    "formatted_string = \"My name is %s %s and I am %d years old.\" % (lastname, name, age)"
   ]
  },
  {
   "cell_type": "code",
   "execution_count": 68,
   "id": "d9ece3a2-8ae8-4907-b1e7-3475e9436ff1",
   "metadata": {},
   "outputs": [
    {
     "data": {
      "text/plain": [
       "'My name is david Alice and I am 30 years old.'"
      ]
     },
     "execution_count": 68,
     "metadata": {},
     "output_type": "execute_result"
    }
   ],
   "source": [
    "formatted_string"
   ]
  },
  {
   "cell_type": "code",
   "execution_count": null,
   "id": "ad68938d-8be7-45cb-92ce-1ca1e5879b66",
   "metadata": {},
   "outputs": [],
   "source": [
    "#Formatting Options:\n",
    "# %s for strings\n",
    "# %d for integers\n",
    "# %.f for floating-point numbers"
   ]
  },
  {
   "cell_type": "code",
   "execution_count": 71,
   "id": "2de761d3-250b-4569-9b5f-45782fdee212",
   "metadata": {},
   "outputs": [
    {
     "name": "stdout",
     "output_type": "stream",
     "text": [
      "My name is 25 and I am Bob years old.\n"
     ]
    }
   ],
   "source": [
    "name = \"Bob\"\n",
    "age = 25\n",
    "formatted_string = \"My name is {} and I am {} years old.\".format(age, name)\n",
    "print(formatted_string)"
   ]
  },
  {
   "cell_type": "code",
   "execution_count": 72,
   "id": "ee1ec1a4-3e5b-4829-b4d8-8bd3487ec2a5",
   "metadata": {},
   "outputs": [
    {
     "data": {
      "text/plain": [
       "'First: Bob, Second: 25'"
      ]
     },
     "execution_count": 72,
     "metadata": {},
     "output_type": "execute_result"
    }
   ],
   "source": [
    "#Positional and Keyword Arguments:\n",
    "\n",
    "#Positional arguments:\n",
    "\n",
    "formatted_string = \"First: {1}, Second: {0}\".format(age, name)\n",
    "formatted_string"
   ]
  },
  {
   "cell_type": "code",
   "execution_count": 73,
   "id": "990d0db3-16da-41b9-8df3-5b6e1b727f64",
   "metadata": {},
   "outputs": [
    {
     "data": {
      "text/plain": [
       "'Name: Alice, Age: 30'"
      ]
     },
     "execution_count": 73,
     "metadata": {},
     "output_type": "execute_result"
    }
   ],
   "source": [
    "#Keyword arguments:\n",
    "\n",
    "formatted_string = \"Name: {name}, Age: {age}\".format(name=\"Alice\", age=30)\n",
    "formatted_string"
   ]
  },
  {
   "cell_type": "code",
   "execution_count": 74,
   "id": "d6ef9daa-fed8-4c98-889a-dd5454a0f171",
   "metadata": {},
   "outputs": [
    {
     "name": "stdout",
     "output_type": "stream",
     "text": [
      "My name is Alice, I am 30 years old, and I work as an engineer.\n"
     ]
    }
   ],
   "source": [
    "# f-string\n",
    "\n",
    "name = \"Alice\"\n",
    "age = 30\n",
    "occupation = \"engineer\"\n",
    "\n",
    "# Using f-string to format the output\n",
    "\n",
    "sentence = f\"My name is {name}, I am {age} years old, and I work as an {occupation}.\"\n",
    "print(sentence)"
   ]
  },
  {
   "cell_type": "code",
   "execution_count": null,
   "id": "a2ac7574-bca3-49ce-b923-9568980fef07",
   "metadata": {},
   "outputs": [],
   "source": []
  },
  {
   "cell_type": "code",
   "execution_count": 75,
   "id": "ed0cc0fb-8729-4ae0-b189-2ddb9163e54f",
   "metadata": {},
   "outputs": [],
   "source": [
    "occupation = \"engineer\""
   ]
  },
  {
   "cell_type": "code",
   "execution_count": 76,
   "id": "053ce983-1277-455a-b500-d8261de5d8ee",
   "metadata": {},
   "outputs": [
    {
     "data": {
      "text/plain": [
       "'Engineer'"
      ]
     },
     "execution_count": 76,
     "metadata": {},
     "output_type": "execute_result"
    }
   ],
   "source": [
    "occupation.capitalize()"
   ]
  },
  {
   "cell_type": "code",
   "execution_count": 77,
   "id": "9fda18ea-b030-4437-8e7e-892dd599ef49",
   "metadata": {},
   "outputs": [
    {
     "data": {
      "text/plain": [
       "'ENGINEER'"
      ]
     },
     "execution_count": 77,
     "metadata": {},
     "output_type": "execute_result"
    }
   ],
   "source": [
    "occupation.upper()"
   ]
  },
  {
   "cell_type": "code",
   "execution_count": 79,
   "id": "2a934668-febe-4974-be5f-9094c5ef4970",
   "metadata": {},
   "outputs": [],
   "source": [
    "v = occupation.center(50)"
   ]
  },
  {
   "cell_type": "code",
   "execution_count": 80,
   "id": "0ad5763f-7fd6-451e-9486-e7a4bc383cdc",
   "metadata": {},
   "outputs": [
    {
     "data": {
      "text/plain": [
       "50"
      ]
     },
     "execution_count": 80,
     "metadata": {},
     "output_type": "execute_result"
    }
   ],
   "source": [
    "len(v)"
   ]
  },
  {
   "cell_type": "code",
   "execution_count": 82,
   "id": "cdaf1775-0661-48de-95e2-36e99dc50298",
   "metadata": {},
   "outputs": [
    {
     "data": {
      "text/plain": [
       "True"
      ]
     },
     "execution_count": 82,
     "metadata": {},
     "output_type": "execute_result"
    }
   ],
   "source": [
    "occupation.endswith(\"r\")"
   ]
  },
  {
   "cell_type": "code",
   "execution_count": 83,
   "id": "2cbd863d-f5ba-4c17-aa60-cba32f137a92",
   "metadata": {},
   "outputs": [
    {
     "data": {
      "text/plain": [
       "'gineer'"
      ]
     },
     "execution_count": 83,
     "metadata": {},
     "output_type": "execute_result"
    }
   ],
   "source": [
    "occupation.removeprefix(\"en\")"
   ]
  },
  {
   "cell_type": "code",
   "execution_count": 84,
   "id": "35bcb541-368f-48b9-bcf4-f87a667110fd",
   "metadata": {},
   "outputs": [
    {
     "data": {
      "text/plain": [
       "'engine'"
      ]
     },
     "execution_count": 84,
     "metadata": {},
     "output_type": "execute_result"
    }
   ],
   "source": [
    "occupation.removesuffix(\"er\")"
   ]
  },
  {
   "cell_type": "code",
   "execution_count": 85,
   "id": "2c590ab4-7297-4e0c-819a-fcff45722101",
   "metadata": {},
   "outputs": [],
   "source": [
    "v1 = 'My name is david Alice and I am 30 years old.'"
   ]
  },
  {
   "cell_type": "code",
   "execution_count": 87,
   "id": "6df9ca6d-414a-462b-a486-b8e888432a4b",
   "metadata": {},
   "outputs": [
    {
     "data": {
      "text/plain": [
       "('My', ' ', 'name is david Alice and I am 30 years old.')"
      ]
     },
     "execution_count": 87,
     "metadata": {},
     "output_type": "execute_result"
    }
   ],
   "source": [
    "v1.partition(\" \")"
   ]
  },
  {
   "cell_type": "code",
   "execution_count": 88,
   "id": "424407d9-6f01-4b5f-b805-266b25873164",
   "metadata": {},
   "outputs": [
    {
     "data": {
      "text/plain": [
       "('My name is david Alice and I am 30 years', ' ', 'old.')"
      ]
     },
     "execution_count": 88,
     "metadata": {},
     "output_type": "execute_result"
    }
   ],
   "source": [
    "v1.rpartition(\" \")"
   ]
  },
  {
   "cell_type": "code",
   "execution_count": 89,
   "id": "076781db-d3c4-449b-974c-dadd0923b95b",
   "metadata": {},
   "outputs": [
    {
     "data": {
      "text/plain": [
       "['My', 'name', 'is', 'david', 'Alice', 'and', 'I', 'am', '30', 'years', 'old.']"
      ]
     },
     "execution_count": 89,
     "metadata": {},
     "output_type": "execute_result"
    }
   ],
   "source": [
    "v1.split()"
   ]
  },
  {
   "cell_type": "code",
   "execution_count": 91,
   "id": "b3126011-c5d9-48f4-a4bd-1fb156d725b5",
   "metadata": {},
   "outputs": [
    {
     "data": {
      "text/plain": [
       "['My name ', ' david Alice and I am 30 years old.']"
      ]
     },
     "execution_count": 91,
     "metadata": {},
     "output_type": "execute_result"
    }
   ],
   "source": [
    "v1.split(\"is\")"
   ]
  },
  {
   "cell_type": "code",
   "execution_count": 96,
   "id": "09aa18e9-4b68-4567-8163-e92dea07a988",
   "metadata": {},
   "outputs": [],
   "source": [
    "v2 = \"      hello@@@$$$\""
   ]
  },
  {
   "cell_type": "code",
   "execution_count": 93,
   "id": "4f55fb53-844b-4884-881b-df42dde7d056",
   "metadata": {},
   "outputs": [
    {
     "data": {
      "text/plain": [
       "'      hello'"
      ]
     },
     "execution_count": 93,
     "metadata": {},
     "output_type": "execute_result"
    }
   ],
   "source": [
    "v2.rstrip()"
   ]
  },
  {
   "cell_type": "code",
   "execution_count": 94,
   "id": "e4a8e88e-675c-49c8-bf37-29c9578483d4",
   "metadata": {},
   "outputs": [
    {
     "data": {
      "text/plain": [
       "'hello       '"
      ]
     },
     "execution_count": 94,
     "metadata": {},
     "output_type": "execute_result"
    }
   ],
   "source": [
    "v2.lstrip()"
   ]
  },
  {
   "cell_type": "code",
   "execution_count": 99,
   "id": "64678a1a-f505-4ff1-be9c-2334f7df2525",
   "metadata": {},
   "outputs": [
    {
     "data": {
      "text/plain": [
       "'      hello'"
      ]
     },
     "execution_count": 99,
     "metadata": {},
     "output_type": "execute_result"
    }
   ],
   "source": [
    "v2.strip(\"@$\")"
   ]
  },
  {
   "cell_type": "code",
   "execution_count": 100,
   "id": "dfd5dfe9-24e7-4301-b063-28a78b1514e8",
   "metadata": {},
   "outputs": [
    {
     "data": {
      "text/plain": [
       "'My name Is davId AlIce and I am 30 years old.'"
      ]
     },
     "execution_count": 100,
     "metadata": {},
     "output_type": "execute_result"
    }
   ],
   "source": [
    "v1.replace(\"i\", \"I\")"
   ]
  },
  {
   "cell_type": "code",
   "execution_count": null,
   "id": "cd3bcc46-46c6-4feb-8786-721af524ceb1",
   "metadata": {},
   "outputs": [],
   "source": []
  }
 ],
 "metadata": {
  "kernelspec": {
   "display_name": "Python 3 (ipykernel)",
   "language": "python",
   "name": "python3"
  },
  "language_info": {
   "codemirror_mode": {
    "name": "ipython",
    "version": 3
   },
   "file_extension": ".py",
   "mimetype": "text/x-python",
   "name": "python",
   "nbconvert_exporter": "python",
   "pygments_lexer": "ipython3",
   "version": "3.11.7"
  }
 },
 "nbformat": 4,
 "nbformat_minor": 5
}
