{
 "cells": [
  {
   "cell_type": "markdown",
   "id": "ff80b651-6245-4fdb-8ae4-21c828c9c5bc",
   "metadata": {},
   "source": [
    "# Loop"
   ]
  },
  {
   "cell_type": "code",
   "execution_count": null,
   "id": "243664b4-22cc-4853-9e5b-fbe3194a9874",
   "metadata": {},
   "outputs": [],
   "source": [
    "iterable\n",
    "iterator\n",
    "iteration"
   ]
  },
  {
   "cell_type": "code",
   "execution_count": null,
   "id": "432736fb-a796-42d5-a290-8d960c781a1c",
   "metadata": {},
   "outputs": [],
   "source": [
    "iterable = str, list, set, dict, tuple\n",
    "non iterable = int, float, bool, complex"
   ]
  },
  {
   "cell_type": "code",
   "execution_count": null,
   "id": "5df14ee1-9d3e-449c-b676-3167e5b96e50",
   "metadata": {},
   "outputs": [],
   "source": [
    "for, while, iter"
   ]
  },
  {
   "cell_type": "code",
   "execution_count": 1,
   "id": "b2eec8ca-bdb9-4023-bfc6-f065bb25940c",
   "metadata": {},
   "outputs": [],
   "source": [
    "var = \"this is first loop\""
   ]
  },
  {
   "cell_type": "code",
   "execution_count": 19,
   "id": "4e209864-8a6c-427e-94bf-2f0958a81dd7",
   "metadata": {},
   "outputs": [],
   "source": [
    "x = 10\n",
    "y = 20\n",
    "z = 45 + 6j  \n",
    "\n",
    "2x + 6y = 23"
   ]
  },
  {
   "cell_type": "code",
   "execution_count": 3,
   "id": "d9b8f589-8dbe-47aa-99f8-5495ff6f3482",
   "metadata": {},
   "outputs": [
    {
     "name": "stdout",
     "output_type": "stream",
     "text": [
      "t\n",
      "h\n",
      "i\n",
      "s\n",
      " \n",
      "i\n",
      "s\n",
      " \n",
      "f\n",
      "i\n",
      "r\n",
      "s\n",
      "t\n",
      " \n",
      "l\n",
      "o\n",
      "o\n",
      "p\n"
     ]
    }
   ],
   "source": [
    "for i in var:\n",
    "    print(i)"
   ]
  },
  {
   "cell_type": "code",
   "execution_count": 4,
   "id": "4d3c85af-f80d-4063-8c74-757dd7a2b9f7",
   "metadata": {},
   "outputs": [
    {
     "data": {
      "text/plain": [
       "18"
      ]
     },
     "execution_count": 4,
     "metadata": {},
     "output_type": "execute_result"
    }
   ],
   "source": [
    "len(var)"
   ]
  },
  {
   "cell_type": "code",
   "execution_count": 5,
   "id": "41583997-029f-42f0-84e2-c834d7f75226",
   "metadata": {},
   "outputs": [
    {
     "data": {
      "text/plain": [
       "range(0, 10)"
      ]
     },
     "execution_count": 5,
     "metadata": {},
     "output_type": "execute_result"
    }
   ],
   "source": [
    "range(10)"
   ]
  },
  {
   "cell_type": "code",
   "execution_count": 6,
   "id": "e6defd42-426a-46ce-9e87-b7198aeb379a",
   "metadata": {},
   "outputs": [
    {
     "data": {
      "text/plain": [
       "[0, 1, 2, 3, 4, 5, 6, 7, 8, 9]"
      ]
     },
     "execution_count": 6,
     "metadata": {},
     "output_type": "execute_result"
    }
   ],
   "source": [
    "list(range(10))"
   ]
  },
  {
   "cell_type": "code",
   "execution_count": 7,
   "id": "5072151c-b800-4bda-a07b-5f77ecaa396c",
   "metadata": {},
   "outputs": [
    {
     "data": {
      "text/plain": [
       "[1, 2, 3, 4, 5, 6, 7, 8, 9]"
      ]
     },
     "execution_count": 7,
     "metadata": {},
     "output_type": "execute_result"
    }
   ],
   "source": [
    "list(range(1, 10))"
   ]
  },
  {
   "cell_type": "code",
   "execution_count": 8,
   "id": "c5b0205f-eb4d-459f-ae55-4511ef6d918f",
   "metadata": {},
   "outputs": [
    {
     "data": {
      "text/plain": [
       "[1, 3, 5, 7, 9, 11, 13, 15, 17, 19]"
      ]
     },
     "execution_count": 8,
     "metadata": {},
     "output_type": "execute_result"
    }
   ],
   "source": [
    "list(range(1, 20, 2))"
   ]
  },
  {
   "cell_type": "code",
   "execution_count": 9,
   "id": "2fb7de33-08a8-4c91-9f4f-c85dd6927050",
   "metadata": {},
   "outputs": [
    {
     "data": {
      "text/plain": [
       "[]"
      ]
     },
     "execution_count": 9,
     "metadata": {},
     "output_type": "execute_result"
    }
   ],
   "source": [
    "list(range(1, 20, -2))"
   ]
  },
  {
   "cell_type": "code",
   "execution_count": null,
   "id": "cd0bfafe-c7c5-451a-bef0-90e341c304e5",
   "metadata": {},
   "outputs": [],
   "source": [
    "                 -3-2-1 0 1 2 3 "
   ]
  },
  {
   "cell_type": "code",
   "execution_count": 10,
   "id": "4f57d297-c10a-4d9d-bbdd-fc419266bbfb",
   "metadata": {},
   "outputs": [
    {
     "data": {
      "text/plain": [
       "[20, 18, 16, 14, 12, 10, 8, 6, 4, 2]"
      ]
     },
     "execution_count": 10,
     "metadata": {},
     "output_type": "execute_result"
    }
   ],
   "source": [
    "list(range(20, 1, -2))"
   ]
  },
  {
   "cell_type": "code",
   "execution_count": null,
   "id": "16a9a6a2-6f39-4390-a316-0316465613e5",
   "metadata": {},
   "outputs": [],
   "source": []
  },
  {
   "cell_type": "code",
   "execution_count": 11,
   "id": "e8f86742-a3a9-4175-9804-9b208b097f57",
   "metadata": {},
   "outputs": [
    {
     "name": "stdout",
     "output_type": "stream",
     "text": [
      "0\n",
      "1\n",
      "2\n",
      "3\n",
      "4\n",
      "5\n",
      "6\n",
      "7\n",
      "8\n",
      "9\n",
      "10\n",
      "11\n",
      "12\n",
      "13\n",
      "14\n",
      "15\n",
      "16\n",
      "17\n",
      "18\n",
      "19\n"
     ]
    }
   ],
   "source": [
    "for i in range(20):\n",
    "    print(i)"
   ]
  },
  {
   "cell_type": "code",
   "execution_count": 13,
   "id": "f8537a89-e6d9-40e8-bf15-899effe1d564",
   "metadata": {},
   "outputs": [
    {
     "name": "stdout",
     "output_type": "stream",
     "text": [
      "20\n",
      "19\n",
      "18\n",
      "17\n",
      "16\n",
      "15\n",
      "14\n",
      "13\n",
      "12\n",
      "11\n"
     ]
    }
   ],
   "source": [
    "for i in range(20, 10,-1):\n",
    "    print(i)"
   ]
  },
  {
   "cell_type": "code",
   "execution_count": 17,
   "id": "13c2793f-5eae-4e7b-8bd2-34836ef71e15",
   "metadata": {},
   "outputs": [
    {
     "name": "stdout",
     "output_type": "stream",
     "text": [
      "0-1-2-3-4-5-6-7-8-9-10-11-12-13-14-15-16-17-18-19-"
     ]
    }
   ],
   "source": [
    "for i in range(20):\n",
    "    print(i, end = \"-\")"
   ]
  },
  {
   "cell_type": "code",
   "execution_count": 20,
   "id": "81cdcab0-1be3-4091-b1e1-90fd27085a2d",
   "metadata": {},
   "outputs": [
    {
     "ename": "TypeError",
     "evalue": "'int' object is not iterable",
     "output_type": "error",
     "traceback": [
      "\u001b[1;31m---------------------------------------------------------------------------\u001b[0m",
      "\u001b[1;31mTypeError\u001b[0m                                 Traceback (most recent call last)",
      "Cell \u001b[1;32mIn[20], line 1\u001b[0m\n\u001b[1;32m----> 1\u001b[0m \u001b[38;5;28;01mfor\u001b[39;00m i \u001b[38;5;129;01min\u001b[39;00m x:\n\u001b[0;32m      2\u001b[0m     \u001b[38;5;28mprint\u001b[39m(i)\n",
      "\u001b[1;31mTypeError\u001b[0m: 'int' object is not iterable"
     ]
    }
   ],
   "source": [
    "for i in x:\n",
    "    print(i)"
   ]
  },
  {
   "cell_type": "code",
   "execution_count": 21,
   "id": "71d7c969-4d77-4ef0-bd45-75cb45992201",
   "metadata": {},
   "outputs": [
    {
     "name": "stdout",
     "output_type": "stream",
     "text": [
      "0\n",
      "1\n",
      "2\n",
      "3\n",
      "4\n"
     ]
    }
   ],
   "source": [
    "a = 0\n",
    "while a < 5:\n",
    "    print(a)\n",
    "    a+=1"
   ]
  },
  {
   "cell_type": "code",
   "execution_count": 22,
   "id": "1a9d50ef-404d-4233-9054-abbf948dd8b7",
   "metadata": {},
   "outputs": [
    {
     "name": "stdout",
     "output_type": "stream",
     "text": [
      "Python Python Python Python Python Python Python Python Python Python "
     ]
    }
   ],
   "source": [
    "for x in range(10):\n",
    "    print(\"Python\", end = \" \")"
   ]
  },
  {
   "cell_type": "code",
   "execution_count": 23,
   "id": "b553b2ad-0564-400b-bcfa-3d1cbef65cde",
   "metadata": {},
   "outputs": [],
   "source": [
    "l = [1,23,2,3,5,True]"
   ]
  },
  {
   "cell_type": "code",
   "execution_count": 24,
   "id": "7c3c7a99-6608-4d6b-8d31-c0bc34b281a3",
   "metadata": {},
   "outputs": [
    {
     "name": "stdout",
     "output_type": "stream",
     "text": [
      "1\n",
      "23\n",
      "2\n",
      "3\n",
      "5\n",
      "True\n",
      "if for loop is going to complete itself the it will execute else \n"
     ]
    }
   ],
   "source": [
    "for i in l :\n",
    "    print(i)\n",
    "else :\n",
    "    print(\"if for loop is going to complete itself the it will execute else \")"
   ]
  },
  {
   "cell_type": "code",
   "execution_count": 25,
   "id": "ab74a5ef-93e5-43c1-a931-f401ca2cdf1d",
   "metadata": {},
   "outputs": [],
   "source": [
    "l = [1,2,3,4,\"sudh\" ,\"kumar\" , 45.56]"
   ]
  },
  {
   "cell_type": "code",
   "execution_count": 26,
   "id": "1f4a5f27-4ec9-4c3c-972b-a695d88a37b9",
   "metadata": {},
   "outputs": [
    {
     "name": "stdout",
     "output_type": "stream",
     "text": [
      "1\n",
      "2\n",
      "3\n",
      "4\n",
      "sudh\n",
      "kumar\n",
      "45.56\n"
     ]
    }
   ],
   "source": [
    "for i in l :\n",
    "    pass\n",
    "    print(i)"
   ]
  },
  {
   "cell_type": "code",
   "execution_count": 27,
   "id": "1151bd9a-cfcc-43c2-8dd4-8cfad5dc474b",
   "metadata": {},
   "outputs": [
    {
     "data": {
      "text/plain": [
       "[1, 2, 3, 4, 'sudh', 'kumar', 45.56]"
      ]
     },
     "execution_count": 27,
     "metadata": {},
     "output_type": "execute_result"
    }
   ],
   "source": [
    "l"
   ]
  },
  {
   "cell_type": "code",
   "execution_count": 28,
   "id": "f7a98e61-c8b1-4c82-939d-b7ba91c792c3",
   "metadata": {},
   "outputs": [
    {
     "name": "stdout",
     "output_type": "stream",
     "text": [
      "1\n",
      "2\n",
      "3\n"
     ]
    }
   ],
   "source": [
    "for i in l :\n",
    "    if i == 4 :\n",
    "        break\n",
    "    print(i)\n",
    "else :\n",
    "    print(\"this will execute only if for is going to complete itself\")"
   ]
  },
  {
   "cell_type": "code",
   "execution_count": 29,
   "id": "c8bfe75e-c7c8-4792-9831-30266a1be75e",
   "metadata": {},
   "outputs": [
    {
     "name": "stdout",
     "output_type": "stream",
     "text": [
      "1\n",
      "2\n",
      "3\n",
      "sudh\n",
      "kumar\n",
      "45.56\n",
      "this will execute only if for is going to complete itself\n"
     ]
    }
   ],
   "source": [
    "for i in l :\n",
    "    if i == 4 :\n",
    "        continue\n",
    "    print(i)\n",
    "else :\n",
    "    print(\"this will execute only if for is going to complete itself\")"
   ]
  },
  {
   "cell_type": "code",
   "execution_count": 30,
   "id": "c91adab6-a49e-48f3-8ff1-ad55887a109b",
   "metadata": {},
   "outputs": [
    {
     "name": "stdout",
     "output_type": "stream",
     "text": [
      "s\n",
      "u\n",
      "d\n",
      "h\n",
      "a\n"
     ]
    }
   ],
   "source": [
    "s = \"sudhanshu\"\n",
    "for i in s :\n",
    "    if i == 'n' :\n",
    "        break\n",
    "    print(i)\n",
    "else :\n",
    "    print(\"print srtring \" , s )"
   ]
  },
  {
   "cell_type": "code",
   "execution_count": 31,
   "id": "627fde02-3668-4c50-ab3d-09e3191ac15d",
   "metadata": {},
   "outputs": [
    {
     "name": "stdout",
     "output_type": "stream",
     "text": [
      "s\n",
      "u\n",
      "d\n",
      "h\n",
      "a\n",
      "s\n",
      "h\n",
      "u\n",
      "print srtring  sudhanshu\n"
     ]
    }
   ],
   "source": [
    "s = \"sudhanshu\"\n",
    "for i in s :\n",
    "    if i == 'n' :\n",
    "        continue\n",
    "    print(i)\n",
    "else :\n",
    "    print(\"print srtring \" , s )"
   ]
  },
  {
   "cell_type": "code",
   "execution_count": 32,
   "id": "d43cd1a1-3d60-49e4-a226-1fec1c0fa4b9",
   "metadata": {},
   "outputs": [],
   "source": [
    "d = {'key1' :\"sudh\" , 'contact' : \"gmail\" , \"position\" : \"mentor\"}"
   ]
  },
  {
   "cell_type": "code",
   "execution_count": 33,
   "id": "07944fb3-82fc-4b8d-815b-96fff21efc88",
   "metadata": {},
   "outputs": [
    {
     "name": "stdout",
     "output_type": "stream",
     "text": [
      "key1\n",
      "contact\n",
      "position\n"
     ]
    }
   ],
   "source": [
    "for i in d:\n",
    "    print(i)"
   ]
  },
  {
   "cell_type": "code",
   "execution_count": 34,
   "id": "6bd8bc3c-6dd5-4fe3-94e7-b326cb38ee6d",
   "metadata": {},
   "outputs": [
    {
     "name": "stdout",
     "output_type": "stream",
     "text": [
      "sudh\n",
      "gmail\n",
      "mentor\n"
     ]
    }
   ],
   "source": [
    "for i in d.values():\n",
    "    print(i)"
   ]
  },
  {
   "cell_type": "code",
   "execution_count": 37,
   "id": "e3e49564-effc-4c45-82dc-6b20e3f3511d",
   "metadata": {},
   "outputs": [
    {
     "name": "stdout",
     "output_type": "stream",
     "text": [
      "('key1', 'sudh')    <class 'tuple'>\n",
      "('contact', 'gmail')    <class 'tuple'>\n",
      "('position', 'mentor')    <class 'tuple'>\n"
     ]
    }
   ],
   "source": [
    "for i in d.items():\n",
    "    print(i, \"  \", type(i))\n",
    "   "
   ]
  },
  {
   "cell_type": "code",
   "execution_count": 38,
   "id": "d74fcc71-e747-4414-87c3-e472648a681c",
   "metadata": {},
   "outputs": [
    {
     "name": "stdout",
     "output_type": "stream",
     "text": [
      "key1 sudh    <class 'str'>\n",
      "contact gmail    <class 'str'>\n",
      "position mentor    <class 'str'>\n"
     ]
    }
   ],
   "source": [
    "for i,j in d.items():\n",
    "    print(i,j, \"  \", type(i))"
   ]
  },
  {
   "cell_type": "code",
   "execution_count": 39,
   "id": "f79aa4d0-c336-4be9-92ae-bc23a995483e",
   "metadata": {},
   "outputs": [
    {
     "name": "stdout",
     "output_type": "stream",
     "text": [
      "DA \n",
      "\n",
      "DA DA \n",
      "\n",
      "DA DA DA \n",
      "\n",
      "DA DA DA DA \n",
      "\n"
     ]
    }
   ],
   "source": [
    "n = 4\n",
    "\n",
    "for i in range(n) :\n",
    "    for j in range(0, i+1) : \n",
    "        print(\"DA\" , end = \" \")\n",
    "    print(\"\\n\")"
   ]
  },
  {
   "cell_type": "code",
   "execution_count": 40,
   "id": "57891261-ff42-47f1-81fb-60a2ad8225e8",
   "metadata": {},
   "outputs": [
    {
     "name": "stdin",
     "output_type": "stream",
     "text": [
      "Enter the name :  vijay\n"
     ]
    },
    {
     "name": "stdout",
     "output_type": "stream",
     "text": [
      "\n",
      "You entered  vijay\n"
     ]
    },
    {
     "name": "stdin",
     "output_type": "stream",
     "text": [
      "Enter the name :  ajay\n"
     ]
    },
    {
     "name": "stdout",
     "output_type": "stream",
     "text": [
      "\n",
      "You entered  ajay\n"
     ]
    },
    {
     "name": "stdin",
     "output_type": "stream",
     "text": [
      "Enter the name :  sujoy\n"
     ]
    },
    {
     "name": "stdout",
     "output_type": "stream",
     "text": [
      "\n",
      "You entered  sujoy\n"
     ]
    }
   ],
   "source": [
    "count = 3\n",
    "\n",
    "for i in range(count):\n",
    "    name = input(\"Enter the name : \")\n",
    "    print()\n",
    "    print('You entered ', name)"
   ]
  },
  {
   "cell_type": "code",
   "execution_count": 41,
   "id": "b0f57bd5-c520-4145-bca8-1d76a5e1a522",
   "metadata": {},
   "outputs": [
    {
     "name": "stdin",
     "output_type": "stream",
     "text": [
      "Enter the name (use 'Quit' to stop : abc\n"
     ]
    },
    {
     "name": "stdout",
     "output_type": "stream",
     "text": [
      "You entered  abc\n"
     ]
    },
    {
     "name": "stdin",
     "output_type": "stream",
     "text": [
      "Enter the name (use 'Quit' to stop : ujf\n"
     ]
    },
    {
     "name": "stdout",
     "output_type": "stream",
     "text": [
      "You entered  ujf\n"
     ]
    },
    {
     "name": "stdin",
     "output_type": "stream",
     "text": [
      "Enter the name (use 'Quit' to stop : rty5\n"
     ]
    },
    {
     "name": "stdout",
     "output_type": "stream",
     "text": [
      "You entered  rty5\n"
     ]
    },
    {
     "name": "stdin",
     "output_type": "stream",
     "text": [
      "Enter the name (use 'Quit' to stop : quit\n"
     ]
    },
    {
     "name": "stdout",
     "output_type": "stream",
     "text": [
      "You entered  quit\n"
     ]
    },
    {
     "name": "stdin",
     "output_type": "stream",
     "text": [
      "Enter the name (use 'Quit' to stop : Quit\n"
     ]
    }
   ],
   "source": [
    "name = \"\"\n",
    "\n",
    "while name != \"Quit\":\n",
    "    name = input(\"Enter the name (use 'Quit' to stop :\")\n",
    "    if name != \"Quit\":\n",
    "        print('You entered ', name) "
   ]
  },
  {
   "cell_type": "code",
   "execution_count": 42,
   "id": "24fb21cb-4f41-43b5-a66b-b754ad149167",
   "metadata": {},
   "outputs": [
    {
     "name": "stdout",
     "output_type": "stream",
     "text": [
      "1\n",
      "2\n",
      "3\n",
      "4\n",
      "4\n",
      "5\n",
      "5\n",
      "6\n",
      "6\n",
      "7\n"
     ]
    }
   ],
   "source": [
    "# Example\n",
    "i = 0           #iteration variable initialized\n",
    "while i < 7:    # condition is evaluated \n",
    "    if i > 3 :   \n",
    "        print(i)    # block statements are executed until the condition is true and iteration variable is less that 3\n",
    "    i = i + 1\n",
    "    print(i)"
   ]
  },
  {
   "cell_type": "code",
   "execution_count": 43,
   "id": "44edf28e-085c-4c96-ac8d-d2861a2d8cce",
   "metadata": {},
   "outputs": [
    {
     "name": "stdin",
     "output_type": "stream",
     "text": [
      "Enter the stmt (Use 'Quit' to stop ) abc\n"
     ]
    },
    {
     "name": "stdout",
     "output_type": "stream",
     "text": [
      "abc\n"
     ]
    },
    {
     "name": "stdin",
     "output_type": "stream",
     "text": [
      "Enter the stmt (Use 'Quit' to stop ) opq\n"
     ]
    },
    {
     "name": "stdout",
     "output_type": "stream",
     "text": [
      "opq\n"
     ]
    },
    {
     "name": "stdin",
     "output_type": "stream",
     "text": [
      "Enter the stmt (Use 'Quit' to stop ) Quit\n"
     ]
    },
    {
     "name": "stdout",
     "output_type": "stream",
     "text": [
      "Quit\n"
     ]
    }
   ],
   "source": [
    "stmt = \"\"\n",
    "\n",
    "while stmt != 'Quit':\n",
    "    stmt = input(\"Enter the stmt (Use 'Quit' to stop )\")\n",
    "    if stmt.startswith(\"#\") :\n",
    "        continue\n",
    "    if len(stmt) > 0 :\n",
    "        print(stmt)"
   ]
  },
  {
   "cell_type": "code",
   "execution_count": 45,
   "id": "a2531ece-58d9-4a65-977e-68efa16f80db",
   "metadata": {},
   "outputs": [
    {
     "name": "stdout",
     "output_type": "stream",
     "text": [
      "0    value :  0\n",
      "1    value :  1\n",
      "2    value :  4\n",
      "3    value :  9\n",
      "4    value :  16\n",
      "5    value :  25\n"
     ]
    }
   ],
   "source": [
    "squares = [0, 1, 4, 9, 16, 25]\n",
    "\n",
    "for i, j in enumerate(squares):\n",
    "    print(i, \"  \", \"value : \" , j)"
   ]
  },
  {
   "cell_type": "code",
   "execution_count": 46,
   "id": "40ccd940-9507-4e25-8ca9-242468642fbf",
   "metadata": {},
   "outputs": [
    {
     "name": "stdout",
     "output_type": "stream",
     "text": [
      "0 D\n",
      "1 a\n",
      "2 t\n",
      "3 a\n"
     ]
    }
   ],
   "source": [
    "for i,j in enumerate(\"Data\"):\n",
    "    print(i,j)\n",
    "    "
   ]
  },
  {
   "cell_type": "code",
   "execution_count": 47,
   "id": "0fbcb6e9-8926-47e8-8bcf-1571414f5ce5",
   "metadata": {},
   "outputs": [
    {
     "name": "stdout",
     "output_type": "stream",
     "text": [
      "0 J\n",
      "1 a\n",
      "2 s\n",
      "3 m\n",
      "4 i\n",
      "5 n\n",
      "6  \n",
      "7 s\n",
      "8 h\n",
      "9 e\n",
      "10 i\n",
      "11 k\n",
      "12 h\n"
     ]
    }
   ],
   "source": [
    "s = \"Jasmin sheikh\"\n",
    "for i in range(len(s)) : \n",
    "    print(i , s[i])"
   ]
  },
  {
   "cell_type": "code",
   "execution_count": 48,
   "id": "6675dc1e-5d3a-4dc7-b87d-bd4691f2d578",
   "metadata": {},
   "outputs": [],
   "source": [
    "d4 = {1: ([[\"a\",\"b\"],1,2],\"Nikita\",\"mayuri\"), 2: ([[2,\"b\"],\"k1\",2000],\"mayuri\",\"nikita\")}"
   ]
  },
  {
   "cell_type": "code",
   "execution_count": 49,
   "id": "6c1818e2-59a1-4d2c-85e1-27a7b56e8ba3",
   "metadata": {},
   "outputs": [
    {
     "name": "stdout",
     "output_type": "stream",
     "text": [
      "Nikita\n",
      "mayuri\n",
      "mayuri\n",
      "nikita\n"
     ]
    }
   ],
   "source": [
    "for i in d4.values():\n",
    "    for j in i:\n",
    "        if type(j) == str: \n",
    "            print(j)"
   ]
  },
  {
   "cell_type": "code",
   "execution_count": 50,
   "id": "6d23aee1-cbe3-4ffc-8e86-444206c607a7",
   "metadata": {},
   "outputs": [
    {
     "name": "stdout",
     "output_type": "stream",
     "text": [
      "1\n",
      "2\n",
      "2000\n"
     ]
    }
   ],
   "source": [
    "for i in d4.values():\n",
    "    for j in i:\n",
    "        if type(j) == list: \n",
    "            for k in j:\n",
    "                if type(k) == int:\n",
    "                    print(k)"
   ]
  },
  {
   "cell_type": "code",
   "execution_count": 56,
   "id": "b51db3a2-7384-4694-aeb4-34f89eb0373b",
   "metadata": {},
   "outputs": [
    {
     "name": "stdout",
     "output_type": "stream",
     "text": [
      "\n",
      "1 \n",
      "2 2 \n",
      "3 3 3 \n",
      "4 4 4 4 \n"
     ]
    }
   ],
   "source": [
    "rows = 5\n",
    "\n",
    "for i in range(rows):\n",
    "    # nested loop\n",
    "    for j in range(i):\n",
    "        # display number\n",
    "        print(i, end=' ')\n",
    "    # new line after each row\n",
    "    print('')"
   ]
  },
  {
   "cell_type": "code",
   "execution_count": 57,
   "id": "f9a7edf3-b7d1-497a-a6c7-3b9063142a6c",
   "metadata": {},
   "outputs": [
    {
     "name": "stdout",
     "output_type": "stream",
     "text": [
      "& & & & & \n",
      "& & & & \n",
      "& & & \n",
      "& & \n",
      "& \n"
     ]
    }
   ],
   "source": [
    "rows = 5\n",
    "num = rows\n",
    "# reverse for loop\n",
    "for i in range(rows, 0, -1):\n",
    "    for j in range(0, i):\n",
    "        print(\"&\", end=' ')\n",
    "    print(\"\\r\")"
   ]
  },
  {
   "cell_type": "code",
   "execution_count": 58,
   "id": "b778cd9d-e96d-4e03-8562-5abad421c34d",
   "metadata": {},
   "outputs": [
    {
     "name": "stdout",
     "output_type": "stream",
     "text": [
      "        * * * * * * \n",
      "         * * * * * \n",
      "          * * * * \n",
      "           * * * \n",
      "            * * \n",
      "             * \n"
     ]
    }
   ],
   "source": [
    "rows = 5\n",
    "k = 2 * rows - 2\n",
    "for i in range(rows, -1, -1):\n",
    "    for j in range(k, 0, -1):\n",
    "        print(end=\" \")\n",
    "    k = k + 1\n",
    "    for j in range(0, i + 1):\n",
    "        print(\"*\", end=\" \")\n",
    "    print(\"\")"
   ]
  },
  {
   "cell_type": "code",
   "execution_count": null,
   "id": "2796aa75-a6ba-4727-a61e-7692fa821f1c",
   "metadata": {},
   "outputs": [],
   "source": []
  }
 ],
 "metadata": {
  "kernelspec": {
   "display_name": "Python 3 (ipykernel)",
   "language": "python",
   "name": "python3"
  },
  "language_info": {
   "codemirror_mode": {
    "name": "ipython",
    "version": 3
   },
   "file_extension": ".py",
   "mimetype": "text/x-python",
   "name": "python",
   "nbconvert_exporter": "python",
   "pygments_lexer": "ipython3",
   "version": "3.11.7"
  }
 },
 "nbformat": 4,
 "nbformat_minor": 5
}
