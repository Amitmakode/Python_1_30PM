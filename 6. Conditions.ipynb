{
 "cells": [
  {
   "cell_type": "code",
   "execution_count": null,
   "id": "5a799c80-9306-4c9e-bdd2-3e302197ad8d",
   "metadata": {},
   "outputs": [],
   "source": [
    "+\n",
    "-\n",
    "/\n",
    "*\n",
    "**\n",
    "//\n",
    "%    "
   ]
  },
  {
   "cell_type": "code",
   "execution_count": 1,
   "id": "cf9dbbb7-1b34-4c67-9495-baea58bf90bc",
   "metadata": {},
   "outputs": [
    {
     "data": {
      "text/plain": [
       "3.5"
      ]
     },
     "execution_count": 1,
     "metadata": {},
     "output_type": "execute_result"
    }
   ],
   "source": [
    "7/2"
   ]
  },
  {
   "cell_type": "code",
   "execution_count": 2,
   "id": "0c250630-422d-41c2-8a0f-f3cffbb57c95",
   "metadata": {},
   "outputs": [
    {
     "data": {
      "text/plain": [
       "1"
      ]
     },
     "execution_count": 2,
     "metadata": {},
     "output_type": "execute_result"
    }
   ],
   "source": [
    "7%2"
   ]
  },
  {
   "cell_type": "code",
   "execution_count": 5,
   "id": "ed0c3255-1252-44f6-ae59-b60af507e4da",
   "metadata": {},
   "outputs": [
    {
     "data": {
      "text/plain": [
       "3"
      ]
     },
     "execution_count": 5,
     "metadata": {},
     "output_type": "execute_result"
    }
   ],
   "source": [
    "7//2"
   ]
  },
  {
   "cell_type": "code",
   "execution_count": null,
   "id": "9f7bee17-8c19-415e-94f9-09fd801f73b3",
   "metadata": {},
   "outputs": [],
   "source": [
    ">\n",
    "<\n",
    "==\n",
    "!=\n",
    ">=\n",
    "<="
   ]
  },
  {
   "cell_type": "code",
   "execution_count": null,
   "id": "70ed1e04-9a99-44a4-a137-4ca01839e990",
   "metadata": {},
   "outputs": [],
   "source": [
    "and\n",
    "or\n",
    "not\n",
    "is\n",
    "in"
   ]
  },
  {
   "cell_type": "code",
   "execution_count": 6,
   "id": "e01d491a-474e-422e-8c91-ea885e78a466",
   "metadata": {},
   "outputs": [
    {
     "data": {
      "text/plain": [
       "True"
      ]
     },
     "execution_count": 6,
     "metadata": {},
     "output_type": "execute_result"
    }
   ],
   "source": [
    "True and True "
   ]
  },
  {
   "cell_type": "code",
   "execution_count": 7,
   "id": "2319843d-9478-4c5f-b554-33bb69f848b9",
   "metadata": {},
   "outputs": [
    {
     "data": {
      "text/plain": [
       "False"
      ]
     },
     "execution_count": 7,
     "metadata": {},
     "output_type": "execute_result"
    }
   ],
   "source": [
    "True and False"
   ]
  },
  {
   "cell_type": "code",
   "execution_count": 8,
   "id": "e3cdf814-1279-4ca1-b8e4-dcb7ca6bec52",
   "metadata": {},
   "outputs": [
    {
     "data": {
      "text/plain": [
       "False"
      ]
     },
     "execution_count": 8,
     "metadata": {},
     "output_type": "execute_result"
    }
   ],
   "source": [
    "False and False"
   ]
  },
  {
   "cell_type": "code",
   "execution_count": 9,
   "id": "d0f6a301-451b-46fa-9356-ad6a4347810b",
   "metadata": {},
   "outputs": [
    {
     "data": {
      "text/plain": [
       "False"
      ]
     },
     "execution_count": 9,
     "metadata": {},
     "output_type": "execute_result"
    }
   ],
   "source": [
    "False and True"
   ]
  },
  {
   "cell_type": "code",
   "execution_count": 10,
   "id": "ed1a9be6-1a1f-43e8-bb57-16e06df8a27a",
   "metadata": {},
   "outputs": [],
   "source": [
    "v = \"Python\"\n",
    "v1 = \"p\""
   ]
  },
  {
   "cell_type": "code",
   "execution_count": 11,
   "id": "b5b883c6-0e3f-4566-a370-29e21e00ba61",
   "metadata": {},
   "outputs": [
    {
     "data": {
      "text/plain": [
       "'Python'"
      ]
     },
     "execution_count": 11,
     "metadata": {},
     "output_type": "execute_result"
    }
   ],
   "source": [
    "v"
   ]
  },
  {
   "cell_type": "code",
   "execution_count": 12,
   "id": "2ea861c5-b7f9-4c87-a24d-3f19a80853e1",
   "metadata": {},
   "outputs": [
    {
     "data": {
      "text/plain": [
       "'p'"
      ]
     },
     "execution_count": 12,
     "metadata": {},
     "output_type": "execute_result"
    }
   ],
   "source": [
    "v1"
   ]
  },
  {
   "cell_type": "code",
   "execution_count": 13,
   "id": "297056d3-3bd8-4864-87c8-48c993f734f1",
   "metadata": {},
   "outputs": [
    {
     "name": "stderr",
     "output_type": "stream",
     "text": [
      "<>:1: SyntaxWarning: \"is\" with a literal. Did you mean \"==\"?\n",
      "<>:1: SyntaxWarning: \"is\" with a literal. Did you mean \"==\"?\n",
      "C:\\Users\\amitm\\AppData\\Local\\Temp\\ipykernel_5952\\885457812.py:1: SyntaxWarning: \"is\" with a literal. Did you mean \"==\"?\n",
      "  \"p\" is \"Python\"\n"
     ]
    },
    {
     "data": {
      "text/plain": [
       "False"
      ]
     },
     "execution_count": 13,
     "metadata": {},
     "output_type": "execute_result"
    }
   ],
   "source": [
    "\"p\" is \"Python\""
   ]
  },
  {
   "cell_type": "code",
   "execution_count": 14,
   "id": "4683a8fb-ecd2-48e8-955d-5307015b86d9",
   "metadata": {},
   "outputs": [
    {
     "data": {
      "text/plain": [
       "False"
      ]
     },
     "execution_count": 14,
     "metadata": {},
     "output_type": "execute_result"
    }
   ],
   "source": [
    "v is v1"
   ]
  },
  {
   "cell_type": "code",
   "execution_count": 15,
   "id": "cef3e6d2-a909-47d6-a700-2b52ce356ab7",
   "metadata": {},
   "outputs": [
    {
     "data": {
      "text/plain": [
       "False"
      ]
     },
     "execution_count": 15,
     "metadata": {},
     "output_type": "execute_result"
    }
   ],
   "source": [
    "v1 in v"
   ]
  },
  {
   "cell_type": "code",
   "execution_count": 16,
   "id": "f625540c-652b-48bd-8b89-342bca63a695",
   "metadata": {},
   "outputs": [
    {
     "data": {
      "text/plain": [
       "True"
      ]
     },
     "execution_count": 16,
     "metadata": {},
     "output_type": "execute_result"
    }
   ],
   "source": [
    "v1 not in v "
   ]
  },
  {
   "cell_type": "code",
   "execution_count": 18,
   "id": "ac9e2326-ec7f-401b-8ae8-13d94f3fff4c",
   "metadata": {},
   "outputs": [
    {
     "data": {
      "text/plain": [
       "True"
      ]
     },
     "execution_count": 18,
     "metadata": {},
     "output_type": "execute_result"
    }
   ],
   "source": [
    "\"P\" in \"Python\""
   ]
  },
  {
   "cell_type": "code",
   "execution_count": 22,
   "id": "ac1672ae-45da-49d4-a7ca-29af2d0f8777",
   "metadata": {},
   "outputs": [],
   "source": [
    "d ={'jan': 31, 'feb': 28, 'april': 30}"
   ]
  },
  {
   "cell_type": "code",
   "execution_count": 24,
   "id": "1a21d3e7-e695-41b8-9364-1dd34e429449",
   "metadata": {},
   "outputs": [
    {
     "data": {
      "text/plain": [
       "False"
      ]
     },
     "execution_count": 24,
     "metadata": {},
     "output_type": "execute_result"
    }
   ],
   "source": [
    "\"Dec\" in d"
   ]
  },
  {
   "cell_type": "markdown",
   "id": "5b9a20f6-fd43-40e9-bc08-f8efd676112c",
   "metadata": {},
   "source": [
    "## Bitwise oper"
   ]
  },
  {
   "cell_type": "code",
   "execution_count": 26,
   "id": "9bbda00f-7b12-497f-b3b6-0c87ffd86b5d",
   "metadata": {},
   "outputs": [],
   "source": [
    "a = 0"
   ]
  },
  {
   "cell_type": "code",
   "execution_count": 29,
   "id": "95eb667a-9244-4fba-8712-aa18c3fce098",
   "metadata": {},
   "outputs": [],
   "source": [
    "a = a+1"
   ]
  },
  {
   "cell_type": "code",
   "execution_count": 38,
   "id": "add97153-bfbe-4248-88dc-d8511a7c90d3",
   "metadata": {},
   "outputs": [
    {
     "data": {
      "text/plain": [
       "7"
      ]
     },
     "execution_count": 38,
     "metadata": {},
     "output_type": "execute_result"
    }
   ],
   "source": [
    "a"
   ]
  },
  {
   "cell_type": "code",
   "execution_count": 37,
   "id": "76534dcd-4dd9-4f37-94a2-dac1654a51be",
   "metadata": {},
   "outputs": [],
   "source": [
    "a+=2"
   ]
  },
  {
   "cell_type": "code",
   "execution_count": null,
   "id": "a3e77857-dc1d-430f-80ba-320bd0ca586d",
   "metadata": {},
   "outputs": [],
   "source": []
  },
  {
   "cell_type": "markdown",
   "id": "c9dee2b5-a335-4beb-a4fe-2aeeca853307",
   "metadata": {},
   "source": [
    "# Conditions"
   ]
  },
  {
   "cell_type": "code",
   "execution_count": null,
   "id": "15d3f2ee-302b-4e00-a160-702963474d05",
   "metadata": {},
   "outputs": [],
   "source": [
    "if\n",
    "elif\n",
    "else"
   ]
  },
  {
   "cell_type": "code",
   "execution_count": 46,
   "id": "d313c581-3455-44e6-a839-434419ea3f73",
   "metadata": {},
   "outputs": [
    {
     "name": "stdout",
     "output_type": "stream",
     "text": [
      "low\n"
     ]
    }
   ],
   "source": [
    "cost = 100\n",
    "if cost > 200:\n",
    "    print(\"high\")\n",
    "else:\n",
    "    print(\"low\")"
   ]
  },
  {
   "cell_type": "code",
   "execution_count": 47,
   "id": "6c07529f-d6b8-4dec-8a95-b93da632cfb0",
   "metadata": {},
   "outputs": [],
   "source": [
    "if cost > 200:\n",
    "    print(\"high\")"
   ]
  },
  {
   "cell_type": "code",
   "execution_count": 49,
   "id": "fd96c4a8-d53a-4232-8c29-41fcd1f29deb",
   "metadata": {},
   "outputs": [
    {
     "name": "stdout",
     "output_type": "stream",
     "text": [
      "low\n"
     ]
    }
   ],
   "source": [
    "cost = 101\n",
    "\n",
    "if cost > 200:\n",
    "    print(\"high\")\n",
    "elif cost == 100:\n",
    "    print(\"equal\")\n",
    "else:\n",
    "    print(\"low\")"
   ]
  },
  {
   "cell_type": "code",
   "execution_count": 50,
   "id": "02be61ba-c78e-4dc0-bcf1-5c3aeb5f4c40",
   "metadata": {},
   "outputs": [],
   "source": [
    "cost = 101\n",
    "\n",
    "if cost > 200:\n",
    "    print(\"high\")\n",
    "elif cost == 100:\n",
    "    print(\"equal\")"
   ]
  },
  {
   "cell_type": "code",
   "execution_count": 51,
   "id": "a0bf72ba-e509-4779-9638-c5b1966844aa",
   "metadata": {},
   "outputs": [
    {
     "name": "stdin",
     "output_type": "stream",
     "text": [
      " 56\n"
     ]
    },
    {
     "name": "stdout",
     "output_type": "stream",
     "text": [
      "greater than 10\n"
     ]
    }
   ],
   "source": [
    "num = int(input())\n",
    "\n",
    "if num > 10:\n",
    "    print(\"greater than 10\")\n",
    "else: \n",
    "    print(\"i don't know\")"
   ]
  },
  {
   "cell_type": "code",
   "execution_count": 52,
   "id": "45cae3ce-40d5-49a7-9a7c-a154c04e64ed",
   "metadata": {},
   "outputs": [
    {
     "ename": "SyntaxError",
     "evalue": "invalid syntax (3821098832.py, line 10)",
     "output_type": "error",
     "traceback": [
      "\u001b[1;36m  Cell \u001b[1;32mIn[52], line 10\u001b[1;36m\u001b[0m\n\u001b[1;33m    elif :\u001b[0m\n\u001b[1;37m         ^\u001b[0m\n\u001b[1;31mSyntaxError\u001b[0m\u001b[1;31m:\u001b[0m invalid syntax\n"
     ]
    }
   ],
   "source": [
    "number = 10\n",
    "A = 10\n",
    "B = 20\n",
    "C = 30\n",
    "\n",
    "if number == A:\n",
    "    print(\"python-1\")\n",
    "elif number > B :\n",
    "    print(\"python-2\")\n",
    "elif :\n",
    "    print(\"python-3\")\n",
    "else:\n",
    "    print(\"i don't know\")"
   ]
  },
  {
   "cell_type": "code",
   "execution_count": 55,
   "id": "6831d38d-1123-4ca5-9b72-c03d209235e1",
   "metadata": {},
   "outputs": [
    {
     "name": "stdout",
     "output_type": "stream",
     "text": [
      "number is equal\n"
     ]
    }
   ],
   "source": [
    "number  = 11\n",
    "if number == 11:\n",
    "    print(\"number is equal\")\n",
    "elif number > 11:\n",
    "    print(\"number is greater than 11\")\n",
    "    \n",
    "if number < 11:\n",
    "    print(\"number is less than 11\")"
   ]
  },
  {
   "cell_type": "code",
   "execution_count": 56,
   "id": "5e075fc9-6f81-4c93-bcdf-4f84966444c1",
   "metadata": {},
   "outputs": [
    {
     "name": "stdout",
     "output_type": "stream",
     "text": [
      "number is equal\n",
      "number is less than 11\n",
      "   ---\n"
     ]
    }
   ],
   "source": [
    "number  = 11\n",
    "if number == 11:\n",
    "    print(\"number is equal\")\n",
    "elif number > 11:\n",
    "    print(\"number is greater than 11\")\n",
    "    \n",
    "if number == 11:\n",
    "    print(\"number is less than 11\")\n",
    "\n",
    "if number == 11:\n",
    "    print(\"   ---\")"
   ]
  },
  {
   "cell_type": "code",
   "execution_count": 57,
   "id": "6cf82171-8f70-49ea-801c-66a2dd4e1c68",
   "metadata": {},
   "outputs": [
    {
     "name": "stdout",
     "output_type": "stream",
     "text": [
      "A is zero\n"
     ]
    }
   ],
   "source": [
    "a = 0\n",
    "if a > 0:\n",
    "    print('A is a positive number')\n",
    "elif a < 0:\n",
    "    print('A is a negative number')\n",
    "else:\n",
    "    print('A is zero')"
   ]
  },
  {
   "cell_type": "markdown",
   "id": "636bccb8-23d0-4ed3-b3bd-5b5c5aea2732",
   "metadata": {},
   "source": [
    "### Ternary Operator in Python"
   ]
  },
  {
   "cell_type": "code",
   "execution_count": null,
   "id": "02320bd2-9a0d-4320-9952-0a490d9cd9db",
   "metadata": {},
   "outputs": [],
   "source": [
    "#The ternary operator in Python is a one-line shorthand for if-else statements. It’s also known as a conditional expression."
   ]
  },
  {
   "cell_type": "code",
   "execution_count": null,
   "id": "d995ccfc-f666-46e4-8867-03a25c8ba032",
   "metadata": {},
   "outputs": [],
   "source": [
    "value_if_true if condition else value_if_false"
   ]
  },
  {
   "cell_type": "code",
   "execution_count": 59,
   "id": "b596ad7b-76c4-4d4c-b61c-86e45d736c00",
   "metadata": {},
   "outputs": [
    {
     "name": "stdout",
     "output_type": "stream",
     "text": [
      "odd\n"
     ]
    }
   ],
   "source": [
    "print(\"even\") if 9%2 == 0 else print(\"odd\") "
   ]
  },
  {
   "cell_type": "code",
   "execution_count": 60,
   "id": "0c3bef0a-ebd2-46cc-a318-ffb4bad4a4bf",
   "metadata": {},
   "outputs": [
    {
     "name": "stdout",
     "output_type": "stream",
     "text": [
      "B\n"
     ]
    }
   ],
   "source": [
    "score = 75\n",
    "grade = \"A\" if score >= 90 else \"B\" if score >= 75 else \"C\"\n",
    "print(grade) "
   ]
  },
  {
   "cell_type": "code",
   "execution_count": 62,
   "id": "d9def03c-ba0c-4420-98d5-8e3ecc9e3178",
   "metadata": {},
   "outputs": [
    {
     "name": "stdout",
     "output_type": "stream",
     "text": [
      "B\n"
     ]
    }
   ],
   "source": [
    "if score >= 90:\n",
    "    print(\"A\")\n",
    "else:\n",
    "    if score >= 75:\n",
    "        print(\"B\")\n",
    "    else:\n",
    "        print(\"C\")"
   ]
  },
  {
   "cell_type": "code",
   "execution_count": 63,
   "id": "1f04ccbe-f2eb-41d2-8c0a-6c2ca9ff6c54",
   "metadata": {},
   "outputs": [
    {
     "name": "stdout",
     "output_type": "stream",
     "text": [
      "good afternoon\n"
     ]
    }
   ],
   "source": [
    "from datetime import datetime\n",
    "\n",
    "# Get the current hour in IST\n",
    "current_hour = datetime.now().hour\n",
    "\n",
    "# Define greetings based on the hour\n",
    "greetings = (\n",
    "    \"good morning\" if current_hour < 12 else\n",
    "    \"good afternoon\" if current_hour < 18 else\n",
    "    \"good evening\" if current_hour < 21 else\n",
    "    \"good night\"\n",
    ")\n",
    "\n",
    "print(greetings)"
   ]
  },
  {
   "cell_type": "code",
   "execution_count": 64,
   "id": "2a02efb2-03f2-41fd-841f-f048f7756323",
   "metadata": {},
   "outputs": [
    {
     "name": "stdout",
     "output_type": "stream",
     "text": [
      "this is start of the week\n"
     ]
    }
   ],
   "source": [
    "day = \"monday\"\n",
    "\n",
    "match day:\n",
    "    case \"monday\":\n",
    "        print(\"this is start of the week\")\n",
    "    case \"tuesday\":\n",
    "        print(\"this is a second day of the week\")\n",
    "    case \"wednesday\":\n",
    "        print(\"this is mid of the week\")\n",
    "    case _ :\n",
    "        print(\"its just a another day\")"
   ]
  },
  {
   "cell_type": "code",
   "execution_count": 67,
   "id": "672bcb81-5610-4169-b4e7-2df8579f7eee",
   "metadata": {},
   "outputs": [
    {
     "name": "stdout",
     "output_type": "stream",
     "text": [
      "A is negative\n"
     ]
    }
   ],
   "source": [
    "A = -7\n",
    "print('A is positive') if A > 0 else print('A is negative') "
   ]
  },
  {
   "cell_type": "code",
   "execution_count": 71,
   "id": "9002b013-fef2-4804-91f4-778e678c6d84",
   "metadata": {},
   "outputs": [
    {
     "name": "stdout",
     "output_type": "stream",
     "text": [
      "A is a positive integer\n"
     ]
    }
   ],
   "source": [
    "a = 23\n",
    "if a > 0 and a % 2 == 0:\n",
    "        print('A is an even and positive integer')\n",
    "elif a > 0 and a % 2 !=  0:\n",
    "     print('A is a positive integer')\n",
    "elif a == 0:\n",
    "    print('A is zero')\n",
    "else:\n",
    "    print('A is negative')"
   ]
  },
  {
   "cell_type": "code",
   "execution_count": 72,
   "id": "52e2adc0-075a-4367-9c87-8a20065e0129",
   "metadata": {},
   "outputs": [
    {
     "name": "stdin",
     "output_type": "stream",
     "text": [
      "Enter an integer\n",
      " 6\n"
     ]
    },
    {
     "name": "stdout",
     "output_type": "stream",
     "text": [
      "9\n"
     ]
    }
   ],
   "source": [
    "import numpy as np\n",
    "import random \n",
    "\n",
    "rand_var = random.randint(1,10)\n",
    "\n",
    "guess = int(input(\"Enter an integer\\n\"))\n",
    "\n",
    "if guess == rand_var:\n",
    "    print(\"we guess correct value\")\n",
    "    \n",
    "print(rand_var)  "
   ]
  },
  {
   "cell_type": "code",
   "execution_count": 73,
   "id": "46ee010b-f3d8-4b53-9452-4ca16187ce8f",
   "metadata": {},
   "outputs": [
    {
     "name": "stdin",
     "output_type": "stream",
     "text": [
      "Enter an integer\n",
      " 21\n"
     ]
    },
    {
     "name": "stdout",
     "output_type": "stream",
     "text": [
      "Keep trying\n",
      "23\n"
     ]
    }
   ],
   "source": [
    "rand_var = 23\n",
    "guess = int(input(\"Enter an integer\\n\"))\n",
    "\n",
    "if guess == rand_var:\n",
    "    print(\"we guess correct value\")\n",
    "elif guess > rand_var:\n",
    "    print(\"guess number is greter than random variable\")\n",
    "else:\n",
    "    print(\"Keep trying\")\n",
    "    \n",
    "print(rand_var)"
   ]
  },
  {
   "cell_type": "code",
   "execution_count": 75,
   "id": "5f129bd2-3f9a-47ea-82c7-5d22b18a25c9",
   "metadata": {},
   "outputs": [
    {
     "name": "stdin",
     "output_type": "stream",
     "text": [
      "Enter an integer\n",
      " -3\n"
     ]
    },
    {
     "name": "stdout",
     "output_type": "stream",
     "text": [
      "Keep trying\n"
     ]
    }
   ],
   "source": [
    "rand_var = 11\n",
    "\n",
    "guess = int(input(\"Enter an integer\\n\"))\n",
    "\n",
    "if guess == rand_var:\n",
    "    print(\"we guess correct value\")\n",
    "    if guess <= rand_var:\n",
    "        print(\"guess number is smaller than random variable\")\n",
    "elif guess > rand_var:\n",
    "    print(\"guess number is greter than random variable\")\n",
    "else:\n",
    "    print(\"Keep trying\")"
   ]
  },
  {
   "cell_type": "code",
   "execution_count": 76,
   "id": "7201353b-90d3-434b-b273-d3d3931e58e1",
   "metadata": {},
   "outputs": [
    {
     "data": {
      "text/plain": [
       "True"
      ]
     },
     "execution_count": 76,
     "metadata": {},
     "output_type": "execute_result"
    }
   ],
   "source": [
    "12 == 12 or 12 > 13"
   ]
  },
  {
   "cell_type": "code",
   "execution_count": 79,
   "id": "075cab2b-cef7-40c5-846a-b2b67b9cb51f",
   "metadata": {},
   "outputs": [
    {
     "data": {
      "text/plain": [
       "True"
      ]
     },
     "execution_count": 79,
     "metadata": {},
     "output_type": "execute_result"
    }
   ],
   "source": [
    "12 == 12 and 12 > 13 and 13 > 12 and 14 == 14 or 11 < 12"
   ]
  },
  {
   "cell_type": "code",
   "execution_count": null,
   "id": "f544d04c-9f1f-4386-8447-4b5e1b23ab50",
   "metadata": {},
   "outputs": [],
   "source": []
  },
  {
   "cell_type": "code",
   "execution_count": null,
   "id": "fe14ef05-b0e3-4ea9-8ff2-86d6720f3a1e",
   "metadata": {},
   "outputs": [],
   "source": []
  }
 ],
 "metadata": {
  "kernelspec": {
   "display_name": "Python 3 (ipykernel)",
   "language": "python",
   "name": "python3"
  },
  "language_info": {
   "codemirror_mode": {
    "name": "ipython",
    "version": 3
   },
   "file_extension": ".py",
   "mimetype": "text/x-python",
   "name": "python",
   "nbconvert_exporter": "python",
   "pygments_lexer": "ipython3",
   "version": "3.11.7"
  }
 },
 "nbformat": 4,
 "nbformat_minor": 5
}
