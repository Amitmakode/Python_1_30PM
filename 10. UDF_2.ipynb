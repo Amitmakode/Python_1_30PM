{
 "cells": [
  {
   "cell_type": "code",
   "execution_count": 5,
   "id": "7513aa7f-8e4c-4828-b806-226cc7e146c6",
   "metadata": {},
   "outputs": [],
   "source": [
    "def area_circle(radius):\n",
    "    \"\"\"this is a function calculate the area of circle\n",
    "    pass only radius \"\"\"\n",
    "    import math \n",
    "    pi = math.pi\n",
    "    return pi*radius**2"
   ]
  },
  {
   "cell_type": "code",
   "execution_count": 6,
   "id": "b4a71cb3-16e9-458c-ac60-b4270b05ae83",
   "metadata": {},
   "outputs": [
    {
     "data": {
      "text/plain": [
       "7853.981633974483"
      ]
     },
     "execution_count": 6,
     "metadata": {},
     "output_type": "execute_result"
    }
   ],
   "source": [
    "area_circle(50)"
   ]
  },
  {
   "cell_type": "code",
   "execution_count": null,
   "id": "10eec8cc-50a0-4fb4-9c6f-26487b1fb459",
   "metadata": {},
   "outputs": [],
   "source": []
  },
  {
   "cell_type": "code",
   "execution_count": 7,
   "id": "1a501745-cb79-4bef-8cf2-c2de3eecd1f6",
   "metadata": {},
   "outputs": [],
   "source": [
    "x = \"awesome\"\n",
    "\n",
    "def myfunc():\n",
    "  x = \"fantastic\"\n",
    "  print(\"Python is \" + x)"
   ]
  },
  {
   "cell_type": "code",
   "execution_count": 8,
   "id": "73bfcaf2-85e8-449e-bd51-936a9edddbdb",
   "metadata": {},
   "outputs": [
    {
     "data": {
      "text/plain": [
       "'awesome'"
      ]
     },
     "execution_count": 8,
     "metadata": {},
     "output_type": "execute_result"
    }
   ],
   "source": [
    "x"
   ]
  },
  {
   "cell_type": "code",
   "execution_count": 9,
   "id": "a1176f73-51c8-4180-9ac3-664728b6cefc",
   "metadata": {},
   "outputs": [
    {
     "name": "stdout",
     "output_type": "stream",
     "text": [
      "Python is fantastic\n"
     ]
    }
   ],
   "source": [
    "myfunc()"
   ]
  },
  {
   "cell_type": "code",
   "execution_count": 12,
   "id": "84073654-4b40-406f-9d54-8581d90e2efd",
   "metadata": {},
   "outputs": [],
   "source": [
    "y = \"awesome1\"\n",
    "\n",
    "def myfunc1():\n",
    "  print(\"Python is \" + y)"
   ]
  },
  {
   "cell_type": "code",
   "execution_count": 13,
   "id": "9089eda2-d1a8-445e-bf1c-7d5cb19e67ae",
   "metadata": {},
   "outputs": [
    {
     "name": "stdout",
     "output_type": "stream",
     "text": [
      "Python is awesome1\n"
     ]
    }
   ],
   "source": [
    "myfunc1()"
   ]
  },
  {
   "cell_type": "code",
   "execution_count": 16,
   "id": "a8856951-b0ec-4547-8ea1-16195a5fb7e0",
   "metadata": {},
   "outputs": [
    {
     "data": {
      "text/plain": [
       "'fantastic'"
      ]
     },
     "execution_count": 16,
     "metadata": {},
     "output_type": "execute_result"
    }
   ],
   "source": [
    "def myfunc2():\n",
    "    global z\n",
    "    z = \"fantastic\"\n",
    "    return z \n",
    "myfunc2()"
   ]
  },
  {
   "cell_type": "code",
   "execution_count": 18,
   "id": "3eb2b32f-904c-4968-a7bf-129422b37cea",
   "metadata": {},
   "outputs": [
    {
     "data": {
      "text/plain": [
       "'fantastic'"
      ]
     },
     "execution_count": 18,
     "metadata": {},
     "output_type": "execute_result"
    }
   ],
   "source": [
    "z"
   ]
  },
  {
   "cell_type": "code",
   "execution_count": 19,
   "id": "f224e87e-17fb-46d0-a791-b1f582f88ab9",
   "metadata": {},
   "outputs": [],
   "source": [
    "def say_hi():\n",
    "    print(\"hi euron\")"
   ]
  },
  {
   "cell_type": "code",
   "execution_count": 20,
   "id": "1d4ab850-c8a0-4c30-9b67-515e9d9e7ca7",
   "metadata": {},
   "outputs": [
    {
     "name": "stdout",
     "output_type": "stream",
     "text": [
      "hi euron\n"
     ]
    }
   ],
   "source": [
    "say_hi()"
   ]
  },
  {
   "cell_type": "code",
   "execution_count": 21,
   "id": "7a06bbf1-eda9-4077-9bf3-9624e94550bb",
   "metadata": {},
   "outputs": [],
   "source": [
    "def decorator_func(func):\n",
    "    def wrapper():\n",
    "        print(\"you will be printed before function\")\n",
    "        func()\n",
    "        print(\"you will be printed after function call \")\n",
    "    return wrapper"
   ]
  },
  {
   "cell_type": "code",
   "execution_count": 23,
   "id": "29b5fde3-2e5e-463f-bd6e-8aa43fc231c3",
   "metadata": {},
   "outputs": [
    {
     "data": {
      "text/plain": [
       "<function __main__.decorator_func.<locals>.wrapper()>"
      ]
     },
     "execution_count": 23,
     "metadata": {},
     "output_type": "execute_result"
    }
   ],
   "source": [
    "decorator_func(\"hello\")"
   ]
  },
  {
   "cell_type": "code",
   "execution_count": 24,
   "id": "f717a9ac-3f73-4a8e-b97a-ec52541a7327",
   "metadata": {},
   "outputs": [],
   "source": [
    "@decorator_func\n",
    "def say_hi():\n",
    "    print(\"hi euron\")"
   ]
  },
  {
   "cell_type": "code",
   "execution_count": 26,
   "id": "1fc23384-c4e2-4950-a99a-5fa7acc8f7f3",
   "metadata": {},
   "outputs": [
    {
     "name": "stdout",
     "output_type": "stream",
     "text": [
      "you will be printed before function\n",
      "hi euron\n",
      "you will be printed after function call \n"
     ]
    },
    {
     "data": {
      "text/plain": [
       "<function __main__.decorator_func.<locals>.wrapper()>"
      ]
     },
     "execution_count": 26,
     "metadata": {},
     "output_type": "execute_result"
    }
   ],
   "source": [
    "decorator_func(say_hi())"
   ]
  },
  {
   "cell_type": "code",
   "execution_count": 27,
   "id": "79f4f9fb-b27b-4416-a679-9a2bcd27c009",
   "metadata": {},
   "outputs": [],
   "source": [
    "import time\n",
    "\n",
    "def timer(func):\n",
    "    def wrapper(*args , **kwargs):\n",
    "        start = time.time()\n",
    "        result = func(*args,**kwargs)\n",
    "        print(\"time taken by this function is \",time.time() - start)\n",
    "        return  result\n",
    "    return wrapper"
   ]
  },
  {
   "cell_type": "code",
   "execution_count": 28,
   "id": "661cd9a4-c7a4-43e0-8c13-b2bbdd3bfe28",
   "metadata": {},
   "outputs": [],
   "source": [
    "@timer\n",
    "def listparser(l):\n",
    "    time.sleep(1)\n",
    "    print(l)\n",
    "    for i in l :\n",
    "        print(i)"
   ]
  },
  {
   "cell_type": "code",
   "execution_count": 29,
   "id": "295463d9-cb59-4bd9-b58a-010b4ab4a8ea",
   "metadata": {},
   "outputs": [
    {
     "name": "stdout",
     "output_type": "stream",
     "text": [
      "[2, 34, 6, 5, 6, 6, 7, 7]\n",
      "2\n",
      "34\n",
      "6\n",
      "5\n",
      "6\n",
      "6\n",
      "7\n",
      "7\n",
      "time taken by this function is  1.0092582702636719\n"
     ]
    }
   ],
   "source": [
    "listparser([2,34,6,5,6,6,7,7,])"
   ]
  },
  {
   "cell_type": "code",
   "execution_count": 30,
   "id": "59317345-2e08-4eb9-9882-3b48deaa5fcf",
   "metadata": {},
   "outputs": [],
   "source": [
    "def reverse_string(s):\n",
    "    \"\"\"\n",
    "    Reverse the input string.\n",
    "\n",
    "    Parameters:\n",
    "    s (str): The string to reverse.\n",
    "\n",
    "    Returns:\n",
    "    str: The reversed string.\n",
    "    \"\"\"\n",
    "    return s[::-1]"
   ]
  },
  {
   "cell_type": "code",
   "execution_count": 31,
   "id": "4aa56e38-28cc-42d2-812c-c01d7c57a50e",
   "metadata": {},
   "outputs": [
    {
     "data": {
      "text/plain": [
       "'nohtyp olleh'"
      ]
     },
     "execution_count": 31,
     "metadata": {},
     "output_type": "execute_result"
    }
   ],
   "source": [
    "reverse_string(\"hello python\")"
   ]
  },
  {
   "cell_type": "code",
   "execution_count": 34,
   "id": "628e28c0-99cb-4fa1-98f0-f88a998dd71e",
   "metadata": {},
   "outputs": [],
   "source": [
    "def power_of(n, exponent):\n",
    "    def calculate_power(base, exp):\n",
    "        result = 1\n",
    "        for _ in range(exp):\n",
    "            result *= base\n",
    "        return result\n",
    "\n",
    "    return calculate_power(n, exponent)"
   ]
  },
  {
   "cell_type": "code",
   "execution_count": 35,
   "id": "1cabf3ef-c741-483b-9517-930fb7cd7a4d",
   "metadata": {},
   "outputs": [
    {
     "data": {
      "text/plain": [
       "8"
      ]
     },
     "execution_count": 35,
     "metadata": {},
     "output_type": "execute_result"
    }
   ],
   "source": [
    "power_of(2, 3)  "
   ]
  },
  {
   "cell_type": "code",
   "execution_count": 36,
   "id": "a182cd22-15e1-44d8-bb24-1760c30ba715",
   "metadata": {},
   "outputs": [],
   "source": [
    "def create_counter():\n",
    "    count = 0\n",
    "    def counter():\n",
    "        nonlocal count\n",
    "        count += 1\n",
    "        return count\n",
    "\n",
    "    return counter"
   ]
  },
  {
   "cell_type": "code",
   "execution_count": 39,
   "id": "36fdeb0a-a0f2-4f9b-8cfc-2206fba2b4fa",
   "metadata": {},
   "outputs": [
    {
     "data": {
      "text/plain": [
       "<function __main__.create_counter.<locals>.counter()>"
      ]
     },
     "execution_count": 39,
     "metadata": {},
     "output_type": "execute_result"
    }
   ],
   "source": [
    "create_counter()"
   ]
  },
  {
   "cell_type": "markdown",
   "id": "604ccd80-9562-43f2-a755-f08acf4b5663",
   "metadata": {},
   "source": [
    "### list comprehension"
   ]
  },
  {
   "cell_type": "code",
   "execution_count": 96,
   "id": "3b2c5f2e-f77b-456e-8edf-c9ea9ea8aedb",
   "metadata": {},
   "outputs": [],
   "source": [
    "var = \"analytics\""
   ]
  },
  {
   "cell_type": "code",
   "execution_count": 98,
   "id": "a8fa1cd6-acc8-442a-b805-68d344d528cc",
   "metadata": {},
   "outputs": [
    {
     "name": "stdout",
     "output_type": "stream",
     "text": [
      "a\n",
      "n\n",
      "a\n",
      "l\n",
      "y\n",
      "t\n",
      "i\n",
      "c\n",
      "s\n"
     ]
    }
   ],
   "source": [
    "for i in var:\n",
    "    print(i)"
   ]
  },
  {
   "cell_type": "code",
   "execution_count": 42,
   "id": "988628ee-1f16-4189-b713-f1b12c22e7ac",
   "metadata": {},
   "outputs": [],
   "source": [
    "l1 = []\n",
    "for i in var:\n",
    "    l1.append(i)"
   ]
  },
  {
   "cell_type": "code",
   "execution_count": 43,
   "id": "5efc8094-edd8-4994-99e2-ada6fd6f55bf",
   "metadata": {},
   "outputs": [
    {
     "data": {
      "text/plain": [
       "['a', 'n', 'a', 'l', 'y', 't', 'i', 'c', 's']"
      ]
     },
     "execution_count": 43,
     "metadata": {},
     "output_type": "execute_result"
    }
   ],
   "source": [
    "l1"
   ]
  },
  {
   "cell_type": "code",
   "execution_count": 44,
   "id": "748e23ad-1dcd-4818-8e44-76f38672d1fe",
   "metadata": {},
   "outputs": [
    {
     "data": {
      "text/plain": [
       "['a', 'n', 'a', 'l', 'y', 't', 'i', 'c', 's']"
      ]
     },
     "execution_count": 44,
     "metadata": {},
     "output_type": "execute_result"
    }
   ],
   "source": [
    "[i for i in var]"
   ]
  },
  {
   "cell_type": "code",
   "execution_count": 45,
   "id": "fa72d7d4-59a5-45f1-9e05-40e6ac8ac3ec",
   "metadata": {},
   "outputs": [
    {
     "data": {
      "text/plain": [
       "{'a', 'c', 'i', 'l', 'n', 's', 't', 'y'}"
      ]
     },
     "execution_count": 45,
     "metadata": {},
     "output_type": "execute_result"
    }
   ],
   "source": [
    "{i for i in var}"
   ]
  },
  {
   "cell_type": "code",
   "execution_count": 47,
   "id": "0f714584-f908-4e2f-9cee-ec6d807bc9f4",
   "metadata": {},
   "outputs": [
    {
     "data": {
      "text/plain": [
       "[0, 1, 4, 9, 16, 25, 36, 49, 64, 81]"
      ]
     },
     "execution_count": 47,
     "metadata": {},
     "output_type": "execute_result"
    }
   ],
   "source": [
    "[i**2 for i in range(10)]"
   ]
  },
  {
   "cell_type": "code",
   "execution_count": 48,
   "id": "8971ce83-ee28-47e5-b7ca-40a626db185a",
   "metadata": {},
   "outputs": [
    {
     "data": {
      "text/plain": [
       "[0, 4, 16, 36, 64]"
      ]
     },
     "execution_count": 48,
     "metadata": {},
     "output_type": "execute_result"
    }
   ],
   "source": [
    "[i**2 for i in range(10) if i%2==0 ]"
   ]
  },
  {
   "cell_type": "code",
   "execution_count": 50,
   "id": "42cf1fb9-2c3a-4b6f-b3f4-8a124234d9f5",
   "metadata": {},
   "outputs": [
    {
     "data": {
      "text/plain": [
       "[0, 6, 12]"
      ]
     },
     "execution_count": 50,
     "metadata": {},
     "output_type": "execute_result"
    }
   ],
   "source": [
    "[i for i in range(15) if i%2==0 if i%3==0]"
   ]
  },
  {
   "cell_type": "code",
   "execution_count": 52,
   "id": "21ae7e3c-817a-4abd-88e0-03ff35e726ec",
   "metadata": {},
   "outputs": [
    {
     "data": {
      "text/plain": [
       "[0, 0, 1, 0, 1, 2, 0, 1, 2, 3]"
      ]
     },
     "execution_count": 52,
     "metadata": {},
     "output_type": "execute_result"
    }
   ],
   "source": [
    "[j for i in range(5) for j in range(i)]"
   ]
  },
  {
   "cell_type": "code",
   "execution_count": 54,
   "id": "ea655eb2-6249-472b-ab94-4d61375af5fd",
   "metadata": {},
   "outputs": [
    {
     "name": "stdout",
     "output_type": "stream",
     "text": [
      "\n",
      "0\n",
      "\n",
      "0\n",
      "1\n",
      "\n",
      "0\n",
      "1\n",
      "2\n",
      "\n",
      "0\n",
      "1\n",
      "2\n",
      "3\n",
      "\n"
     ]
    }
   ],
   "source": [
    "for i in range(5):\n",
    "    for j in range(i):\n",
    "        print(j)\n",
    "    print()    "
   ]
  },
  {
   "cell_type": "markdown",
   "id": "ee5facb5-8e2b-42c8-8440-c25e6712b1b9",
   "metadata": {},
   "source": [
    "### Lambda"
   ]
  },
  {
   "cell_type": "code",
   "execution_count": 58,
   "id": "622f4b1b-ab42-4812-bd8f-50a6fbe3386c",
   "metadata": {},
   "outputs": [],
   "source": [
    "vw = lambda a, b: a*b"
   ]
  },
  {
   "cell_type": "code",
   "execution_count": 59,
   "id": "4e1c838f-1e9b-4eef-a6f9-76c5ff6fdf80",
   "metadata": {},
   "outputs": [
    {
     "data": {
      "text/plain": [
       "10"
      ]
     },
     "execution_count": 59,
     "metadata": {},
     "output_type": "execute_result"
    }
   ],
   "source": [
    "vw(2,5)"
   ]
  },
  {
   "cell_type": "code",
   "execution_count": 61,
   "id": "17b09a0f-e8d5-4402-ac03-505c93f26af5",
   "metadata": {},
   "outputs": [],
   "source": [
    "str_v = lambda str : str.upper()"
   ]
  },
  {
   "cell_type": "code",
   "execution_count": 62,
   "id": "d052e46f-d882-45f1-b515-c5e70c0b58a1",
   "metadata": {},
   "outputs": [
    {
     "data": {
      "text/plain": [
       "'JAVA'"
      ]
     },
     "execution_count": 62,
     "metadata": {},
     "output_type": "execute_result"
    }
   ],
   "source": [
    "str_v(\"java\")"
   ]
  },
  {
   "cell_type": "code",
   "execution_count": 68,
   "id": "96fc3923-c6cb-444c-97bf-2a377826e7cc",
   "metadata": {},
   "outputs": [],
   "source": [
    "n = lambda num: 100*num/20"
   ]
  },
  {
   "cell_type": "code",
   "execution_count": 69,
   "id": "76f1db91-a866-424d-bec9-909406d15e91",
   "metadata": {},
   "outputs": [
    {
     "data": {
      "text/plain": [
       "100.0"
      ]
     },
     "execution_count": 69,
     "metadata": {},
     "output_type": "execute_result"
    }
   ],
   "source": [
    "n(20)"
   ]
  },
  {
   "cell_type": "code",
   "execution_count": 73,
   "id": "c0f9c3d6-8089-4a14-a20a-554633f72ef1",
   "metadata": {},
   "outputs": [],
   "source": [
    "perc  =lambda totalnum, percent:  totalnum*percent/100"
   ]
  },
  {
   "cell_type": "code",
   "execution_count": null,
   "id": "d3c106d1-63ef-442b-81f6-66d5bb4a359a",
   "metadata": {},
   "outputs": [],
   "source": [
    "1000"
   ]
  },
  {
   "cell_type": "code",
   "execution_count": 71,
   "id": "67cad5d5-c873-4bde-b9fa-73ae5d5c3091",
   "metadata": {},
   "outputs": [
    {
     "data": {
      "text/plain": [
       "200.0"
      ]
     },
     "execution_count": 71,
     "metadata": {},
     "output_type": "execute_result"
    }
   ],
   "source": [
    "1000*20/100"
   ]
  },
  {
   "cell_type": "code",
   "execution_count": 76,
   "id": "e9e7d09a-6e7e-4a76-aef2-3ab9f8b6bbfd",
   "metadata": {},
   "outputs": [
    {
     "data": {
      "text/plain": [
       "788612.55"
      ]
     },
     "execution_count": 76,
     "metadata": {},
     "output_type": "execute_result"
    }
   ],
   "source": [
    "perc(2389735, 33)"
   ]
  },
  {
   "cell_type": "code",
   "execution_count": 77,
   "id": "9106f520-d051-4c3f-9cc3-2673a53eac98",
   "metadata": {},
   "outputs": [
    {
     "name": "stdout",
     "output_type": "stream",
     "text": [
      "Hello!\n"
     ]
    }
   ],
   "source": [
    "def say_hello():\n",
    "    print(\"Hello!\")\n",
    "\n",
    "say_hello()\n"
   ]
  },
  {
   "cell_type": "code",
   "execution_count": 78,
   "id": "674069c5-afbc-4357-a6af-662edd80ca50",
   "metadata": {},
   "outputs": [],
   "source": [
    "# This is the decorator function\n",
    "def my_decorator(func):\n",
    "    def wrapper():\n",
    "        print(\"Before the function runs\")\n",
    "        func()\n",
    "        print(\"After the function runs\")\n",
    "    return wrapper\n",
    "\n",
    "\n"
   ]
  },
  {
   "cell_type": "code",
   "execution_count": 79,
   "id": "332d6645-592e-49be-b7cf-840a827cd1b7",
   "metadata": {},
   "outputs": [
    {
     "name": "stdout",
     "output_type": "stream",
     "text": [
      "Before the function runs\n",
      "Hello!\n",
      "After the function runs\n"
     ]
    }
   ],
   "source": [
    "# Apply the decorator to the function\n",
    "@my_decorator\n",
    "def say_hello():\n",
    "    print(\"Hello!\")\n",
    "\n",
    "say_hello()"
   ]
  },
  {
   "cell_type": "code",
   "execution_count": 80,
   "id": "f5b0ec27-7b76-47c3-8489-382d6bf3e470",
   "metadata": {},
   "outputs": [],
   "source": [
    "def calculate ():\n",
    "    return 2+3"
   ]
  },
  {
   "cell_type": "code",
   "execution_count": 81,
   "id": "a4f90cc2-d48a-427c-a018-7c0274686d17",
   "metadata": {},
   "outputs": [
    {
     "data": {
      "text/plain": [
       "5"
      ]
     },
     "execution_count": 81,
     "metadata": {},
     "output_type": "execute_result"
    }
   ],
   "source": [
    "calculate()"
   ]
  },
  {
   "cell_type": "code",
   "execution_count": 87,
   "id": "8cf0dd8e-bc7f-4165-a17e-ec06ae26e1db",
   "metadata": {},
   "outputs": [],
   "source": [
    "@my_decorator\n",
    "def calculate ():\n",
    "    print(2+3)"
   ]
  },
  {
   "cell_type": "code",
   "execution_count": 88,
   "id": "bbca02bd-caad-4be2-9e05-42939efa8ed6",
   "metadata": {},
   "outputs": [
    {
     "name": "stdout",
     "output_type": "stream",
     "text": [
      "Before the function runs\n",
      "5\n",
      "After the function runs\n"
     ]
    }
   ],
   "source": [
    "calculate()"
   ]
  },
  {
   "cell_type": "code",
   "execution_count": 89,
   "id": "0f3bac1f-2c27-46df-8b79-32e26e5ea90e",
   "metadata": {},
   "outputs": [],
   "source": [
    "def newfun(a,b):\n",
    "    return a+b"
   ]
  },
  {
   "cell_type": "code",
   "execution_count": 90,
   "id": "1d0e18c9-c21e-4112-91c2-7b1c82645d65",
   "metadata": {},
   "outputs": [
    {
     "data": {
      "text/plain": [
       "12"
      ]
     },
     "execution_count": 90,
     "metadata": {},
     "output_type": "execute_result"
    }
   ],
   "source": [
    "newfun(4,8)"
   ]
  },
  {
   "cell_type": "code",
   "execution_count": 92,
   "id": "51345c85-6676-47b6-b0bb-0d8964fb8490",
   "metadata": {},
   "outputs": [],
   "source": [
    "var =lambda a, b: a+b"
   ]
  },
  {
   "cell_type": "code",
   "execution_count": 93,
   "id": "a85964ac-6436-4c68-b230-0ca0cf9dd0be",
   "metadata": {},
   "outputs": [
    {
     "data": {
      "text/plain": [
       "14"
      ]
     },
     "execution_count": 93,
     "metadata": {},
     "output_type": "execute_result"
    }
   ],
   "source": [
    "var(5,9)"
   ]
  },
  {
   "cell_type": "code",
   "execution_count": null,
   "id": "c2caf50a-ce47-46bf-bb6e-5aa360ad2160",
   "metadata": {},
   "outputs": [],
   "source": [
    "string = input()\n",
    "\n",
    "[i for i in string]\n",
    "print()"
   ]
  }
 ],
 "metadata": {
  "kernelspec": {
   "display_name": "Python 3 (ipykernel)",
   "language": "python",
   "name": "python3"
  },
  "language_info": {
   "codemirror_mode": {
    "name": "ipython",
    "version": 3
   },
   "file_extension": ".py",
   "mimetype": "text/x-python",
   "name": "python",
   "nbconvert_exporter": "python",
   "pygments_lexer": "ipython3",
   "version": "3.11.7"
  }
 },
 "nbformat": 4,
 "nbformat_minor": 5
}
