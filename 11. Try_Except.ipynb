{
 "cells": [
  {
   "cell_type": "markdown",
   "id": "d8de24eb-f0d4-4f53-a9fa-a29ad6a02a51",
   "metadata": {},
   "source": [
    "## Try Except"
   ]
  },
  {
   "cell_type": "code",
   "execution_count": 1,
   "id": "b6974258-b67f-4e1b-a290-32577749141d",
   "metadata": {},
   "outputs": [
    {
     "data": {
      "text/plain": [
       "3"
      ]
     },
     "execution_count": 1,
     "metadata": {},
     "output_type": "execute_result"
    }
   ],
   "source": [
    "len(\"   \")"
   ]
  },
  {
   "cell_type": "code",
   "execution_count": 2,
   "id": "69f06fbb-00a9-4b8c-885d-b0a77ee869dc",
   "metadata": {},
   "outputs": [
    {
     "ename": "TypeError",
     "evalue": "len() takes exactly one argument (0 given)",
     "output_type": "error",
     "traceback": [
      "\u001b[1;31m---------------------------------------------------------------------------\u001b[0m",
      "\u001b[1;31mTypeError\u001b[0m                                 Traceback (most recent call last)",
      "Cell \u001b[1;32mIn[2], line 1\u001b[0m\n\u001b[1;32m----> 1\u001b[0m \u001b[38;5;28mlen\u001b[39m()\n",
      "\u001b[1;31mTypeError\u001b[0m: len() takes exactly one argument (0 given)"
     ]
    }
   ],
   "source": [
    "len()"
   ]
  },
  {
   "cell_type": "code",
   "execution_count": 3,
   "id": "4f5b1f89-e80a-4cf7-be87-8e7c307c6192",
   "metadata": {},
   "outputs": [
    {
     "ename": "TypeError",
     "evalue": "type() takes 1 or 3 arguments",
     "output_type": "error",
     "traceback": [
      "\u001b[1;31m---------------------------------------------------------------------------\u001b[0m",
      "\u001b[1;31mTypeError\u001b[0m                                 Traceback (most recent call last)",
      "Cell \u001b[1;32mIn[3], line 1\u001b[0m\n\u001b[1;32m----> 1\u001b[0m \u001b[38;5;28mtype\u001b[39m()\n",
      "\u001b[1;31mTypeError\u001b[0m: type() takes 1 or 3 arguments"
     ]
    }
   ],
   "source": [
    "type()"
   ]
  },
  {
   "cell_type": "code",
   "execution_count": 4,
   "id": "52f497d6-f054-4a9e-ad19-fbaee8ad432e",
   "metadata": {},
   "outputs": [
    {
     "name": "stdout",
     "output_type": "stream",
     "text": [
      "\n"
     ]
    }
   ],
   "source": [
    "print()"
   ]
  },
  {
   "cell_type": "code",
   "execution_count": 5,
   "id": "6383b745-284a-4933-ba81-5a2677eec4bd",
   "metadata": {},
   "outputs": [
    {
     "ename": "TypeError",
     "evalue": "pow() missing required argument 'base' (pos 1)",
     "output_type": "error",
     "traceback": [
      "\u001b[1;31m---------------------------------------------------------------------------\u001b[0m",
      "\u001b[1;31mTypeError\u001b[0m                                 Traceback (most recent call last)",
      "Cell \u001b[1;32mIn[5], line 1\u001b[0m\n\u001b[1;32m----> 1\u001b[0m \u001b[38;5;28mpow\u001b[39m()\n",
      "\u001b[1;31mTypeError\u001b[0m: pow() missing required argument 'base' (pos 1)"
     ]
    }
   ],
   "source": [
    "pow()"
   ]
  },
  {
   "cell_type": "code",
   "execution_count": 6,
   "id": "1c38009b-b025-48b3-8601-2728c59c1386",
   "metadata": {},
   "outputs": [
    {
     "ename": "ZeroDivisionError",
     "evalue": "division by zero",
     "output_type": "error",
     "traceback": [
      "\u001b[1;31m---------------------------------------------------------------------------\u001b[0m",
      "\u001b[1;31mZeroDivisionError\u001b[0m                         Traceback (most recent call last)",
      "Cell \u001b[1;32mIn[6], line 1\u001b[0m\n\u001b[1;32m----> 1\u001b[0m \u001b[38;5;241m5\u001b[39m\u001b[38;5;241m/\u001b[39m\u001b[38;5;241m0\u001b[39m\n",
      "\u001b[1;31mZeroDivisionError\u001b[0m: division by zero"
     ]
    }
   ],
   "source": [
    "5/0"
   ]
  },
  {
   "cell_type": "code",
   "execution_count": 7,
   "id": "89461839-4851-4f59-8d78-c8e32ccbfb42",
   "metadata": {},
   "outputs": [
    {
     "ename": "FileNotFoundError",
     "evalue": "[Errno 2] No such file or directory: 'demo.txt'",
     "output_type": "error",
     "traceback": [
      "\u001b[1;31m---------------------------------------------------------------------------\u001b[0m",
      "\u001b[1;31mFileNotFoundError\u001b[0m                         Traceback (most recent call last)",
      "Cell \u001b[1;32mIn[7], line 1\u001b[0m\n\u001b[1;32m----> 1\u001b[0m \u001b[38;5;28mopen\u001b[39m(\u001b[38;5;124m\"\u001b[39m\u001b[38;5;124mdemo.txt\u001b[39m\u001b[38;5;124m\"\u001b[39m)\n",
      "File \u001b[1;32m~\\anaconda3\\Lib\\site-packages\\IPython\\core\\interactiveshell.py:310\u001b[0m, in \u001b[0;36m_modified_open\u001b[1;34m(file, *args, **kwargs)\u001b[0m\n\u001b[0;32m    303\u001b[0m \u001b[38;5;28;01mif\u001b[39;00m file \u001b[38;5;129;01min\u001b[39;00m {\u001b[38;5;241m0\u001b[39m, \u001b[38;5;241m1\u001b[39m, \u001b[38;5;241m2\u001b[39m}:\n\u001b[0;32m    304\u001b[0m     \u001b[38;5;28;01mraise\u001b[39;00m \u001b[38;5;167;01mValueError\u001b[39;00m(\n\u001b[0;32m    305\u001b[0m         \u001b[38;5;124mf\u001b[39m\u001b[38;5;124m\"\u001b[39m\u001b[38;5;124mIPython won\u001b[39m\u001b[38;5;124m'\u001b[39m\u001b[38;5;124mt let you open fd=\u001b[39m\u001b[38;5;132;01m{\u001b[39;00mfile\u001b[38;5;132;01m}\u001b[39;00m\u001b[38;5;124m by default \u001b[39m\u001b[38;5;124m\"\u001b[39m\n\u001b[0;32m    306\u001b[0m         \u001b[38;5;124m\"\u001b[39m\u001b[38;5;124mas it is likely to crash IPython. If you know what you are doing, \u001b[39m\u001b[38;5;124m\"\u001b[39m\n\u001b[0;32m    307\u001b[0m         \u001b[38;5;124m\"\u001b[39m\u001b[38;5;124myou can use builtins\u001b[39m\u001b[38;5;124m'\u001b[39m\u001b[38;5;124m open.\u001b[39m\u001b[38;5;124m\"\u001b[39m\n\u001b[0;32m    308\u001b[0m     )\n\u001b[1;32m--> 310\u001b[0m \u001b[38;5;28;01mreturn\u001b[39;00m io_open(file, \u001b[38;5;241m*\u001b[39margs, \u001b[38;5;241m*\u001b[39m\u001b[38;5;241m*\u001b[39mkwargs)\n",
      "\u001b[1;31mFileNotFoundError\u001b[0m: [Errno 2] No such file or directory: 'demo.txt'"
     ]
    }
   ],
   "source": [
    "open(\"demo.txt\")"
   ]
  },
  {
   "cell_type": "code",
   "execution_count": 8,
   "id": "40037f7b-f509-4ffd-a125-983a2463f78f",
   "metadata": {},
   "outputs": [
    {
     "ename": "NameError",
     "evalue": "name 'var' is not defined",
     "output_type": "error",
     "traceback": [
      "\u001b[1;31m---------------------------------------------------------------------------\u001b[0m",
      "\u001b[1;31mNameError\u001b[0m                                 Traceback (most recent call last)",
      "Cell \u001b[1;32mIn[8], line 1\u001b[0m\n\u001b[1;32m----> 1\u001b[0m var\n",
      "\u001b[1;31mNameError\u001b[0m: name 'var' is not defined"
     ]
    }
   ],
   "source": [
    "var"
   ]
  },
  {
   "cell_type": "code",
   "execution_count": 10,
   "id": "1bcf22a0-f601-42d3-934c-3295b003d9c7",
   "metadata": {},
   "outputs": [
    {
     "name": "stdout",
     "output_type": "stream",
     "text": [
      "hello\n",
      "11.0\n",
      "True\n"
     ]
    }
   ],
   "source": [
    "print(\"hello\")\n",
    "print(22/2)\n",
    "print(True)"
   ]
  },
  {
   "cell_type": "code",
   "execution_count": 11,
   "id": "b50501b5-72c2-4656-9e5c-268b09cdb89e",
   "metadata": {},
   "outputs": [
    {
     "name": "stdout",
     "output_type": "stream",
     "text": [
      "hello\n"
     ]
    },
    {
     "ename": "ZeroDivisionError",
     "evalue": "division by zero",
     "output_type": "error",
     "traceback": [
      "\u001b[1;31m---------------------------------------------------------------------------\u001b[0m",
      "\u001b[1;31mZeroDivisionError\u001b[0m                         Traceback (most recent call last)",
      "Cell \u001b[1;32mIn[11], line 2\u001b[0m\n\u001b[0;32m      1\u001b[0m \u001b[38;5;28mprint\u001b[39m(\u001b[38;5;124m\"\u001b[39m\u001b[38;5;124mhello\u001b[39m\u001b[38;5;124m\"\u001b[39m)\n\u001b[1;32m----> 2\u001b[0m \u001b[38;5;28mprint\u001b[39m(\u001b[38;5;241m22\u001b[39m\u001b[38;5;241m/\u001b[39m\u001b[38;5;241m0\u001b[39m)\n\u001b[0;32m      3\u001b[0m \u001b[38;5;28mprint\u001b[39m(\u001b[38;5;28;01mTrue\u001b[39;00m)\n",
      "\u001b[1;31mZeroDivisionError\u001b[0m: division by zero"
     ]
    }
   ],
   "source": [
    "print(\"hello\")\n",
    "print(22/0)\n",
    "print(True)"
   ]
  },
  {
   "cell_type": "code",
   "execution_count": 21,
   "id": "235fd19b-ebcd-45e9-bd9a-1c8a3f799496",
   "metadata": {},
   "outputs": [
    {
     "name": "stdin",
     "output_type": "stream",
     "text": [
      " 3\n",
      " 0\n"
     ]
    },
    {
     "name": "stdout",
     "output_type": "stream",
     "text": [
      "try and except\n",
      "division by zero\n",
      "final output\n"
     ]
    }
   ],
   "source": [
    "num1 = int(input())\n",
    "num2 = int(input())\n",
    "var = \"try and except\"\n",
    "print(var)\n",
    "try:\n",
    "    mult = num1*num2\n",
    "    div = num1/num2\n",
    "    final = mult+div\n",
    "    print(final)\n",
    "except Exception as e:\n",
    "    print(e)\n",
    "print(\"final output\")    \n",
    "\n"
   ]
  },
  {
   "cell_type": "code",
   "execution_count": 22,
   "id": "560af723-94be-4098-8040-1d1dd2040f3d",
   "metadata": {},
   "outputs": [
    {
     "name": "stdin",
     "output_type": "stream",
     "text": [
      "Enter a number:  5\n"
     ]
    },
    {
     "name": "stdout",
     "output_type": "stream",
     "text": [
      "Result: 2.0\n",
      "No exceptions occurred.\n",
      "Execution completed.\n"
     ]
    }
   ],
   "source": [
    "try:\n",
    "    x = int(input(\"Enter a number: \"))\n",
    "    y = 10 / x\n",
    "    print(f\"Result: {y}\")\n",
    "except Exception as e:\n",
    "    print(f\"Error occurred: {e}\")\n",
    "else:\n",
    "    print(\"No exceptions occurred.\")\n",
    "finally:\n",
    "    print(\"Execution completed.\")"
   ]
  },
  {
   "cell_type": "code",
   "execution_count": 23,
   "id": "424fde1a-cbd4-4b73-b326-f54271afc7bd",
   "metadata": {},
   "outputs": [
    {
     "name": "stdin",
     "output_type": "stream",
     "text": [
      "Enter a number:  0\n"
     ]
    },
    {
     "name": "stdout",
     "output_type": "stream",
     "text": [
      "Error occurred: division by zero\n",
      "Execution completed.\n"
     ]
    }
   ],
   "source": [
    "try:\n",
    "    x = int(input(\"Enter a number: \"))\n",
    "    y = 10 / x\n",
    "    print(f\"Result: {y}\")\n",
    "except Exception as e:\n",
    "    print(f\"Error occurred: {e}\")\n",
    "else:\n",
    "    print(\"No exceptions occurred.\")\n",
    "finally:\n",
    "    print(\"Execution completed.\")"
   ]
  },
  {
   "cell_type": "code",
   "execution_count": 25,
   "id": "f53bb873-ead0-42fd-bcec-31219865dfeb",
   "metadata": {},
   "outputs": [
    {
     "name": "stdin",
     "output_type": "stream",
     "text": [
      "Enter a number:  y\n"
     ]
    },
    {
     "name": "stdout",
     "output_type": "stream",
     "text": [
      "Invalid input. Please enter a valid integer.\n"
     ]
    }
   ],
   "source": [
    "try:\n",
    "    x = int(input(\"Enter a number: \"))\n",
    "    y = 10 / x\n",
    "    print(f\"Result: {y}\")\n",
    "except ValueError:\n",
    "    print(\"Invalid input. Please enter a valid integer.\")\n",
    "except ZeroDivisionError:\n",
    "    print(\"Cannot divide by zero. Please enter a non-zero number.\")\n",
    "except Exception as e:\n",
    "    print(f\"Error occurred: {e}\")"
   ]
  },
  {
   "cell_type": "code",
   "execution_count": 26,
   "id": "ba8ff31f-bd0e-45e4-b166-267cd3d07099",
   "metadata": {},
   "outputs": [],
   "source": [
    "def area_circle(radius):\n",
    "    \"\"\"this is a function calculate the area of circle\n",
    "    pass only radius \"\"\"\n",
    "    try:\n",
    "        import math \n",
    "        pi = math.pi\n",
    "        return pi*radius**2\n",
    "    except Exception as e:\n",
    "        print(e)"
   ]
  },
  {
   "cell_type": "code",
   "execution_count": 30,
   "id": "390fa416-6e30-488f-bebc-e2833227ec04",
   "metadata": {},
   "outputs": [
    {
     "name": "stdout",
     "output_type": "stream",
     "text": [
      "unsupported operand type(s) for ** or pow(): 'str' and 'int'\n"
     ]
    }
   ],
   "source": [
    "area_circle(\"h\")"
   ]
  },
  {
   "cell_type": "code",
   "execution_count": 34,
   "id": "27f787d6-8c7a-46af-8a49-9d6c27ca6f80",
   "metadata": {},
   "outputs": [
    {
     "name": "stdout",
     "output_type": "stream",
     "text": [
      "name 'k' is not defined\n"
     ]
    }
   ],
   "source": [
    "try:\n",
    "    for i in range(4):\n",
    "        for j in range(k):\n",
    "            print(j)\n",
    "        print() \n",
    "except Exception as e:\n",
    "    print(e)"
   ]
  },
  {
   "cell_type": "code",
   "execution_count": 35,
   "id": "c569db5c-5413-4f93-993d-2dd4865ff0b9",
   "metadata": {},
   "outputs": [
    {
     "ename": "NameError",
     "evalue": "name 'k' is not defined",
     "output_type": "error",
     "traceback": [
      "\u001b[1;31m---------------------------------------------------------------------------\u001b[0m",
      "\u001b[1;31mNameError\u001b[0m                                 Traceback (most recent call last)",
      "Cell \u001b[1;32mIn[35], line 2\u001b[0m\n\u001b[0;32m      1\u001b[0m \u001b[38;5;28;01mfor\u001b[39;00m i \u001b[38;5;129;01min\u001b[39;00m \u001b[38;5;28mrange\u001b[39m(\u001b[38;5;241m4\u001b[39m):\n\u001b[1;32m----> 2\u001b[0m     \u001b[38;5;28;01mfor\u001b[39;00m j \u001b[38;5;129;01min\u001b[39;00m \u001b[38;5;28mrange\u001b[39m(k):\n\u001b[0;32m      3\u001b[0m        \u001b[38;5;28mprint\u001b[39m(j)\n\u001b[0;32m      4\u001b[0m     \u001b[38;5;28mprint\u001b[39m()\n",
      "\u001b[1;31mNameError\u001b[0m: name 'k' is not defined"
     ]
    }
   ],
   "source": [
    "for i in range(4):\n",
    "    for j in range(k):\n",
    "       print(j)\n",
    "    print() "
   ]
  },
  {
   "cell_type": "code",
   "execution_count": 36,
   "id": "c9292187-7229-4531-9f41-dad89fb24848",
   "metadata": {},
   "outputs": [],
   "source": [
    "def divide_numbers():\n",
    "    try:\n",
    "        # Take input from the user\n",
    "        num1 = float(input(\"Enter the numerator: \"))\n",
    "        num2 = float(input(\"Enter the denominator: \"))\n",
    "        \n",
    "        # Try to divide the numbers\n",
    "        result = num1 / num2\n",
    "        print(f\"Result: {result}\")\n",
    "    \n",
    "    except ZeroDivisionError:\n",
    "        print(\"Error: Cannot divide by zero.\")\n",
    "    \n",
    "    except ValueError:\n",
    "        print(\"Error: Please enter valid numeric values.\")\n",
    "    \n",
    "    except Exception as e:\n",
    "        print(f\"An unexpected error occurred: {e}\")"
   ]
  },
  {
   "cell_type": "code",
   "execution_count": 38,
   "id": "ba289dd5-ac20-40f7-839d-90ebc24d1bea",
   "metadata": {},
   "outputs": [
    {
     "name": "stdin",
     "output_type": "stream",
     "text": [
      "Enter the numerator:  2\n",
      "Enter the denominator:  0\n"
     ]
    },
    {
     "name": "stdout",
     "output_type": "stream",
     "text": [
      "Error: Cannot divide by zero.\n"
     ]
    }
   ],
   "source": [
    "# Call the function\n",
    "divide_numbers()"
   ]
  },
  {
   "cell_type": "code",
   "execution_count": 39,
   "id": "516b6943-0e57-4585-a00c-ce71552999c3",
   "metadata": {},
   "outputs": [],
   "source": [
    "def process_customer_file(file_path):\n",
    "    try:\n",
    "        with open(file_path, 'r') as file:\n",
    "            lines = file.readlines()\n",
    "        \n",
    "        ages = []\n",
    "        for line in lines[1:]:  # Skip header\n",
    "            parts = line.strip().split(',')\n",
    "            if len(parts) < 2:\n",
    "                continue  # Skip incomplete lines\n",
    "            \n",
    "            try:\n",
    "                age = int(parts[1])  # Age is expected in second column\n",
    "                ages.append(age)\n",
    "            except ValueError:\n",
    "                print(f\"Skipping line with invalid age: {line.strip()}\")\n",
    "        \n",
    "        if not ages:\n",
    "            raise ValueError(\"No valid age data found.\")\n",
    "        \n",
    "        average_age = sum(ages) / len(ages)\n",
    "        print(f\"Average Customer Age: {average_age:.2f}\")\n",
    "\n",
    "    except FileNotFoundError:\n",
    "        print(f\"Error: File '{file_path}' not found.\")\n",
    "\n",
    "    except Exception as e:\n",
    "        print(f\"Unexpected error: {e}\")\n"
   ]
  },
  {
   "cell_type": "code",
   "execution_count": 40,
   "id": "a284620b-d607-4dbf-a482-bfc44efdd53b",
   "metadata": {},
   "outputs": [
    {
     "name": "stdout",
     "output_type": "stream",
     "text": [
      "Skipping line with invalid age: \"1\",230.1,37.8,69.2,22.1\n",
      "Skipping line with invalid age: \"2\",44.5,39.3,45.1,10.4\n",
      "Skipping line with invalid age: \"3\",17.2,45.9,69.3,9.3\n",
      "Skipping line with invalid age: \"4\",151.5,41.3,58.5,18.5\n",
      "Skipping line with invalid age: \"5\",180.8,10.8,58.4,12.9\n",
      "Skipping line with invalid age: \"6\",8.7,48.9,75,7.2\n",
      "Skipping line with invalid age: \"7\",57.5,32.8,23.5,11.8\n",
      "Skipping line with invalid age: \"8\",120.2,19.6,11.6,13.2\n",
      "Skipping line with invalid age: \"9\",8.6,2.1,1,4.8\n",
      "Skipping line with invalid age: \"10\",199.8,2.6,21.2,10.6\n",
      "Skipping line with invalid age: \"11\",66.1,5.8,24.2,8.6\n",
      "Skipping line with invalid age: \"12\",214.7,24,4,17.4\n",
      "Skipping line with invalid age: \"13\",23.8,35.1,65.9,9.2\n",
      "Skipping line with invalid age: \"14\",97.5,7.6,7.2,9.7\n",
      "Skipping line with invalid age: \"15\",204.1,32.9,46,19\n",
      "Skipping line with invalid age: \"16\",195.4,47.7,52.9,22.4\n",
      "Skipping line with invalid age: \"17\",67.8,36.6,114,12.5\n",
      "Skipping line with invalid age: \"18\",281.4,39.6,55.8,24.4\n",
      "Skipping line with invalid age: \"19\",69.2,20.5,18.3,11.3\n",
      "Skipping line with invalid age: \"20\",147.3,23.9,19.1,14.6\n",
      "Skipping line with invalid age: \"21\",218.4,27.7,53.4,18\n",
      "Skipping line with invalid age: \"22\",237.4,5.1,23.5,12.5\n",
      "Skipping line with invalid age: \"23\",13.2,15.9,49.6,5.6\n",
      "Skipping line with invalid age: \"24\",228.3,16.9,26.2,15.5\n",
      "Skipping line with invalid age: \"25\",62.3,12.6,18.3,9.7\n",
      "Skipping line with invalid age: \"26\",262.9,3.5,19.5,12\n",
      "Skipping line with invalid age: \"27\",142.9,29.3,12.6,15\n",
      "Skipping line with invalid age: \"28\",240.1,16.7,22.9,15.9\n",
      "Skipping line with invalid age: \"29\",248.8,27.1,22.9,18.9\n",
      "Skipping line with invalid age: \"30\",70.6,16,40.8,10.5\n",
      "Skipping line with invalid age: \"31\",292.9,28.3,43.2,21.4\n",
      "Skipping line with invalid age: \"32\",112.9,17.4,38.6,11.9\n",
      "Skipping line with invalid age: \"33\",97.2,1.5,30,9.6\n",
      "Skipping line with invalid age: \"34\",265.6,20,0.3,17.4\n",
      "Skipping line with invalid age: \"35\",95.7,1.4,7.4,9.5\n",
      "Skipping line with invalid age: \"36\",290.7,4.1,8.5,12.8\n",
      "Skipping line with invalid age: \"37\",266.9,43.8,5,25.4\n",
      "Skipping line with invalid age: \"38\",74.7,49.4,45.7,14.7\n",
      "Skipping line with invalid age: \"39\",43.1,26.7,35.1,10.1\n",
      "Skipping line with invalid age: \"41\",202.5,22.3,31.6,16.6\n",
      "Skipping line with invalid age: \"43\",293.6,27.7,1.8,20.7\n",
      "Skipping line with invalid age: \"44\",206.9,8.4,26.4,12.9\n",
      "Skipping line with invalid age: \"45\",25.1,25.7,43.3,8.5\n",
      "Skipping line with invalid age: \"46\",175.1,22.5,31.5,14.9\n",
      "Skipping line with invalid age: \"47\",89.7,9.9,35.7,10.6\n",
      "Skipping line with invalid age: \"48\",239.9,41.5,18.5,23.2\n",
      "Skipping line with invalid age: \"49\",227.2,15.8,49.9,14.8\n",
      "Skipping line with invalid age: \"50\",66.9,11.7,36.8,9.7\n",
      "Skipping line with invalid age: \"51\",199.8,3.1,34.6,11.4\n",
      "Skipping line with invalid age: \"52\",100.4,9.6,3.6,10.7\n",
      "Skipping line with invalid age: \"53\",216.4,41.7,39.6,22.6\n",
      "Skipping line with invalid age: \"54\",182.6,46.2,58.7,21.2\n",
      "Skipping line with invalid age: \"55\",262.7,28.8,15.9,20.2\n",
      "Skipping line with invalid age: \"56\",198.9,49.4,60,23.7\n",
      "Skipping line with invalid age: \"57\",7.3,28.1,41.4,5.5\n",
      "Skipping line with invalid age: \"58\",136.2,19.2,16.6,13.2\n",
      "Skipping line with invalid age: \"59\",210.8,49.6,37.7,23.8\n",
      "Skipping line with invalid age: \"60\",210.7,29.5,9.3,18.4\n",
      "Skipping line with invalid age: \"61\",53.5,2,21.4,8.1\n",
      "Skipping line with invalid age: \"62\",261.3,42.7,54.7,24.2\n",
      "Skipping line with invalid age: \"63\",239.3,15.5,27.3,15.7\n",
      "Skipping line with invalid age: \"64\",102.7,29.6,8.4,14\n",
      "Skipping line with invalid age: \"65\",131.1,42.8,28.9,18\n",
      "Skipping line with invalid age: \"67\",31.5,24.6,2.2,9.5\n",
      "Skipping line with invalid age: \"68\",139.3,14.5,10.2,13.4\n",
      "Skipping line with invalid age: \"69\",237.4,27.5,11,18.9\n",
      "Skipping line with invalid age: \"70\",216.8,43.9,27.2,22.3\n",
      "Skipping line with invalid age: \"71\",199.1,30.6,38.7,18.3\n",
      "Skipping line with invalid age: \"72\",109.8,14.3,31.7,12.4\n",
      "Skipping line with invalid age: \"73\",26.8,33,19.3,8.8\n",
      "Skipping line with invalid age: \"74\",129.4,5.7,31.3,11\n",
      "Skipping line with invalid age: \"75\",213.4,24.6,13.1,17\n",
      "Skipping line with invalid age: \"76\",16.9,43.7,89.4,8.7\n",
      "Skipping line with invalid age: \"77\",27.5,1.6,20.7,6.9\n",
      "Skipping line with invalid age: \"78\",120.5,28.5,14.2,14.2\n",
      "Skipping line with invalid age: \"79\",5.4,29.9,9.4,5.3\n",
      "Skipping line with invalid age: \"81\",76.4,26.7,22.3,11.8\n",
      "Skipping line with invalid age: \"82\",239.8,4.1,36.9,12.3\n",
      "Skipping line with invalid age: \"83\",75.3,20.3,32.5,11.3\n",
      "Skipping line with invalid age: \"84\",68.4,44.5,35.6,13.6\n",
      "Skipping line with invalid age: \"85\",213.5,43,33.8,21.7\n",
      "Skipping line with invalid age: \"86\",193.2,18.4,65.7,15.2\n",
      "Skipping line with invalid age: \"87\",76.3,27.5,16,12\n",
      "Skipping line with invalid age: \"88\",110.7,40.6,63.2,16\n",
      "Skipping line with invalid age: \"89\",88.3,25.5,73.4,12.9\n",
      "Skipping line with invalid age: \"90\",109.8,47.8,51.4,16.7\n",
      "Skipping line with invalid age: \"91\",134.3,4.9,9.3,11.2\n",
      "Skipping line with invalid age: \"92\",28.6,1.5,33,7.3\n",
      "Skipping line with invalid age: \"93\",217.7,33.5,59,19.4\n",
      "Skipping line with invalid age: \"94\",250.9,36.5,72.3,22.2\n",
      "Skipping line with invalid age: \"95\",107.4,14,10.9,11.5\n",
      "Skipping line with invalid age: \"96\",163.3,31.6,52.9,16.9\n",
      "Skipping line with invalid age: \"97\",197.6,3.5,5.9,11.7\n",
      "Skipping line with invalid age: \"98\",184.9,21,22,15.5\n",
      "Skipping line with invalid age: \"99\",289.7,42.3,51.2,25.4\n",
      "Skipping line with invalid age: \"100\",135.2,41.7,45.9,17.2\n",
      "Skipping line with invalid age: \"101\",222.4,4.3,49.8,11.7\n",
      "Skipping line with invalid age: \"102\",296.4,36.3,100.9,23.8\n",
      "Skipping line with invalid age: \"103\",280.2,10.1,21.4,14.8\n",
      "Skipping line with invalid age: \"104\",187.9,17.2,17.9,14.7\n",
      "Skipping line with invalid age: \"105\",238.2,34.3,5.3,20.7\n",
      "Skipping line with invalid age: \"106\",137.9,46.4,59,19.2\n",
      "Skipping line with invalid age: \"108\",90.4,0.3,23.2,8.7\n",
      "Skipping line with invalid age: \"109\",13.1,0.4,25.6,5.3\n",
      "Skipping line with invalid age: \"110\",255.4,26.9,5.5,19.8\n",
      "Skipping line with invalid age: \"111\",225.8,8.2,56.5,13.4\n",
      "Skipping line with invalid age: \"112\",241.7,38,23.2,21.8\n",
      "Skipping line with invalid age: \"113\",175.7,15.4,2.4,14.1\n",
      "Skipping line with invalid age: \"114\",209.6,20.6,10.7,15.9\n",
      "Skipping line with invalid age: \"115\",78.2,46.8,34.5,14.6\n",
      "Skipping line with invalid age: \"116\",75.1,35,52.7,12.6\n",
      "Skipping line with invalid age: \"117\",139.2,14.3,25.6,12.2\n",
      "Skipping line with invalid age: \"118\",76.4,0.8,14.8,9.4\n",
      "Skipping line with invalid age: \"119\",125.7,36.9,79.2,15.9\n",
      "Skipping line with invalid age: \"120\",19.4,16,22.3,6.6\n",
      "Skipping line with invalid age: \"121\",141.3,26.8,46.2,15.5\n",
      "Skipping line with invalid age: \"122\",18.8,21.7,50.4,7\n",
      "Skipping line with invalid age: \"124\",123.1,34.6,12.4,15.2\n",
      "Skipping line with invalid age: \"125\",229.5,32.3,74.2,19.7\n",
      "Skipping line with invalid age: \"126\",87.2,11.8,25.9,10.6\n",
      "Skipping line with invalid age: \"127\",7.8,38.9,50.6,6.6\n",
      "Skipping line with invalid age: \"128\",80.2,0,9.2,8.8\n",
      "Skipping line with invalid age: \"129\",220.3,49,3.2,24.7\n",
      "Skipping line with invalid age: \"130\",59.6,12,43.1,9.7\n",
      "Skipping line with invalid age: \"131\",0.7,39.6,8.7,1.6\n",
      "Skipping line with invalid age: \"132\",265.2,2.9,43,12.7\n",
      "Skipping line with invalid age: \"133\",8.4,27.2,2.1,5.7\n",
      "Skipping line with invalid age: \"134\",219.8,33.5,45.1,19.6\n",
      "Skipping line with invalid age: \"135\",36.9,38.6,65.6,10.8\n",
      "Skipping line with invalid age: \"136\",48.3,47,8.5,11.6\n",
      "Skipping line with invalid age: \"137\",25.6,39,9.3,9.5\n",
      "Skipping line with invalid age: \"138\",273.7,28.9,59.7,20.8\n",
      "Skipping line with invalid age: \"140\",184.9,43.9,1.7,20.7\n",
      "Skipping line with invalid age: \"141\",73.4,17,12.9,10.9\n",
      "Skipping line with invalid age: \"142\",193.7,35.4,75.6,19.2\n",
      "Skipping line with invalid age: \"143\",220.5,33.2,37.9,20.1\n",
      "Skipping line with invalid age: \"144\",104.6,5.7,34.4,10.4\n",
      "Skipping line with invalid age: \"145\",96.2,14.8,38.9,11.4\n",
      "Skipping line with invalid age: \"146\",140.3,1.9,9,10.3\n",
      "Skipping line with invalid age: \"147\",240.1,7.3,8.7,13.2\n",
      "Skipping line with invalid age: \"148\",243.2,49,44.3,25.4\n",
      "Skipping line with invalid age: \"150\",44.7,25.8,20.6,10.1\n",
      "Skipping line with invalid age: \"151\",280.7,13.9,37,16.1\n",
      "Skipping line with invalid age: \"153\",197.6,23.3,14.2,16.6\n",
      "Skipping line with invalid age: \"154\",171.3,39.7,37.7,19\n",
      "Skipping line with invalid age: \"155\",187.8,21.1,9.5,15.6\n",
      "Skipping line with invalid age: \"156\",4.1,11.6,5.7,3.2\n",
      "Skipping line with invalid age: \"157\",93.9,43.5,50.5,15.3\n",
      "Skipping line with invalid age: \"158\",149.8,1.3,24.3,10.1\n",
      "Skipping line with invalid age: \"159\",11.7,36.9,45.2,7.3\n",
      "Skipping line with invalid age: \"160\",131.7,18.4,34.6,12.9\n",
      "Skipping line with invalid age: \"161\",172.5,18.1,30.7,14.4\n",
      "Skipping line with invalid age: \"162\",85.7,35.8,49.3,13.3\n",
      "Skipping line with invalid age: \"163\",188.4,18.1,25.6,14.9\n",
      "Skipping line with invalid age: \"164\",163.5,36.8,7.4,18\n",
      "Skipping line with invalid age: \"165\",117.2,14.7,5.4,11.9\n",
      "Skipping line with invalid age: \"166\",234.5,3.4,84.8,11.9\n",
      "Skipping line with invalid age: \"167\",17.9,37.6,21.6,8\n",
      "Skipping line with invalid age: \"168\",206.8,5.2,19.4,12.2\n",
      "Skipping line with invalid age: \"169\",215.4,23.6,57.6,17.1\n",
      "Skipping line with invalid age: \"170\",284.3,10.6,6.4,15\n",
      "Skipping line with invalid age: \"172\",164.5,20.9,47.4,14.5\n",
      "Skipping line with invalid age: \"173\",19.6,20.1,17,7.6\n",
      "Skipping line with invalid age: \"174\",168.4,7.1,12.8,11.7\n",
      "Skipping line with invalid age: \"175\",222.4,3.4,13.1,11.5\n",
      "Skipping line with invalid age: \"176\",276.9,48.9,41.8,27\n",
      "Skipping line with invalid age: \"177\",248.4,30.2,20.3,20.2\n",
      "Skipping line with invalid age: \"178\",170.2,7.8,35.2,11.7\n",
      "Skipping line with invalid age: \"179\",276.7,2.3,23.7,11.8\n",
      "Skipping line with invalid age: \"180\",165.6,10,17.6,12.6\n",
      "Skipping line with invalid age: \"181\",156.6,2.6,8.3,10.5\n",
      "Skipping line with invalid age: \"182\",218.5,5.4,27.4,12.2\n",
      "Skipping line with invalid age: \"183\",56.2,5.7,29.7,8.7\n",
      "Skipping line with invalid age: \"184\",287.6,43,71.8,26.2\n",
      "Skipping line with invalid age: \"185\",253.8,21.3,30,17.6\n",
      "Skipping line with invalid age: \"187\",139.5,2.1,26.6,10.3\n",
      "Skipping line with invalid age: \"188\",191.1,28.7,18.2,17.3\n",
      "Skipping line with invalid age: \"190\",18.7,12.1,23.4,6.7\n",
      "Skipping line with invalid age: \"191\",39.5,41.1,5.8,10.8\n",
      "Skipping line with invalid age: \"192\",75.5,10.8,6,9.9\n",
      "Skipping line with invalid age: \"193\",17.2,4.1,31.6,5.9\n",
      "Skipping line with invalid age: \"194\",166.8,42,3.6,19.6\n",
      "Skipping line with invalid age: \"195\",149.7,35.6,6,17.3\n",
      "Skipping line with invalid age: \"196\",38.2,3.7,13.8,7.6\n",
      "Skipping line with invalid age: \"197\",94.2,4.9,8.1,9.7\n",
      "Skipping line with invalid age: \"199\",283.6,42,66.2,25.5\n",
      "Skipping line with invalid age: \"200\",232.1,8.6,8.7,13.4\n",
      "Average Customer Age: 135.31\n"
     ]
    }
   ],
   "source": [
    "# Call the function with path to file\n",
    "process_customer_file(\"C:\\\\Users\\\\amitm\\\\Downloads\\\\Advertising.csv\")"
   ]
  },
  {
   "cell_type": "code",
   "execution_count": 41,
   "id": "21cd40f8-6f85-4411-bc5a-1cf56e913a58",
   "metadata": {},
   "outputs": [
    {
     "ename": "ValueError",
     "evalue": "Age cannot be negative",
     "output_type": "error",
     "traceback": [
      "\u001b[1;31m---------------------------------------------------------------------------\u001b[0m",
      "\u001b[1;31mValueError\u001b[0m                                Traceback (most recent call last)",
      "Cell \u001b[1;32mIn[41], line 4\u001b[0m\n\u001b[0;32m      1\u001b[0m age \u001b[38;5;241m=\u001b[39m \u001b[38;5;241m-\u001b[39m\u001b[38;5;241m5\u001b[39m\n\u001b[0;32m      3\u001b[0m \u001b[38;5;28;01mif\u001b[39;00m age \u001b[38;5;241m<\u001b[39m \u001b[38;5;241m0\u001b[39m:\n\u001b[1;32m----> 4\u001b[0m     \u001b[38;5;28;01mraise\u001b[39;00m \u001b[38;5;167;01mValueError\u001b[39;00m(\u001b[38;5;124m\"\u001b[39m\u001b[38;5;124mAge cannot be negative\u001b[39m\u001b[38;5;124m\"\u001b[39m)\n",
      "\u001b[1;31mValueError\u001b[0m: Age cannot be negative"
     ]
    }
   ],
   "source": [
    "age = -5\n",
    "\n",
    "if age < 0:\n",
    "    raise ValueError(\"Age cannot be negative\")\n"
   ]
  },
  {
   "cell_type": "code",
   "execution_count": 42,
   "id": "be0e5d9e-9ebf-430f-963d-61c3b4a686dc",
   "metadata": {},
   "outputs": [
    {
     "ename": "SyntaxError",
     "evalue": "incomplete input (8880051.py, line 3)",
     "output_type": "error",
     "traceback": [
      "\u001b[1;36m  Cell \u001b[1;32mIn[42], line 3\u001b[1;36m\u001b[0m\n\u001b[1;33m    if age < 0:\u001b[0m\n\u001b[1;37m               ^\u001b[0m\n\u001b[1;31mSyntaxError\u001b[0m\u001b[1;31m:\u001b[0m incomplete input\n"
     ]
    }
   ],
   "source": [
    "age = -5\n",
    "\n",
    "if age < 0:"
   ]
  },
  {
   "cell_type": "code",
   "execution_count": 43,
   "id": "b3706138-aae8-4fbc-8122-d56c9201fa52",
   "metadata": {},
   "outputs": [],
   "source": [
    "age = 5\n",
    "\n",
    "if age < 0:\n",
    "    raise ValueError(\"Age cannot be negative\")"
   ]
  },
  {
   "cell_type": "code",
   "execution_count": 44,
   "id": "45cc972c-ca6c-4ab9-97dc-413d1d655da5",
   "metadata": {},
   "outputs": [],
   "source": [
    "def check_salary(salary):\n",
    "    if salary < 0:\n",
    "        raise ValueError(\"Salary cannot be negative\")"
   ]
  },
  {
   "cell_type": "code",
   "execution_count": 48,
   "id": "9816ae3f-aa94-4f17-b5f7-f4af81fc51da",
   "metadata": {},
   "outputs": [
    {
     "name": "stdout",
     "output_type": "stream",
     "text": [
      "Error: Salary cannot be negative\n"
     ]
    }
   ],
   "source": [
    "try:\n",
    "    check_salary(-10000)\n",
    "except ValueError as e:\n",
    "    print(\"Error:\", e)"
   ]
  },
  {
   "cell_type": "code",
   "execution_count": 52,
   "id": "8e4f5a00-2e75-4900-a193-e46584d32ab1",
   "metadata": {},
   "outputs": [],
   "source": [
    "if 5 < 0:\n",
    "    print(5)"
   ]
  },
  {
   "cell_type": "code",
   "execution_count": null,
   "id": "5c071778-a6b5-4a72-b868-2a861d4f5dbb",
   "metadata": {},
   "outputs": [],
   "source": []
  }
 ],
 "metadata": {
  "kernelspec": {
   "display_name": "Python 3 (ipykernel)",
   "language": "python",
   "name": "python3"
  },
  "language_info": {
   "codemirror_mode": {
    "name": "ipython",
    "version": 3
   },
   "file_extension": ".py",
   "mimetype": "text/x-python",
   "name": "python",
   "nbconvert_exporter": "python",
   "pygments_lexer": "ipython3",
   "version": "3.11.7"
  }
 },
 "nbformat": 4,
 "nbformat_minor": 5
}
